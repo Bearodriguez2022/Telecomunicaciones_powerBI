{
 "cells": [
  {
   "attachments": {},
   "cell_type": "markdown",
   "metadata": {},
   "source": [
    "Analisis Exploratorio de Datos Telecomunicaciones"
   ]
  },
  {
   "cell_type": "code",
   "execution_count": 1,
   "metadata": {},
   "outputs": [],
   "source": [
    "import pandas as pd \n",
    "import numpy as np\n",
    "import seaborn as sns\n",
    "import matplotlib.pyplot as plt"
   ]
  },
  {
   "attachments": {},
   "cell_type": "markdown",
   "metadata": {},
   "source": [
    "Los archivos furon descargados de la pagina https://datosabiertos.enacom.gob.ar/dashboards/20000/acceso-a-internet/"
   ]
  },
  {
   "cell_type": "code",
   "execution_count": 3,
   "metadata": {},
   "outputs": [],
   "source": [
    "I_tecyloc = pd.read_csv('F:\\PI_2\\DATA_PI2\\AccesosaInternetfijoportecnologiaylocalidad_2791751681952123859.csv')\n",
    "I_portec= pd.read_csv('F:\\PI_2\\DATA_PI2\\Internet_Accesos-por-tecnologia.csv')\n",
    "I_BaF = pd.read_csv('F:\\PI_2\\DATA_PI2\\Internet_BAF.csv')\n",
    "I_loc_conint = pd.read_csv('F:\\PI_2\\DATA_PI2\\Listadodelocalidadesconconectividadainternet_2750221681952192754.csv')"
   ]
  },
  {
   "cell_type": "code",
   "execution_count": 9,
   "metadata": {},
   "outputs": [
    {
     "data": {
      "text/html": [
       "<div>\n",
       "<style scoped>\n",
       "    .dataframe tbody tr th:only-of-type {\n",
       "        vertical-align: middle;\n",
       "    }\n",
       "\n",
       "    .dataframe tbody tr th {\n",
       "        vertical-align: top;\n",
       "    }\n",
       "\n",
       "    .dataframe thead th {\n",
       "        text-align: right;\n",
       "    }\n",
       "</style>\n",
       "<table border=\"1\" class=\"dataframe\">\n",
       "  <thead>\n",
       "    <tr style=\"text-align: right;\">\n",
       "      <th></th>\n",
       "      <th>Año</th>\n",
       "      <th>Trimestre</th>\n",
       "      <th>Banda ancha fija</th>\n",
       "      <th>Dial up</th>\n",
       "      <th>Total</th>\n",
       "      <th>Periodo</th>\n",
       "    </tr>\n",
       "  </thead>\n",
       "  <tbody>\n",
       "    <tr>\n",
       "      <th>0</th>\n",
       "      <td>2022</td>\n",
       "      <td>3</td>\n",
       "      <td>11.078.691</td>\n",
       "      <td>12.437</td>\n",
       "      <td>11.091.128</td>\n",
       "      <td>Jul-Sept 2022</td>\n",
       "    </tr>\n",
       "    <tr>\n",
       "      <th>1</th>\n",
       "      <td>2022</td>\n",
       "      <td>2</td>\n",
       "      <td>10.946.248</td>\n",
       "      <td>12.436</td>\n",
       "      <td>10.958.684</td>\n",
       "      <td>Abr-Jun 2022</td>\n",
       "    </tr>\n",
       "    <tr>\n",
       "      <th>2</th>\n",
       "      <td>2022</td>\n",
       "      <td>1</td>\n",
       "      <td>10.611.390</td>\n",
       "      <td>12.619</td>\n",
       "      <td>10.624.009</td>\n",
       "      <td>Ene-Mar 2022</td>\n",
       "    </tr>\n",
       "    <tr>\n",
       "      <th>3</th>\n",
       "      <td>2021</td>\n",
       "      <td>4</td>\n",
       "      <td>10.476.933</td>\n",
       "      <td>12.861</td>\n",
       "      <td>10.489.794</td>\n",
       "      <td>Oct-Dic 2021</td>\n",
       "    </tr>\n",
       "    <tr>\n",
       "      <th>4</th>\n",
       "      <td>2021</td>\n",
       "      <td>3</td>\n",
       "      <td>10.075.184</td>\n",
       "      <td>10.357</td>\n",
       "      <td>10.085.541</td>\n",
       "      <td>Jul-Sept 2021</td>\n",
       "    </tr>\n",
       "  </tbody>\n",
       "</table>\n",
       "</div>"
      ],
      "text/plain": [
       "    Año  Trimestre Banda ancha fija  Dial up       Total        Periodo\n",
       "0  2022          3       11.078.691   12.437  11.091.128  Jul-Sept 2022\n",
       "1  2022          2       10.946.248   12.436  10.958.684   Abr-Jun 2022\n",
       "2  2022          1       10.611.390   12.619  10.624.009   Ene-Mar 2022\n",
       "3  2021          4       10.476.933   12.861  10.489.794   Oct-Dic 2021\n",
       "4  2021          3       10.075.184   10.357  10.085.541  Jul-Sept 2021"
      ]
     },
     "execution_count": 9,
     "metadata": {},
     "output_type": "execute_result"
    }
   ],
   "source": [
    "I_BaF.head()"
   ]
  },
  {
   "cell_type": "code",
   "execution_count": 10,
   "metadata": {},
   "outputs": [
    {
     "data": {
      "text/html": [
       "<div>\n",
       "<style scoped>\n",
       "    .dataframe tbody tr th:only-of-type {\n",
       "        vertical-align: middle;\n",
       "    }\n",
       "\n",
       "    .dataframe tbody tr th {\n",
       "        vertical-align: top;\n",
       "    }\n",
       "\n",
       "    .dataframe thead th {\n",
       "        text-align: right;\n",
       "    }\n",
       "</style>\n",
       "<table border=\"1\" class=\"dataframe\">\n",
       "  <thead>\n",
       "    <tr style=\"text-align: right;\">\n",
       "      <th></th>\n",
       "      <th>Provincia</th>\n",
       "      <th>Partido</th>\n",
       "      <th>Localidad</th>\n",
       "      <th>ADSL</th>\n",
       "      <th>CABLEMODEM</th>\n",
       "      <th>DIALUP</th>\n",
       "      <th>FIBRAOPTICA</th>\n",
       "      <th>4G</th>\n",
       "      <th>3G</th>\n",
       "      <th>TELEFONIAFIJA</th>\n",
       "      <th>WIRELESS</th>\n",
       "      <th>SATELITAL</th>\n",
       "    </tr>\n",
       "  </thead>\n",
       "  <tbody>\n",
       "    <tr>\n",
       "      <th>0</th>\n",
       "      <td>BUENOS AIRES</td>\n",
       "      <td>Bahía Blanca</td>\n",
       "      <td>Villa Bordeau</td>\n",
       "      <td>--</td>\n",
       "      <td>--</td>\n",
       "      <td>--</td>\n",
       "      <td>--</td>\n",
       "      <td>SI</td>\n",
       "      <td>SI</td>\n",
       "      <td>--</td>\n",
       "      <td>--</td>\n",
       "      <td>--</td>\n",
       "    </tr>\n",
       "    <tr>\n",
       "      <th>1</th>\n",
       "      <td>BUENOS AIRES</td>\n",
       "      <td>Bahía Blanca</td>\n",
       "      <td>Villa Espora</td>\n",
       "      <td>--</td>\n",
       "      <td>--</td>\n",
       "      <td>--</td>\n",
       "      <td>--</td>\n",
       "      <td>--</td>\n",
       "      <td>--</td>\n",
       "      <td>--</td>\n",
       "      <td>--</td>\n",
       "      <td>--</td>\n",
       "    </tr>\n",
       "    <tr>\n",
       "      <th>2</th>\n",
       "      <td>BUENOS AIRES</td>\n",
       "      <td>Balcarce</td>\n",
       "      <td>Balcarce</td>\n",
       "      <td>SI</td>\n",
       "      <td>SI</td>\n",
       "      <td>SI</td>\n",
       "      <td>SI</td>\n",
       "      <td>SI</td>\n",
       "      <td>SI</td>\n",
       "      <td>SI</td>\n",
       "      <td>SI</td>\n",
       "      <td>--</td>\n",
       "    </tr>\n",
       "    <tr>\n",
       "      <th>3</th>\n",
       "      <td>BUENOS AIRES</td>\n",
       "      <td>Balcarce</td>\n",
       "      <td>Los Pinos</td>\n",
       "      <td>--</td>\n",
       "      <td>--</td>\n",
       "      <td>--</td>\n",
       "      <td>--</td>\n",
       "      <td>--</td>\n",
       "      <td>--</td>\n",
       "      <td>SI</td>\n",
       "      <td>SI</td>\n",
       "      <td>--</td>\n",
       "    </tr>\n",
       "    <tr>\n",
       "      <th>4</th>\n",
       "      <td>BUENOS AIRES</td>\n",
       "      <td>Balcarce</td>\n",
       "      <td>Napaleofú</td>\n",
       "      <td>--</td>\n",
       "      <td>--</td>\n",
       "      <td>--</td>\n",
       "      <td>SI</td>\n",
       "      <td>SI</td>\n",
       "      <td>SI</td>\n",
       "      <td>SI</td>\n",
       "      <td>SI</td>\n",
       "      <td>--</td>\n",
       "    </tr>\n",
       "  </tbody>\n",
       "</table>\n",
       "</div>"
      ],
      "text/plain": [
       "      Provincia       Partido      Localidad ADSL CABLEMODEM DIALUP  \\\n",
       "0  BUENOS AIRES  Bahía Blanca  Villa Bordeau   --         --     --   \n",
       "1  BUENOS AIRES  Bahía Blanca   Villa Espora   --         --     --   \n",
       "2  BUENOS AIRES      Balcarce       Balcarce   SI         SI     SI   \n",
       "3  BUENOS AIRES      Balcarce      Los Pinos   --         --     --   \n",
       "4  BUENOS AIRES      Balcarce      Napaleofú   --         --     --   \n",
       "\n",
       "  FIBRAOPTICA  4G  3G TELEFONIAFIJA WIRELESS SATELITAL  \n",
       "0          --  SI  SI            --       --        --  \n",
       "1          --  --  --            --       --        --  \n",
       "2          SI  SI  SI            SI       SI        --  \n",
       "3          --  --  --            SI       SI        --  \n",
       "4          SI  SI  SI            SI       SI        --  "
      ]
     },
     "execution_count": 10,
     "metadata": {},
     "output_type": "execute_result"
    }
   ],
   "source": [
    "I_loc_conint.head()"
   ]
  },
  {
   "attachments": {},
   "cell_type": "markdown",
   "metadata": {},
   "source": [
    "Analisis de Accesosa Internet por tecnologia y localidad"
   ]
  },
  {
   "cell_type": "code",
   "execution_count": 3,
   "metadata": {},
   "outputs": [
    {
     "name": "stdout",
     "output_type": "stream",
     "text": [
      "<class 'pandas.core.frame.DataFrame'>\n",
      "RangeIndex: 3142 entries, 0 to 3141\n",
      "Data columns (total 14 columns):\n",
      " #   Column         Non-Null Count  Dtype  \n",
      "---  ------         --------------  -----  \n",
      " 0   Provincia      3142 non-null   object \n",
      " 1   Partido        3142 non-null   object \n",
      " 2   Localidad      3142 non-null   object \n",
      " 3   Link Indec     3142 non-null   object \n",
      " 4   ADSL           3142 non-null   object \n",
      " 5   CABLEMODEM     3142 non-null   object \n",
      " 6   DIAL UP        3142 non-null   object \n",
      " 7   FIBRA OPTICA   3142 non-null   object \n",
      " 8   OTROS          3142 non-null   object \n",
      " 9   SATELITAL      3142 non-null   object \n",
      " 10  WIMAX          3142 non-null   object \n",
      " 11  WIRELESS       3142 non-null   object \n",
      " 12  Total general  3142 non-null   object \n",
      " 13  Unnamed: 13    0 non-null      float64\n",
      "dtypes: float64(1), object(13)\n",
      "memory usage: 343.8+ KB\n"
     ]
    }
   ],
   "source": [
    "I_tecyloc.info()"
   ]
  },
  {
   "cell_type": "code",
   "execution_count": 126,
   "metadata": {},
   "outputs": [],
   "source": [
    "#convierto todo a minusculas para trabajar con mas comodidad\n",
    "I_tecyloc = I_tecyloc.apply(lambda x: x.astype(str).str.lower() if x.dtype == 'object' else x)"
   ]
  },
  {
   "cell_type": "code",
   "execution_count": 127,
   "metadata": {},
   "outputs": [],
   "source": [
    "#cambio tambien los nombres de columnas\n",
    "I_tecyloc= I_tecyloc.rename(columns=lambda x: x.lower())"
   ]
  },
  {
   "cell_type": "code",
   "execution_count": 128,
   "metadata": {},
   "outputs": [
    {
     "data": {
      "text/html": [
       "<div>\n",
       "<style scoped>\n",
       "    .dataframe tbody tr th:only-of-type {\n",
       "        vertical-align: middle;\n",
       "    }\n",
       "\n",
       "    .dataframe tbody tr th {\n",
       "        vertical-align: top;\n",
       "    }\n",
       "\n",
       "    .dataframe thead th {\n",
       "        text-align: right;\n",
       "    }\n",
       "</style>\n",
       "<table border=\"1\" class=\"dataframe\">\n",
       "  <thead>\n",
       "    <tr style=\"text-align: right;\">\n",
       "      <th></th>\n",
       "      <th>provincia</th>\n",
       "      <th>partido</th>\n",
       "      <th>localidad</th>\n",
       "      <th>link indec</th>\n",
       "      <th>adsl</th>\n",
       "      <th>cablemodem</th>\n",
       "      <th>dial up</th>\n",
       "      <th>fibra optica</th>\n",
       "      <th>otros</th>\n",
       "      <th>satelital</th>\n",
       "      <th>wimax</th>\n",
       "      <th>wireless</th>\n",
       "      <th>total general</th>\n",
       "    </tr>\n",
       "  </thead>\n",
       "  <tbody>\n",
       "    <tr>\n",
       "      <th>count</th>\n",
       "      <td>3142</td>\n",
       "      <td>3142</td>\n",
       "      <td>3142</td>\n",
       "      <td>3142</td>\n",
       "      <td>3142</td>\n",
       "      <td>3142</td>\n",
       "      <td>3142</td>\n",
       "      <td>3142</td>\n",
       "      <td>3142</td>\n",
       "      <td>3142</td>\n",
       "      <td>3142</td>\n",
       "      <td>3142</td>\n",
       "      <td>3142</td>\n",
       "    </tr>\n",
       "    <tr>\n",
       "      <th>unique</th>\n",
       "      <td>24</td>\n",
       "      <td>432</td>\n",
       "      <td>2850</td>\n",
       "      <td>2718</td>\n",
       "      <td>724</td>\n",
       "      <td>693</td>\n",
       "      <td>86</td>\n",
       "      <td>706</td>\n",
       "      <td>219</td>\n",
       "      <td>24</td>\n",
       "      <td>12</td>\n",
       "      <td>606</td>\n",
       "      <td>1348</td>\n",
       "    </tr>\n",
       "    <tr>\n",
       "      <th>top</th>\n",
       "      <td>buenos aires</td>\n",
       "      <td>general roca</td>\n",
       "      <td>otros</td>\n",
       "      <td>sin datos</td>\n",
       "      <td>- 0</td>\n",
       "      <td>- 0</td>\n",
       "      <td>- 0</td>\n",
       "      <td>- 0</td>\n",
       "      <td>- 0</td>\n",
       "      <td>- 0</td>\n",
       "      <td>- 0</td>\n",
       "      <td>- 0</td>\n",
       "      <td>1</td>\n",
       "    </tr>\n",
       "    <tr>\n",
       "      <th>freq</th>\n",
       "      <td>716</td>\n",
       "      <td>57</td>\n",
       "      <td>69</td>\n",
       "      <td>72</td>\n",
       "      <td>2016</td>\n",
       "      <td>2295</td>\n",
       "      <td>2760</td>\n",
       "      <td>1743</td>\n",
       "      <td>2537</td>\n",
       "      <td>2089</td>\n",
       "      <td>3131</td>\n",
       "      <td>934</td>\n",
       "      <td>193</td>\n",
       "    </tr>\n",
       "  </tbody>\n",
       "</table>\n",
       "</div>"
      ],
      "text/plain": [
       "           provincia       partido localidad link indec  adsl cablemodem  \\\n",
       "count           3142          3142      3142       3142  3142       3142   \n",
       "unique            24           432      2850       2718   724        693   \n",
       "top     buenos aires  general roca     otros  sin datos   - 0        - 0   \n",
       "freq             716            57        69         72  2016       2295   \n",
       "\n",
       "       dial up fibra optica otros satelital wimax wireless total general  \n",
       "count     3142         3142  3142      3142  3142     3142          3142  \n",
       "unique      86          706   219        24    12      606          1348  \n",
       "top        - 0          - 0   - 0       - 0   - 0      - 0             1  \n",
       "freq      2760         1743  2537      2089  3131      934           193  "
      ]
     },
     "execution_count": 128,
     "metadata": {},
     "output_type": "execute_result"
    }
   ],
   "source": [
    "I_tecyloc.describe(exclude='number')"
   ]
  },
  {
   "attachments": {},
   "cell_type": "markdown",
   "metadata": {},
   "source": [
    "Se puede observar el analisis en 24 provincias, donde la mayor concentranción esta en Bs. As, en el partido de gral. Roca donde el Internet que mas utilizan es adsl."
   ]
  },
  {
   "cell_type": "code",
   "execution_count": 125,
   "metadata": {},
   "outputs": [
    {
     "ename": "KeyError",
     "evalue": "'unnamed: 13'",
     "output_type": "error",
     "traceback": [
      "\u001b[1;31m---------------------------------------------------------------------------\u001b[0m",
      "\u001b[1;31mKeyError\u001b[0m                                  Traceback (most recent call last)",
      "File \u001b[1;32mc:\\Users\\alumno\\AppData\\Local\\Programs\\Python\\Python310\\lib\\site-packages\\pandas\\core\\indexes\\base.py:3800\u001b[0m, in \u001b[0;36mIndex.get_loc\u001b[1;34m(self, key, method, tolerance)\u001b[0m\n\u001b[0;32m   3799\u001b[0m \u001b[39mtry\u001b[39;00m:\n\u001b[1;32m-> 3800\u001b[0m     \u001b[39mreturn\u001b[39;00m \u001b[39mself\u001b[39;49m\u001b[39m.\u001b[39;49m_engine\u001b[39m.\u001b[39;49mget_loc(casted_key)\n\u001b[0;32m   3801\u001b[0m \u001b[39mexcept\u001b[39;00m \u001b[39mKeyError\u001b[39;00m \u001b[39mas\u001b[39;00m err:\n",
      "File \u001b[1;32mc:\\Users\\alumno\\AppData\\Local\\Programs\\Python\\Python310\\lib\\site-packages\\pandas\\_libs\\index.pyx:138\u001b[0m, in \u001b[0;36mpandas._libs.index.IndexEngine.get_loc\u001b[1;34m()\u001b[0m\n",
      "File \u001b[1;32mc:\\Users\\alumno\\AppData\\Local\\Programs\\Python\\Python310\\lib\\site-packages\\pandas\\_libs\\index.pyx:165\u001b[0m, in \u001b[0;36mpandas._libs.index.IndexEngine.get_loc\u001b[1;34m()\u001b[0m\n",
      "File \u001b[1;32mpandas\\_libs\\hashtable_class_helper.pxi:5745\u001b[0m, in \u001b[0;36mpandas._libs.hashtable.PyObjectHashTable.get_item\u001b[1;34m()\u001b[0m\n",
      "File \u001b[1;32mpandas\\_libs\\hashtable_class_helper.pxi:5753\u001b[0m, in \u001b[0;36mpandas._libs.hashtable.PyObjectHashTable.get_item\u001b[1;34m()\u001b[0m\n",
      "\u001b[1;31mKeyError\u001b[0m: 'unnamed: 13'",
      "\nThe above exception was the direct cause of the following exception:\n",
      "\u001b[1;31mKeyError\u001b[0m                                  Traceback (most recent call last)",
      "\u001b[1;32mf:\\PI_2\\EDA.ipynb Celda 13\u001b[0m in \u001b[0;36m<cell line: 2>\u001b[1;34m()\u001b[0m\n\u001b[0;32m      <a href='vscode-notebook-cell:/f%3A/PI_2/EDA.ipynb#X13sZmlsZQ%3D%3D?line=0'>1</a>\u001b[0m \u001b[39m#analizo unnamed \u001b[39;00m\n\u001b[1;32m----> <a href='vscode-notebook-cell:/f%3A/PI_2/EDA.ipynb#X13sZmlsZQ%3D%3D?line=1'>2</a>\u001b[0m I_tecyloc[\u001b[39m'\u001b[39;49m\u001b[39munnamed: 13\u001b[39;49m\u001b[39m'\u001b[39;49m]\u001b[39m.\u001b[39mdescribe()\n",
      "File \u001b[1;32mc:\\Users\\alumno\\AppData\\Local\\Programs\\Python\\Python310\\lib\\site-packages\\pandas\\core\\frame.py:3805\u001b[0m, in \u001b[0;36mDataFrame.__getitem__\u001b[1;34m(self, key)\u001b[0m\n\u001b[0;32m   3803\u001b[0m \u001b[39mif\u001b[39;00m \u001b[39mself\u001b[39m\u001b[39m.\u001b[39mcolumns\u001b[39m.\u001b[39mnlevels \u001b[39m>\u001b[39m \u001b[39m1\u001b[39m:\n\u001b[0;32m   3804\u001b[0m     \u001b[39mreturn\u001b[39;00m \u001b[39mself\u001b[39m\u001b[39m.\u001b[39m_getitem_multilevel(key)\n\u001b[1;32m-> 3805\u001b[0m indexer \u001b[39m=\u001b[39m \u001b[39mself\u001b[39;49m\u001b[39m.\u001b[39;49mcolumns\u001b[39m.\u001b[39;49mget_loc(key)\n\u001b[0;32m   3806\u001b[0m \u001b[39mif\u001b[39;00m is_integer(indexer):\n\u001b[0;32m   3807\u001b[0m     indexer \u001b[39m=\u001b[39m [indexer]\n",
      "File \u001b[1;32mc:\\Users\\alumno\\AppData\\Local\\Programs\\Python\\Python310\\lib\\site-packages\\pandas\\core\\indexes\\base.py:3802\u001b[0m, in \u001b[0;36mIndex.get_loc\u001b[1;34m(self, key, method, tolerance)\u001b[0m\n\u001b[0;32m   3800\u001b[0m     \u001b[39mreturn\u001b[39;00m \u001b[39mself\u001b[39m\u001b[39m.\u001b[39m_engine\u001b[39m.\u001b[39mget_loc(casted_key)\n\u001b[0;32m   3801\u001b[0m \u001b[39mexcept\u001b[39;00m \u001b[39mKeyError\u001b[39;00m \u001b[39mas\u001b[39;00m err:\n\u001b[1;32m-> 3802\u001b[0m     \u001b[39mraise\u001b[39;00m \u001b[39mKeyError\u001b[39;00m(key) \u001b[39mfrom\u001b[39;00m \u001b[39merr\u001b[39;00m\n\u001b[0;32m   3803\u001b[0m \u001b[39mexcept\u001b[39;00m \u001b[39mTypeError\u001b[39;00m:\n\u001b[0;32m   3804\u001b[0m     \u001b[39m# If we have a listlike key, _check_indexing_error will raise\u001b[39;00m\n\u001b[0;32m   3805\u001b[0m     \u001b[39m#  InvalidIndexError. Otherwise we fall through and re-raise\u001b[39;00m\n\u001b[0;32m   3806\u001b[0m     \u001b[39m#  the TypeError.\u001b[39;00m\n\u001b[0;32m   3807\u001b[0m     \u001b[39mself\u001b[39m\u001b[39m.\u001b[39m_check_indexing_error(key)\n",
      "\u001b[1;31mKeyError\u001b[0m: 'unnamed: 13'"
     ]
    }
   ],
   "source": [
    "#analizo unnamed \n",
    "I_tecyloc['unnamed: 13'].describe()"
   ]
  },
  {
   "cell_type": "code",
   "execution_count": 65,
   "metadata": {},
   "outputs": [
    {
     "data": {
      "text/plain": [
       "(3142,)"
      ]
     },
     "execution_count": 65,
     "metadata": {},
     "output_type": "execute_result"
    }
   ],
   "source": [
    "I_tecyloc['unnamed: 13'].shape"
   ]
  },
  {
   "cell_type": "code",
   "execution_count": 66,
   "metadata": {},
   "outputs": [
    {
     "data": {
      "text/plain": [
       "3142"
      ]
     },
     "execution_count": 66,
     "metadata": {},
     "output_type": "execute_result"
    }
   ],
   "source": [
    "I_tecyloc['unnamed: 13'].isna().sum()"
   ]
  },
  {
   "cell_type": "code",
   "execution_count": 69,
   "metadata": {},
   "outputs": [],
   "source": [
    "#considero irrelevante ya que todos sus valores son nan, por lo tanto la borro\n",
    "I_tecyloc = I_tecyloc.drop(columns= 'unnamed: 13')"
   ]
  },
  {
   "cell_type": "code",
   "execution_count": 70,
   "metadata": {},
   "outputs": [
    {
     "data": {
      "text/html": [
       "<div>\n",
       "<style scoped>\n",
       "    .dataframe tbody tr th:only-of-type {\n",
       "        vertical-align: middle;\n",
       "    }\n",
       "\n",
       "    .dataframe tbody tr th {\n",
       "        vertical-align: top;\n",
       "    }\n",
       "\n",
       "    .dataframe thead th {\n",
       "        text-align: right;\n",
       "    }\n",
       "</style>\n",
       "<table border=\"1\" class=\"dataframe\">\n",
       "  <thead>\n",
       "    <tr style=\"text-align: right;\">\n",
       "      <th></th>\n",
       "      <th>provincia</th>\n",
       "      <th>partido</th>\n",
       "      <th>localidad</th>\n",
       "      <th>link indec</th>\n",
       "      <th>adsl</th>\n",
       "      <th>cablemodem</th>\n",
       "      <th>dial up</th>\n",
       "      <th>fibra optica</th>\n",
       "      <th>otros</th>\n",
       "      <th>satelital</th>\n",
       "      <th>wimax</th>\n",
       "      <th>wireless</th>\n",
       "      <th>total general</th>\n",
       "      <th>adls</th>\n",
       "      <th>total_tecnologias</th>\n",
       "    </tr>\n",
       "  </thead>\n",
       "  <tbody>\n",
       "    <tr>\n",
       "      <th>0</th>\n",
       "      <td>buenos aires</td>\n",
       "      <td>25 de mayo</td>\n",
       "      <td>25 de mayo</td>\n",
       "      <td>6854100</td>\n",
       "      <td>873</td>\n",
       "      <td>4704.0</td>\n",
       "      <td>0.0</td>\n",
       "      <td>2.0</td>\n",
       "      <td>- 0</td>\n",
       "      <td>975.0</td>\n",
       "      <td>0.0</td>\n",
       "      <td>664.0</td>\n",
       "      <td>7218.0</td>\n",
       "      <td>873.0</td>\n",
       "      <td>8734704.00.02.0- 0975.00.0664.0</td>\n",
       "    </tr>\n",
       "    <tr>\n",
       "      <th>1</th>\n",
       "      <td>buenos aires</td>\n",
       "      <td>25 de mayo</td>\n",
       "      <td>del valle</td>\n",
       "      <td>6854020</td>\n",
       "      <td>181</td>\n",
       "      <td>0.0</td>\n",
       "      <td>0.0</td>\n",
       "      <td>0.0</td>\n",
       "      <td>10</td>\n",
       "      <td>1.0</td>\n",
       "      <td>0.0</td>\n",
       "      <td>0.0</td>\n",
       "      <td>192.0</td>\n",
       "      <td>181.0</td>\n",
       "      <td>1810.00.00.0101.00.00.0</td>\n",
       "    </tr>\n",
       "  </tbody>\n",
       "</table>\n",
       "</div>"
      ],
      "text/plain": [
       "      provincia     partido   localidad link indec adsl cablemodem dial up  \\\n",
       "0  buenos aires  25 de mayo  25 de mayo    6854100  873     4704.0     0.0   \n",
       "1  buenos aires  25 de mayo   del valle    6854020  181        0.0     0.0   \n",
       "\n",
       "  fibra optica otros satelital wimax wireless  total general   adls  \\\n",
       "0          2.0   - 0     975.0   0.0    664.0         7218.0  873.0   \n",
       "1          0.0    10       1.0   0.0      0.0          192.0  181.0   \n",
       "\n",
       "                 total_tecnologias  \n",
       "0  8734704.00.02.0- 0975.00.0664.0  \n",
       "1          1810.00.00.0101.00.00.0  "
      ]
     },
     "execution_count": 70,
     "metadata": {},
     "output_type": "execute_result"
    }
   ],
   "source": [
    "I_tecyloc.head(2)"
   ]
  },
  {
   "attachments": {},
   "cell_type": "markdown",
   "metadata": {},
   "source": [
    "Analisis Para variables numericas de I_tecyloc(acceso internet por localidad) :"
   ]
  },
  {
   "attachments": {},
   "cell_type": "markdown",
   "metadata": {},
   "source": [
    "Transformo las columnas que contienen valores numericos porque estan como 'o'. Estan columnas son: link indec, cablemodem,\tdial up,\tfibra optica,\totros,\tsatelital,\twimax,\twireless,\ttotal general"
   ]
  },
  {
   "cell_type": "code",
   "execution_count": 7,
   "metadata": {},
   "outputs": [],
   "source": [
    "I_tecyloc['adsl'] = I_tecyloc['adsl'].replace('- 0','0')"
   ]
  },
  {
   "cell_type": "code",
   "execution_count": 8,
   "metadata": {},
   "outputs": [],
   "source": [
    "I_tecyloc['adls'] = I_tecyloc['adsl'].astype(float)"
   ]
  },
  {
   "cell_type": "code",
   "execution_count": 14,
   "metadata": {},
   "outputs": [
    {
     "name": "stderr",
     "output_type": "stream",
     "text": [
      "C:\\Users\\alumno\\AppData\\Local\\Temp\\ipykernel_5480\\190769991.py:2: FutureWarning: The default value of regex will change from True to False in a future version. In addition, single character regular expressions will *not* be treated as literal strings when regex=True.\n",
      "  I_tecyloc['cablemodem'] = I_tecyloc['cablemodem'].str.replace('.','')\n"
     ]
    }
   ],
   "source": [
    "I_tecyloc['cablemodem'] = I_tecyloc['cablemodem'].replace('- 0','0')\n",
    "I_tecyloc['cablemodem'] = I_tecyloc['cablemodem'].str.replace('.','')\n",
    "I_tecyloc['cablemodem'] = I_tecyloc['cablemodem'].astype(float)"
   ]
  },
  {
   "cell_type": "code",
   "execution_count": 17,
   "metadata": {},
   "outputs": [],
   "source": [
    "I_tecyloc['dial up'] = I_tecyloc['dial up'].replace('- 0','0')\n",
    "I_tecyloc['dial up'] = I_tecyloc['dial up'].astype(float)"
   ]
  },
  {
   "cell_type": "code",
   "execution_count": 19,
   "metadata": {},
   "outputs": [],
   "source": [
    "I_tecyloc['fibra optica'] = I_tecyloc['fibra optica'].replace('- 0','0')\n",
    "I_tecyloc['fibra optica'] = I_tecyloc['fibra optica'].astype(float)"
   ]
  },
  {
   "cell_type": "code",
   "execution_count": 21,
   "metadata": {},
   "outputs": [],
   "source": [
    "I_tecyloc['satelital'] = I_tecyloc['satelital'].replace('- 0','0')\n",
    "I_tecyloc['satelital'] = I_tecyloc['satelital'].astype(float)"
   ]
  },
  {
   "cell_type": "code",
   "execution_count": 23,
   "metadata": {},
   "outputs": [],
   "source": [
    "I_tecyloc['wimax'] = I_tecyloc['wimax'].replace('- 0','0')\n",
    "I_tecyloc['wimax'] = I_tecyloc['wimax'].astype(float)"
   ]
  },
  {
   "cell_type": "code",
   "execution_count": 25,
   "metadata": {},
   "outputs": [],
   "source": [
    "I_tecyloc['wireless'] = I_tecyloc['wireless'].replace('- 0','0')\n",
    "I_tecyloc['wireless'] = I_tecyloc['wireless'].astype(float)"
   ]
  },
  {
   "cell_type": "code",
   "execution_count": 26,
   "metadata": {},
   "outputs": [
    {
     "name": "stderr",
     "output_type": "stream",
     "text": [
      "C:\\Users\\alumno\\AppData\\Local\\Temp\\ipykernel_5480\\1458107848.py:2: FutureWarning: The default value of regex will change from True to False in a future version. In addition, single character regular expressions will *not* be treated as literal strings when regex=True.\n",
      "  I_tecyloc['total general'] = I_tecyloc['total general'].str.replace('.', '')\n"
     ]
    }
   ],
   "source": [
    "I_tecyloc['total general'] = I_tecyloc['total general'].replace('- 0','0')\n",
    "I_tecyloc['total general'] = I_tecyloc['total general'].str.replace('.', '')\n",
    "I_tecyloc['total general'] = I_tecyloc['total general'].astype(float)"
   ]
  },
  {
   "cell_type": "code",
   "execution_count": 55,
   "metadata": {},
   "outputs": [
    {
     "name": "stdout",
     "output_type": "stream",
     "text": [
      "La columna con el valor máximo es: adls\n"
     ]
    }
   ],
   "source": [
    "# Obtener estadísticas descriptivas de todas las columnas numéricas\n",
    "stats = I_tecyloc[['link indec', 'adsl', 'cablemodem',\n",
    "       'dial up', 'fibra optica', 'otros', 'satelital', 'wimax', 'wireless', 'adls', ]].describe(include=[np.number])\n",
    "\n",
    "# Obtener la fila correspondiente al valor máximo de cada columna\n",
    "max_values = stats.loc['max']\n",
    "\n",
    "# Obtener el nombre de la columna con el valor máximo\n",
    "max_column = max_values.idxmax()\n",
    "\n",
    "print(\"La columna con el valor máximo es:\", max_column)\n"
   ]
  },
  {
   "attachments": {},
   "cell_type": "markdown",
   "metadata": {},
   "source": [
    "La tecnologia mas utilizda en el pais es 'adls'"
   ]
  },
  {
   "cell_type": "code",
   "execution_count": 71,
   "metadata": {},
   "outputs": [
    {
     "name": "stderr",
     "output_type": "stream",
     "text": [
      "C:\\Users\\alumno\\AppData\\Local\\Temp\\ipykernel_5480\\621544461.py:15: FutureWarning: The default value of numeric_only in DataFrameGroupBy.sum is deprecated. In a future version, numeric_only will default to False. Either specify numeric_only or select only columns which should be valid for the function.\n",
      "  por_provincia = I_tecyloc.groupby('provincia').sum()#['total_tecnologias']\n"
     ]
    },
    {
     "data": {
      "image/png": "[encoded data removed]",
      "text/plain": [
       "<Figure size 576x864 with 1 Axes>"
      ]
     },
     "metadata": {
      "needs_background": "light"
     },
     "output_type": "display_data"
    }
   ],
   "source": [
    "\n",
    "# Obtener estadísticas descriptivas de todas las columnas numéricas\n",
    "stats = I_tecyloc[['link indec', 'adsl', 'cablemodem',\n",
    "       'dial up', 'fibra optica', 'otros', 'satelital', 'wimax', 'wireless', 'adls', ]].describe(include=[np.number])\n",
    "\n",
    "# Obtener la fila correspondiente al valor máximo de cada columna\n",
    "max_values = stats.loc['max']\n",
    "\n",
    "# Obtener el nombre de la columna con el valor máximo\n",
    "max_column = max_values.idxmax()\n",
    "\n",
    "#print(\"La columna con el valor máximo es:\", max_column)\n",
    "\n",
    "\n",
    "# agrupar por provincia y sumar la cantidad total de tecnologías utilizadas en cada provincia\n",
    "por_provincia = I_tecyloc.groupby('provincia').sum()#['total_tecnologias']\n",
    "\n",
    "# ordenar las provincias por la cantidad total de tecnologías utilizadas\n",
    "por_provincia = por_provincia.sort_values(max_column)\n",
    "\n",
    "# trazar un gráfico de barras para mostrar las cantidades\n",
    "por_provincia.plot(kind='barh', figsize=(8, 12), color='#86bf91', zorder=2)\n",
    "\n",
    "# añadir etiquetas y título\n",
    "plt.xlabel(' tecnologías  ADSL utilizadas')\n",
    "plt.title('Tecnologías ADSL utilizadas en el país')\n",
    "\n",
    "# mostrar el gráfico\n",
    "plt.show()\n"
   ]
  },
  {
   "attachments": {},
   "cell_type": "markdown",
   "metadata": {},
   "source": [
    "Para ver la distribución de una variable categórica en un DataFrame, se puede utilizar el método \"value_counts\" de pandas o \"countplot\" de seaborn:"
   ]
  },
  {
   "cell_type": "code",
   "execution_count": 65,
   "metadata": {},
   "outputs": [
    {
     "data": {
      "image/png": "[encoded data removed]",
      "text/plain": [
       "<Figure size 432x288 with 1 Axes>"
      ]
     },
     "metadata": {
      "needs_background": "light"
     },
     "output_type": "display_data"
    }
   ],
   "source": [
    "freq = I_tecyloc['provincia'].value_counts()\n",
    "plt.bar(freq.index, freq.values)\n",
    "plt.xticks(rotation=90)  # Rotamos los nombres en 90 grados\n",
    "plt.ylabel('Cant_Internet')\n",
    "plt.title('Cantidad de Internet por provincia')\n",
    "plt.show()\n"
   ]
  },
  {
   "attachments": {},
   "cell_type": "markdown",
   "metadata": {},
   "source": [
    "Análisis bivariado:\n",
    "\n",
    "Correlación entre variables numéricas:\n",
    "Para ver la correlación entre dos variables numéricas en un DataFrame, se puede utilizar el método \"corr\" de pandas o \"heatmap\" de seaborn"
   ]
  },
  {
   "cell_type": "code",
   "execution_count": 75,
   "metadata": {},
   "outputs": [
    {
     "name": "stderr",
     "output_type": "stream",
     "text": [
      "C:\\Users\\alumno\\AppData\\Local\\Temp\\ipykernel_5480\\3911404896.py:4: FutureWarning: The default value of numeric_only in DataFrame.corr is deprecated. In a future version, it will default to False. Select only valid columns or specify the value of numeric_only to silence this warning.\n",
      "  sns.heatmap(I_tecyloc.corr(), annot=True, cmap='coolwarm')\n"
     ]
    },
    {
     "data": {
      "image/png": "[encoded data removed]",
      "text/plain": [
       "<Figure size 720x576 with 2 Axes>"
      ]
     },
     "metadata": {
      "needs_background": "light"
     },
     "output_type": "display_data"
    }
   ],
   "source": [
    "plt.figure(figsize=(10, 8))  # Definimos el tamaño de la figura\n",
    "\n",
    "# Mapa de calor de correlación con seaborn\n",
    "sns.heatmap(I_tecyloc.corr(), annot=True, cmap='coolwarm')\n",
    "plt.show()"
   ]
  },
  {
   "attachments": {},
   "cell_type": "markdown",
   "metadata": {},
   "source": [
    "Correlación entre variables numéricas y categóricas:\n",
    "Para ver la correlación entre una variable numérica y una categórica en un DataFrame, se puede utilizar el método \"groupby\" de pandas o \"boxplot\" de seaborn:"
   ]
  },
  {
   "cell_type": "code",
   "execution_count": 78,
   "metadata": {},
   "outputs": [
    {
     "data": {
      "text/plain": [
       "3529.9579885423295"
      ]
     },
     "execution_count": 78,
     "metadata": {},
     "output_type": "execute_result"
    }
   ],
   "source": [
    "mean_total = I_tecyloc['total general'].mean()\n",
    "mean_total"
   ]
  },
  {
   "cell_type": "code",
   "execution_count": 77,
   "metadata": {},
   "outputs": [
    {
     "data": {
      "text/plain": [
       "provincia\n",
       "buenos aires           6.594508e+03\n",
       "caba                   1.547679e+06\n",
       "catamarca              9.762917e+02\n",
       "chaco                  1.947919e+03\n",
       "chubut                 2.631397e+03\n",
       "cordoba                2.636213e+03\n",
       "corrientes             2.228400e+03\n",
       "entre rios             1.793060e+03\n",
       "formosa                1.105452e+03\n",
       "jujuy                  1.250768e+03\n",
       "la pampa               1.415756e+03\n",
       "la rioja               1.158187e+03\n",
       "mendoza                1.996710e+03\n",
       "misiones               1.917442e+03\n",
       "neuquen                3.078509e+03\n",
       "rio negro              1.349227e+03\n",
       "salta                  1.662935e+03\n",
       "san juan               1.292487e+03\n",
       "san luis               1.258454e+03\n",
       "santa cruz             2.250455e+03\n",
       "santa fe               2.507938e+03\n",
       "santiago del estero    9.156308e+02\n",
       "tierra del fuego       7.699429e+03\n",
       "tucuman                3.869368e+03\n",
       "Name: total general, dtype: float64"
      ]
     },
     "execution_count": 77,
     "metadata": {},
     "output_type": "execute_result"
    }
   ],
   "source": [
    "media = I_tecyloc.groupby('provincia')['total general'].mean()\n",
    "media"
   ]
  },
  {
   "cell_type": "code",
   "execution_count": 80,
   "metadata": {},
   "outputs": [
    {
     "data": {
      "text/plain": [
       "[Text(0, 0, 'buenos aires'),\n",
       " Text(1, 0, 'caba'),\n",
       " Text(2, 0, 'catamarca'),\n",
       " Text(3, 0, 'chaco'),\n",
       " Text(4, 0, 'chubut'),\n",
       " Text(5, 0, 'cordoba'),\n",
       " Text(6, 0, 'corrientes'),\n",
       " Text(7, 0, 'entre rios'),\n",
       " Text(8, 0, 'formosa'),\n",
       " Text(9, 0, 'jujuy'),\n",
       " Text(10, 0, 'la pampa'),\n",
       " Text(11, 0, 'la rioja'),\n",
       " Text(12, 0, 'mendoza'),\n",
       " Text(13, 0, 'misiones'),\n",
       " Text(14, 0, 'neuquen'),\n",
       " Text(15, 0, 'rio negro'),\n",
       " Text(16, 0, 'salta'),\n",
       " Text(17, 0, 'san juan'),\n",
       " Text(18, 0, 'san luis'),\n",
       " Text(19, 0, 'santa cruz'),\n",
       " Text(20, 0, 'santa fe'),\n",
       " Text(21, 0, 'santiago del estero'),\n",
       " Text(22, 0, 'tierra del fuego'),\n",
       " Text(23, 0, 'tucuman')]"
      ]
     },
     "execution_count": 80,
     "metadata": {},
     "output_type": "execute_result"
    },
    {
     "data": {
      "image/png": "[encoded data removed]",
      "text/plain": [
       "<Figure size 432x288 with 1 Axes>"
      ]
     },
     "metadata": {
      "needs_background": "light"
     },
     "output_type": "display_data"
    }
   ],
   "source": [
    "boxplot = sns.boxplot(x='provincia', y='total general', data=I_tecyloc)\n",
    "boxplot.set_xticklabels(boxplot.get_xticklabels(), rotation=90)\n"
   ]
  },
  {
   "attachments": {},
   "cell_type": "markdown",
   "metadata": {},
   "source": [
    "Aca se puede observar que cordoba, santa fe y tucuman tienen valores atipicos"
   ]
  },
  {
   "cell_type": "code",
   "execution_count": null,
   "metadata": {},
   "outputs": [],
   "source": [
    "I_tecyloc['provincia']"
   ]
  },
  {
   "cell_type": "code",
   "execution_count": 81,
   "metadata": {},
   "outputs": [
    {
     "data": {
      "text/html": [
       "<div>\n",
       "<style scoped>\n",
       "    .dataframe tbody tr th:only-of-type {\n",
       "        vertical-align: middle;\n",
       "    }\n",
       "\n",
       "    .dataframe tbody tr th {\n",
       "        vertical-align: top;\n",
       "    }\n",
       "\n",
       "    .dataframe thead th {\n",
       "        text-align: right;\n",
       "    }\n",
       "</style>\n",
       "<table border=\"1\" class=\"dataframe\">\n",
       "  <thead>\n",
       "    <tr style=\"text-align: right;\">\n",
       "      <th></th>\n",
       "      <th>provincia</th>\n",
       "      <th>partido</th>\n",
       "      <th>localidad</th>\n",
       "      <th>link indec</th>\n",
       "      <th>adsl</th>\n",
       "      <th>cablemodem</th>\n",
       "      <th>dial up</th>\n",
       "      <th>fibra optica</th>\n",
       "      <th>otros</th>\n",
       "      <th>satelital</th>\n",
       "      <th>wimax</th>\n",
       "      <th>wireless</th>\n",
       "      <th>total_tecnologias</th>\n",
       "    </tr>\n",
       "  </thead>\n",
       "  <tbody>\n",
       "    <tr>\n",
       "      <th>count</th>\n",
       "      <td>394</td>\n",
       "      <td>394</td>\n",
       "      <td>394</td>\n",
       "      <td>394</td>\n",
       "      <td>394</td>\n",
       "      <td>394</td>\n",
       "      <td>394</td>\n",
       "      <td>394</td>\n",
       "      <td>394</td>\n",
       "      <td>394</td>\n",
       "      <td>394</td>\n",
       "      <td>394</td>\n",
       "      <td>394</td>\n",
       "    </tr>\n",
       "    <tr>\n",
       "      <th>unique</th>\n",
       "      <td>1</td>\n",
       "      <td>27</td>\n",
       "      <td>385</td>\n",
       "      <td>382</td>\n",
       "      <td>163</td>\n",
       "      <td>91</td>\n",
       "      <td>5</td>\n",
       "      <td>109</td>\n",
       "      <td>32</td>\n",
       "      <td>6</td>\n",
       "      <td>2</td>\n",
       "      <td>179</td>\n",
       "      <td>338</td>\n",
       "    </tr>\n",
       "    <tr>\n",
       "      <th>top</th>\n",
       "      <td>cordoba</td>\n",
       "      <td>san justo</td>\n",
       "      <td>otros</td>\n",
       "      <td>sin datos</td>\n",
       "      <td>0</td>\n",
       "      <td>0.0</td>\n",
       "      <td>0.0</td>\n",
       "      <td>0.0</td>\n",
       "      <td>- 0</td>\n",
       "      <td>0.0</td>\n",
       "      <td>0.0</td>\n",
       "      <td>0.0</td>\n",
       "      <td>00.00.00.0- 00.00.01.0</td>\n",
       "    </tr>\n",
       "    <tr>\n",
       "      <th>freq</th>\n",
       "      <td>394</td>\n",
       "      <td>37</td>\n",
       "      <td>6</td>\n",
       "      <td>6</td>\n",
       "      <td>214</td>\n",
       "      <td>303</td>\n",
       "      <td>389</td>\n",
       "      <td>222</td>\n",
       "      <td>355</td>\n",
       "      <td>321</td>\n",
       "      <td>393</td>\n",
       "      <td>97</td>\n",
       "      <td>11</td>\n",
       "    </tr>\n",
       "  </tbody>\n",
       "</table>\n",
       "</div>"
      ],
      "text/plain": [
       "       provincia    partido localidad link indec adsl cablemodem dial up  \\\n",
       "count        394        394       394        394  394        394     394   \n",
       "unique         1         27       385        382  163         91       5   \n",
       "top      cordoba  san justo     otros  sin datos    0        0.0     0.0   \n",
       "freq         394         37         6          6  214        303     389   \n",
       "\n",
       "       fibra optica otros satelital wimax wireless       total_tecnologias  \n",
       "count           394   394       394   394      394                     394  \n",
       "unique          109    32         6     2      179                     338  \n",
       "top             0.0   - 0       0.0   0.0      0.0  00.00.00.0- 00.00.01.0  \n",
       "freq            222   355       321   393       97                      11  "
      ]
     },
     "execution_count": 81,
     "metadata": {},
     "output_type": "execute_result"
    }
   ],
   "source": [
    "cordoba = I_tecyloc.loc[I_tecyloc['provincia'] == 'cordoba']\n",
    "cordoba.describe(exclude='number')"
   ]
  },
  {
   "cell_type": "code",
   "execution_count": 82,
   "metadata": {},
   "outputs": [
    {
     "data": {
      "text/plain": [
       "provincia                                 cordoba\n",
       "partido                                     unión\n",
       "localidad                     wenceslao escalante\n",
       "link indec                              sin datos\n",
       "adsl                                          992\n",
       "cablemodem                                 9716.0\n",
       "dial up                                      44.0\n",
       "fibra optica                                 94.0\n",
       "otros                                           9\n",
       "satelital                                     6.0\n",
       "wimax                                        58.0\n",
       "wireless                                    993.0\n",
       "total general                            495182.0\n",
       "adls                                        992.0\n",
       "total_tecnologias    9920.00.0365.0- 00.00.0253.0\n",
       "dtype: object"
      ]
     },
     "execution_count": 82,
     "metadata": {},
     "output_type": "execute_result"
    }
   ],
   "source": [
    "cordoba.max()"
   ]
  },
  {
   "attachments": {},
   "cell_type": "markdown",
   "metadata": {},
   "source": [
    "el valor atipico de cordoba esta en la columna total_tecnologias tiene un valor exagerado "
   ]
  },
  {
   "cell_type": "code",
   "execution_count": 109,
   "metadata": {},
   "outputs": [
    {
     "data": {
      "text/html": [
       "<div>\n",
       "<style scoped>\n",
       "    .dataframe tbody tr th:only-of-type {\n",
       "        vertical-align: middle;\n",
       "    }\n",
       "\n",
       "    .dataframe tbody tr th {\n",
       "        vertical-align: top;\n",
       "    }\n",
       "\n",
       "    .dataframe thead th {\n",
       "        text-align: right;\n",
       "    }\n",
       "</style>\n",
       "<table border=\"1\" class=\"dataframe\">\n",
       "  <thead>\n",
       "    <tr style=\"text-align: right;\">\n",
       "      <th></th>\n",
       "      <th>adsl</th>\n",
       "      <th>cablemodem</th>\n",
       "      <th>dial up</th>\n",
       "      <th>fibra optica</th>\n",
       "      <th>satelital</th>\n",
       "      <th>wimax</th>\n",
       "      <th>wireless</th>\n",
       "      <th>total general</th>\n",
       "      <th>unnamed: 13</th>\n",
       "      <th>ADSL</th>\n",
       "      <th>adls</th>\n",
       "    </tr>\n",
       "  </thead>\n",
       "  <tbody>\n",
       "    <tr>\n",
       "      <th>count</th>\n",
       "      <td>394.000000</td>\n",
       "      <td>394.000000</td>\n",
       "      <td>394.000000</td>\n",
       "      <td>394.000000</td>\n",
       "      <td>394.000000</td>\n",
       "      <td>394.000000</td>\n",
       "      <td>394.000000</td>\n",
       "      <td>394.000000</td>\n",
       "      <td>0.0</td>\n",
       "      <td>394.000000</td>\n",
       "      <td>394.000000</td>\n",
       "    </tr>\n",
       "    <tr>\n",
       "      <th>mean</th>\n",
       "      <td>113.475076</td>\n",
       "      <td>1181.373096</td>\n",
       "      <td>0.172589</td>\n",
       "      <td>59.556904</td>\n",
       "      <td>0.253807</td>\n",
       "      <td>0.147208</td>\n",
       "      <td>96.185777</td>\n",
       "      <td>2636.213198</td>\n",
       "      <td>NaN</td>\n",
       "      <td>113.475076</td>\n",
       "      <td>113.475076</td>\n",
       "    </tr>\n",
       "    <tr>\n",
       "      <th>std</th>\n",
       "      <td>227.585753</td>\n",
       "      <td>11529.130394</td>\n",
       "      <td>2.349957</td>\n",
       "      <td>168.717045</td>\n",
       "      <td>0.782472</td>\n",
       "      <td>2.921998</td>\n",
       "      <td>162.784977</td>\n",
       "      <td>25276.308825</td>\n",
       "      <td>NaN</td>\n",
       "      <td>227.585753</td>\n",
       "      <td>227.585753</td>\n",
       "    </tr>\n",
       "    <tr>\n",
       "      <th>min</th>\n",
       "      <td>0.000000</td>\n",
       "      <td>0.000000</td>\n",
       "      <td>0.000000</td>\n",
       "      <td>0.000000</td>\n",
       "      <td>0.000000</td>\n",
       "      <td>0.000000</td>\n",
       "      <td>0.000000</td>\n",
       "      <td>1.000000</td>\n",
       "      <td>NaN</td>\n",
       "      <td>0.000000</td>\n",
       "      <td>0.000000</td>\n",
       "    </tr>\n",
       "    <tr>\n",
       "      <th>25%</th>\n",
       "      <td>0.000000</td>\n",
       "      <td>0.000000</td>\n",
       "      <td>0.000000</td>\n",
       "      <td>0.000000</td>\n",
       "      <td>0.000000</td>\n",
       "      <td>0.000000</td>\n",
       "      <td>1.000000</td>\n",
       "      <td>36.000000</td>\n",
       "      <td>NaN</td>\n",
       "      <td>0.000000</td>\n",
       "      <td>0.000000</td>\n",
       "    </tr>\n",
       "    <tr>\n",
       "      <th>50%</th>\n",
       "      <td>0.000000</td>\n",
       "      <td>0.000000</td>\n",
       "      <td>0.000000</td>\n",
       "      <td>0.000000</td>\n",
       "      <td>0.000000</td>\n",
       "      <td>0.000000</td>\n",
       "      <td>25.500000</td>\n",
       "      <td>217.500000</td>\n",
       "      <td>NaN</td>\n",
       "      <td>0.000000</td>\n",
       "      <td>0.000000</td>\n",
       "    </tr>\n",
       "    <tr>\n",
       "      <th>75%</th>\n",
       "      <td>94.750000</td>\n",
       "      <td>0.000000</td>\n",
       "      <td>0.000000</td>\n",
       "      <td>3.430500</td>\n",
       "      <td>0.000000</td>\n",
       "      <td>0.000000</td>\n",
       "      <td>110.750000</td>\n",
       "      <td>986.000000</td>\n",
       "      <td>NaN</td>\n",
       "      <td>94.750000</td>\n",
       "      <td>94.750000</td>\n",
       "    </tr>\n",
       "    <tr>\n",
       "      <th>max</th>\n",
       "      <td>992.000000</td>\n",
       "      <td>222667.000000</td>\n",
       "      <td>44.000000</td>\n",
       "      <td>917.000000</td>\n",
       "      <td>11.000000</td>\n",
       "      <td>58.000000</td>\n",
       "      <td>993.000000</td>\n",
       "      <td>495182.000000</td>\n",
       "      <td>NaN</td>\n",
       "      <td>992.000000</td>\n",
       "      <td>992.000000</td>\n",
       "    </tr>\n",
       "  </tbody>\n",
       "</table>\n",
       "</div>"
      ],
      "text/plain": [
       "             adsl     cablemodem     dial up  fibra optica   satelital  \\\n",
       "count  394.000000     394.000000  394.000000    394.000000  394.000000   \n",
       "mean   113.475076    1181.373096    0.172589     59.556904    0.253807   \n",
       "std    227.585753   11529.130394    2.349957    168.717045    0.782472   \n",
       "min      0.000000       0.000000    0.000000      0.000000    0.000000   \n",
       "25%      0.000000       0.000000    0.000000      0.000000    0.000000   \n",
       "50%      0.000000       0.000000    0.000000      0.000000    0.000000   \n",
       "75%     94.750000       0.000000    0.000000      3.430500    0.000000   \n",
       "max    992.000000  222667.000000   44.000000    917.000000   11.000000   \n",
       "\n",
       "            wimax    wireless  total general  unnamed: 13        ADSL  \\\n",
       "count  394.000000  394.000000     394.000000          0.0  394.000000   \n",
       "mean     0.147208   96.185777    2636.213198          NaN  113.475076   \n",
       "std      2.921998  162.784977   25276.308825          NaN  227.585753   \n",
       "min      0.000000    0.000000       1.000000          NaN    0.000000   \n",
       "25%      0.000000    1.000000      36.000000          NaN    0.000000   \n",
       "50%      0.000000   25.500000     217.500000          NaN    0.000000   \n",
       "75%      0.000000  110.750000     986.000000          NaN   94.750000   \n",
       "max     58.000000  993.000000  495182.000000          NaN  992.000000   \n",
       "\n",
       "             adls  \n",
       "count  394.000000  \n",
       "mean   113.475076  \n",
       "std    227.585753  \n",
       "min      0.000000  \n",
       "25%      0.000000  \n",
       "50%      0.000000  \n",
       "75%     94.750000  \n",
       "max    992.000000  "
      ]
     },
     "execution_count": 109,
     "metadata": {},
     "output_type": "execute_result"
    }
   ],
   "source": [
    "cordoba.describe()"
   ]
  },
  {
   "cell_type": "code",
   "execution_count": null,
   "metadata": {},
   "outputs": [],
   "source": [
    "# Filtro los datos de la provincia \"Buenos Aires\"\n",
    "df_co = I_tecyloc[I_tecyloc['provincia'] == 'cordoba']\n",
    "\n",
    "# Genero un boxplot de la columna \"total general\"\n",
    "sns.boxplot(x='total general', data=df_co)\n",
    "\n",
    "# Identifico los valores que se encuentran fuera de los bigotes del boxplot\n",
    "q1 = df_co['total general'].quantile(0.25)\n",
    "q3 = df_co['total general'].quantile(0.75)\n",
    "iqr = q3 - q1\n",
    "outliers = df_co[(df_co['total general'] < q1 - 1.5*iqr) | (df_co['total general'] > q3 + 1.5*iqr)]\n",
    "\n",
    "# Muestro los valores de los outliers\n",
    "print(outliers)\n",
    "print('la cantidad e outlier son', outliers.sum())"
   ]
  },
  {
   "attachments": {},
   "cell_type": "markdown",
   "metadata": {},
   "source": [
    "Analisis por Internet por tecnologias, por provincias en periodod de tiempo"
   ]
  },
  {
   "cell_type": "code",
   "execution_count": 28,
   "metadata": {},
   "outputs": [
    {
     "data": {
      "text/html": [
       "<div>\n",
       "<style scoped>\n",
       "    .dataframe tbody tr th:only-of-type {\n",
       "        vertical-align: middle;\n",
       "    }\n",
       "\n",
       "    .dataframe tbody tr th {\n",
       "        vertical-align: top;\n",
       "    }\n",
       "\n",
       "    .dataframe thead th {\n",
       "        text-align: right;\n",
       "    }\n",
       "</style>\n",
       "<table border=\"1\" class=\"dataframe\">\n",
       "  <thead>\n",
       "    <tr style=\"text-align: right;\">\n",
       "      <th></th>\n",
       "      <th>Año</th>\n",
       "      <th>Trimestre</th>\n",
       "      <th>Provincia</th>\n",
       "      <th>ADSL</th>\n",
       "      <th>Cablemodem</th>\n",
       "      <th>Fibra óptica</th>\n",
       "      <th>Wireless</th>\n",
       "      <th>Otros</th>\n",
       "      <th>Total</th>\n",
       "    </tr>\n",
       "  </thead>\n",
       "  <tbody>\n",
       "    <tr>\n",
       "      <th>0</th>\n",
       "      <td>2022</td>\n",
       "      <td>3</td>\n",
       "      <td>Buenos Aires</td>\n",
       "      <td>339.648</td>\n",
       "      <td>2.748.325</td>\n",
       "      <td>1.436.433</td>\n",
       "      <td>126.846</td>\n",
       "      <td>70.416</td>\n",
       "      <td>4.721.668</td>\n",
       "    </tr>\n",
       "    <tr>\n",
       "      <th>1</th>\n",
       "      <td>2022</td>\n",
       "      <td>3</td>\n",
       "      <td>Capital Federal</td>\n",
       "      <td>140.791</td>\n",
       "      <td>1.240.125</td>\n",
       "      <td>129.218</td>\n",
       "      <td>5.758</td>\n",
       "      <td>31.787</td>\n",
       "      <td>1.547.679</td>\n",
       "    </tr>\n",
       "    <tr>\n",
       "      <th>2</th>\n",
       "      <td>2022</td>\n",
       "      <td>3</td>\n",
       "      <td>Catamarca</td>\n",
       "      <td>10.010</td>\n",
       "      <td>10.495</td>\n",
       "      <td>46.224</td>\n",
       "      <td>1.329</td>\n",
       "      <td>2.235</td>\n",
       "      <td>70.293</td>\n",
       "    </tr>\n",
       "    <tr>\n",
       "      <th>3</th>\n",
       "      <td>2022</td>\n",
       "      <td>3</td>\n",
       "      <td>Chaco</td>\n",
       "      <td>27.164</td>\n",
       "      <td>61.800</td>\n",
       "      <td>44.645</td>\n",
       "      <td>8.178</td>\n",
       "      <td>2.359</td>\n",
       "      <td>144.146</td>\n",
       "    </tr>\n",
       "    <tr>\n",
       "      <th>4</th>\n",
       "      <td>2022</td>\n",
       "      <td>3</td>\n",
       "      <td>Chubut</td>\n",
       "      <td>45.377</td>\n",
       "      <td>72.212</td>\n",
       "      <td>9.574</td>\n",
       "      <td>29.784</td>\n",
       "      <td>8.831</td>\n",
       "      <td>165.778</td>\n",
       "    </tr>\n",
       "    <tr>\n",
       "      <th>...</th>\n",
       "      <td>...</td>\n",
       "      <td>...</td>\n",
       "      <td>...</td>\n",
       "      <td>...</td>\n",
       "      <td>...</td>\n",
       "      <td>...</td>\n",
       "      <td>...</td>\n",
       "      <td>...</td>\n",
       "      <td>...</td>\n",
       "    </tr>\n",
       "    <tr>\n",
       "      <th>836</th>\n",
       "      <td>2014</td>\n",
       "      <td>1</td>\n",
       "      <td>Santa Fe</td>\n",
       "      <td>322.662</td>\n",
       "      <td>174.296</td>\n",
       "      <td>3.059</td>\n",
       "      <td>5.951</td>\n",
       "      <td>644.000</td>\n",
       "      <td>506.612</td>\n",
       "    </tr>\n",
       "    <tr>\n",
       "      <th>837</th>\n",
       "      <td>2014</td>\n",
       "      <td>1</td>\n",
       "      <td>Santiago Del Estero</td>\n",
       "      <td>32.567</td>\n",
       "      <td>3.598</td>\n",
       "      <td>19</td>\n",
       "      <td>915.000</td>\n",
       "      <td>34.000</td>\n",
       "      <td>37.133</td>\n",
       "    </tr>\n",
       "    <tr>\n",
       "      <th>838</th>\n",
       "      <td>2014</td>\n",
       "      <td>1</td>\n",
       "      <td>Tierra Del Fuego</td>\n",
       "      <td>21.618</td>\n",
       "      <td>2.837</td>\n",
       "      <td>648</td>\n",
       "      <td>1.000</td>\n",
       "      <td>2.934</td>\n",
       "      <td>28.038</td>\n",
       "    </tr>\n",
       "    <tr>\n",
       "      <th>839</th>\n",
       "      <td>2014</td>\n",
       "      <td>1</td>\n",
       "      <td>Tucumán</td>\n",
       "      <td>129.717</td>\n",
       "      <td>83</td>\n",
       "      <td>121</td>\n",
       "      <td>13.000</td>\n",
       "      <td>98.000</td>\n",
       "      <td>130.032</td>\n",
       "    </tr>\n",
       "    <tr>\n",
       "      <th>840</th>\n",
       "      <td>*</td>\n",
       "      <td>Los datos provinciales no coinciden a nivel na...</td>\n",
       "      <td>NaN</td>\n",
       "      <td>NaN</td>\n",
       "      <td>NaN</td>\n",
       "      <td>NaN</td>\n",
       "      <td>NaN</td>\n",
       "      <td>NaN</td>\n",
       "      <td>NaN</td>\n",
       "    </tr>\n",
       "  </tbody>\n",
       "</table>\n",
       "<p>841 rows × 9 columns</p>\n",
       "</div>"
      ],
      "text/plain": [
       "      Año                                          Trimestre  \\\n",
       "0    2022                                                  3   \n",
       "1    2022                                                  3   \n",
       "2    2022                                                  3   \n",
       "3    2022                                                  3   \n",
       "4    2022                                                  3   \n",
       "..    ...                                                ...   \n",
       "836  2014                                                  1   \n",
       "837  2014                                                  1   \n",
       "838  2014                                                  1   \n",
       "839  2014                                                  1   \n",
       "840     *  Los datos provinciales no coinciden a nivel na...   \n",
       "\n",
       "               Provincia     ADSL Cablemodem Fibra óptica  Wireless    Otros  \\\n",
       "0           Buenos Aires  339.648  2.748.325    1.436.433   126.846   70.416   \n",
       "1        Capital Federal  140.791  1.240.125      129.218     5.758   31.787   \n",
       "2              Catamarca   10.010     10.495       46.224     1.329    2.235   \n",
       "3                  Chaco   27.164     61.800       44.645     8.178    2.359   \n",
       "4                 Chubut   45.377     72.212        9.574    29.784    8.831   \n",
       "..                   ...      ...        ...          ...       ...      ...   \n",
       "836             Santa Fe  322.662    174.296        3.059     5.951  644.000   \n",
       "837  Santiago Del Estero   32.567      3.598           19   915.000   34.000   \n",
       "838     Tierra Del Fuego   21.618      2.837          648     1.000    2.934   \n",
       "839              Tucumán  129.717         83          121    13.000   98.000   \n",
       "840                  NaN      NaN        NaN          NaN       NaN      NaN   \n",
       "\n",
       "         Total  \n",
       "0    4.721.668  \n",
       "1    1.547.679  \n",
       "2       70.293  \n",
       "3      144.146  \n",
       "4      165.778  \n",
       "..         ...  \n",
       "836    506.612  \n",
       "837     37.133  \n",
       "838     28.038  \n",
       "839    130.032  \n",
       "840        NaN  \n",
       "\n",
       "[841 rows x 9 columns]"
      ]
     },
     "execution_count": 28,
     "metadata": {},
     "output_type": "execute_result"
    }
   ],
   "source": [
    "I_portec"
   ]
  },
  {
   "cell_type": "code",
   "execution_count": 29,
   "metadata": {},
   "outputs": [
    {
     "data": {
      "text/html": [
       "<div>\n",
       "<style scoped>\n",
       "    .dataframe tbody tr th:only-of-type {\n",
       "        vertical-align: middle;\n",
       "    }\n",
       "\n",
       "    .dataframe tbody tr th {\n",
       "        vertical-align: top;\n",
       "    }\n",
       "\n",
       "    .dataframe thead th {\n",
       "        text-align: right;\n",
       "    }\n",
       "</style>\n",
       "<table border=\"1\" class=\"dataframe\">\n",
       "  <thead>\n",
       "    <tr style=\"text-align: right;\">\n",
       "      <th></th>\n",
       "      <th>Año</th>\n",
       "      <th>Trimestre</th>\n",
       "      <th>Provincia</th>\n",
       "      <th>ADSL</th>\n",
       "      <th>Cablemodem</th>\n",
       "      <th>Fibra óptica</th>\n",
       "      <th>Total</th>\n",
       "    </tr>\n",
       "  </thead>\n",
       "  <tbody>\n",
       "    <tr>\n",
       "      <th>count</th>\n",
       "      <td>841</td>\n",
       "      <td>841</td>\n",
       "      <td>840</td>\n",
       "      <td>840</td>\n",
       "      <td>840</td>\n",
       "      <td>840</td>\n",
       "      <td>840</td>\n",
       "    </tr>\n",
       "    <tr>\n",
       "      <th>unique</th>\n",
       "      <td>11</td>\n",
       "      <td>8</td>\n",
       "      <td>24</td>\n",
       "      <td>748</td>\n",
       "      <td>729</td>\n",
       "      <td>592</td>\n",
       "      <td>831</td>\n",
       "    </tr>\n",
       "    <tr>\n",
       "      <th>top</th>\n",
       "      <td>2021</td>\n",
       "      <td>3</td>\n",
       "      <td>Buenos Aires</td>\n",
       "      <td>22.636</td>\n",
       "      <td>34.984</td>\n",
       "      <td>19</td>\n",
       "      <td>32.557</td>\n",
       "    </tr>\n",
       "    <tr>\n",
       "      <th>freq</th>\n",
       "      <td>96</td>\n",
       "      <td>192</td>\n",
       "      <td>35</td>\n",
       "      <td>9</td>\n",
       "      <td>15</td>\n",
       "      <td>17</td>\n",
       "      <td>3</td>\n",
       "    </tr>\n",
       "  </tbody>\n",
       "</table>\n",
       "</div>"
      ],
      "text/plain": [
       "         Año Trimestre     Provincia    ADSL Cablemodem Fibra óptica   Total\n",
       "count    841       841           840     840        840          840     840\n",
       "unique    11         8            24     748        729          592     831\n",
       "top     2021         3  Buenos Aires  22.636     34.984           19  32.557\n",
       "freq      96       192            35       9         15           17       3"
      ]
     },
     "execution_count": 29,
     "metadata": {},
     "output_type": "execute_result"
    }
   ],
   "source": [
    "I_portec.describe(exclude='number')"
   ]
  },
  {
   "attachments": {},
   "cell_type": "markdown",
   "metadata": {},
   "source": [
    "Aca se puede observar que en el tercer trimestre del 2021 la tecnología mas utilizada fue Cablemodem. Un cable módem es un dispositivo que se utiliza para proporcionar servicios de conexión a Internet \n",
    "de alta velocidad a través de una conexión de televisión por cable. Funciona como un puente entre\n",
    " la red de cable del proveedor de servicios y los dispositivos de la red local, como computadoras,\n",
    "  tabletas y teléfonos inteligentes."
   ]
  },
  {
   "cell_type": "code",
   "execution_count": 27,
   "metadata": {},
   "outputs": [
    {
     "data": {
      "text/plain": [
       "array(['3', '2', '1', '4', '3 *', '2 *', '1 *',\n",
       "       'Los datos provinciales no coinciden a nivel nacional, ya que se rincorporó información que no contien apertuta a nivel geográfico.'],\n",
       "      dtype=object)"
      ]
     },
     "execution_count": 27,
     "metadata": {},
     "output_type": "execute_result"
    }
   ],
   "source": [
    "#me llamó a atencion que trimestre tuviera 8 valores, cuando solo puede tener 4,investigue son datos estimativos\n",
    "I_portec['Trimestre'].unique()"
   ]
  },
  {
   "cell_type": "code",
   "execution_count": 30,
   "metadata": {},
   "outputs": [
    {
     "data": {
      "text/plain": [
       "Año             0\n",
       "Trimestre       0\n",
       "Provincia       1\n",
       "ADSL            1\n",
       "Cablemodem      1\n",
       "Fibra óptica    1\n",
       "Wireless        1\n",
       "Otros           1\n",
       "Total           1\n",
       "dtype: int64"
      ]
     },
     "execution_count": 30,
     "metadata": {},
     "output_type": "execute_result"
    }
   ],
   "source": [
    "I_portec.isna().sum()"
   ]
  },
  {
   "attachments": {},
   "cell_type": "markdown",
   "metadata": {},
   "source": [
    "Hago un calculo de la tecnologia mas utilizada en el último trimestre del 2022, que es el último reporte"
   ]
  },
  {
   "cell_type": "code",
   "execution_count": 31,
   "metadata": {},
   "outputs": [
    {
     "name": "stdout",
     "output_type": "stream",
     "text": [
      "La tecnología más utilizada en el último trimestre del año 2022 fue: ADSL\n"
     ]
    }
   ],
   "source": [
    "# Seleccionar solo los datos del último trimestre del año 2022\n",
    "ult_trimestre_2022 = I_portec[(I_portec['Año'] == 2022) & (I_portec['Trimestre'] == 4)]\n",
    "\n",
    "# Calcular la suma total de cada tipo de tecnología\n",
    "tecnologias = ['ADSL', 'Cablemodem', 'Fibra óptica', 'Wireless', 'Otros']\n",
    "total_tecnologias = ult_trimestre_2022[tecnologias].sum()\n",
    "\n",
    "# Encontrar la tecnología más utilizada en el último trimestre del año 2022\n",
    "tecnologia_mas_utilizada = total_tecnologias.idxmax()\n",
    "\n",
    "print(\"La tecnología más utilizada en el último trimestre del año 2022 fue:\", tecnologia_mas_utilizada)\n"
   ]
  },
  {
   "attachments": {},
   "cell_type": "markdown",
   "metadata": {},
   "source": [
    "Analisis de variables númericas.\n",
    "Grafíco ADSL por timeste en cada provincia"
   ]
  },
  {
   "cell_type": "code",
   "execution_count": 33,
   "metadata": {},
   "outputs": [
    {
     "name": "stdout",
     "output_type": "stream",
     "text": [
      "<class 'pandas.core.frame.DataFrame'>\n",
      "RangeIndex: 841 entries, 0 to 840\n",
      "Data columns (total 9 columns):\n",
      " #   Column        Non-Null Count  Dtype  \n",
      "---  ------        --------------  -----  \n",
      " 0   Año           841 non-null    object \n",
      " 1   Trimestre     841 non-null    object \n",
      " 2   Provincia     840 non-null    object \n",
      " 3   ADSL          840 non-null    object \n",
      " 4   Cablemodem    840 non-null    object \n",
      " 5   Fibra óptica  840 non-null    object \n",
      " 6   Wireless      840 non-null    float64\n",
      " 7   Otros         840 non-null    float64\n",
      " 8   Total         840 non-null    object \n",
      "dtypes: float64(2), object(7)\n",
      "memory usage: 59.3+ KB\n"
     ]
    }
   ],
   "source": [
    "I_portec.info()"
   ]
  },
  {
   "cell_type": "code",
   "execution_count": 40,
   "metadata": {},
   "outputs": [],
   "source": [
    "#debo pasarlas a float a las variables numéricas\n",
    "I_portec['ADSL'] = I_portec['ADSL'].astype('float')"
   ]
  },
  {
   "cell_type": "code",
   "execution_count": 37,
   "metadata": {},
   "outputs": [
    {
     "name": "stderr",
     "output_type": "stream",
     "text": [
      "C:\\Users\\alumno\\AppData\\Local\\Temp\\ipykernel_8264\\1356257651.py:1: FutureWarning: The default value of regex will change from True to False in a future version. In addition, single character regular expressions will *not* be treated as literal strings when regex=True.\n",
      "  I_portec['ADSL'] = I_portec['ADSL'].str.replace('.',' ')\n"
     ]
    }
   ],
   "source": [
    "#cuando vuelva a correr hacerlo asi, y borrar el de abajo\n",
    "I_portec['ADSL'] = I_portec['ADSL'].str.replace('.','')"
   ]
  },
  {
   "cell_type": "code",
   "execution_count": 39,
   "metadata": {},
   "outputs": [],
   "source": [
    "I_portec['ADSL'] = I_portec['ADSL'].str.replace(' ','')"
   ]
  },
  {
   "cell_type": "code",
   "execution_count": 123,
   "metadata": {},
   "outputs": [
    {
     "data": {
      "image/png": "[encoded data removed]",
      "text/plain": [
       "<Figure size 720x432 with 1 Axes>"
      ]
     },
     "metadata": {
      "needs_background": "light"
     },
     "output_type": "display_data"
    }
   ],
   "source": [
    "\n",
    "\n",
    "\n",
    "# Crear un DataFrame con los datos de la tecnología \"ADSL\" solamente\n",
    "ADSL_por_provincia = I_portec[['Provincia', 'Trimestre', 'ADSL']]\n",
    "\n",
    "# Utilizar \"pivot table\" para obtener los datos en un formato adecuado para graficar\n",
    "ADSL_por_provincia_trimestre = ADSL_por_provincia.pivot_table(index='Provincia', columns='Trimestre', values='ADSL')\n",
    "\n",
    "# Graficar los datos utilizando un gráfico de barras agrupadas por provincia\n",
    "ADSL_por_provincia_trimestre.plot(kind='bar', figsize=(10,6), width=0.8)\n",
    "\n",
    "# Agregar título y etiquetas de eje\n",
    "plt.title('Tecnología ADSL por provincia y trimestre')\n",
    "plt.xlabel('Provincia')\n",
    "plt.ylabel('Cantidad')\n",
    "\n",
    "# Mostrar la gráfica\n",
    "plt.show()\n"
   ]
  },
  {
   "cell_type": "code",
   "execution_count": 49,
   "metadata": {},
   "outputs": [
    {
     "name": "stderr",
     "output_type": "stream",
     "text": [
      "C:\\Users\\alumno\\AppData\\Local\\Temp\\ipykernel_8264\\3922990139.py:1: FutureWarning: The default value of regex will change from True to False in a future version. In addition, single character regular expressions will *not* be treated as literal strings when regex=True.\n",
      "  I_portec['Cablemodem'] = I_portec['Cablemodem'].str.replace('.','')\n"
     ]
    }
   ],
   "source": [
    "I_portec['Cablemodem'] = I_portec['Cablemodem'].str.replace('.','')"
   ]
  },
  {
   "cell_type": "code",
   "execution_count": 50,
   "metadata": {},
   "outputs": [],
   "source": [
    "I_portec['Cablemodem'] = I_portec['Cablemodem'].astype('float')"
   ]
  },
  {
   "cell_type": "code",
   "execution_count": 51,
   "metadata": {},
   "outputs": [
    {
     "name": "stderr",
     "output_type": "stream",
     "text": [
      "C:\\Users\\alumno\\AppData\\Local\\Temp\\ipykernel_8264\\3363244417.py:1: FutureWarning: The default value of regex will change from True to False in a future version. In addition, single character regular expressions will *not* be treated as literal strings when regex=True.\n",
      "  I_portec['Fibra óptica'] = I_portec['Fibra óptica'].str.replace('.','')\n"
     ]
    }
   ],
   "source": [
    "I_portec['Fibra óptica'] = I_portec['Fibra óptica'].str.replace('.','')"
   ]
  },
  {
   "cell_type": "code",
   "execution_count": 52,
   "metadata": {},
   "outputs": [],
   "source": [
    "I_portec['Fibra óptica'] = I_portec['Fibra óptica'].astype('float')"
   ]
  },
  {
   "cell_type": "code",
   "execution_count": 55,
   "metadata": {},
   "outputs": [
    {
     "data": {
      "text/plain": [
       "0    126.846\n",
       "1      5.758\n",
       "2      1.329\n",
       "3      8.178\n",
       "4     29.784\n",
       "Name: Wireless, dtype: float64"
      ]
     },
     "execution_count": 55,
     "metadata": {},
     "output_type": "execute_result"
    }
   ],
   "source": [
    "I_portec['Wireless'].head()"
   ]
  },
  {
   "cell_type": "code",
   "execution_count": 56,
   "metadata": {},
   "outputs": [],
   "source": [
    "I_portec['Wireless'] = I_portec['Wireless'].replace('.','')"
   ]
  },
  {
   "cell_type": "code",
   "execution_count": 57,
   "metadata": {},
   "outputs": [],
   "source": [
    "I_portec['Otros'] = I_portec['Otros'].replace('.','')"
   ]
  },
  {
   "cell_type": "code",
   "execution_count": 64,
   "metadata": {},
   "outputs": [
    {
     "name": "stderr",
     "output_type": "stream",
     "text": [
      "C:\\Users\\alumno\\AppData\\Local\\Temp\\ipykernel_8264\\3073396341.py:1: FutureWarning: The default value of regex will change from True to False in a future version. In addition, single character regular expressions will *not* be treated as literal strings when regex=True.\n",
      "  I_portec['Total'] = I_portec['Total'].str.replace('.','')\n"
     ]
    }
   ],
   "source": [
    "I_portec['Total'] = I_portec['Total'].str.replace('.','')"
   ]
  },
  {
   "cell_type": "code",
   "execution_count": 65,
   "metadata": {},
   "outputs": [],
   "source": [
    "I_portec['Total'] = I_portec['Total'].astype('float')"
   ]
  },
  {
   "attachments": {},
   "cell_type": "markdown",
   "metadata": {},
   "source": [
    "grafica de los utimos dos trimestre de ADLS en cada provincia"
   ]
  },
  {
   "cell_type": "code",
   "execution_count": 67,
   "metadata": {},
   "outputs": [
    {
     "data": {
      "image/png": "[encoded data removed]",
      "text/plain": [
       "<Figure size 432x288 with 1 Axes>"
      ]
     },
     "metadata": {
      "needs_background": "light"
     },
     "output_type": "display_data"
    }
   ],
   "source": [
    "df = I_portec\n",
    "# Seleccionar los últimos dos trimestres\n",
    "last_two_quarters = df[df['Trimestre'].isin(['3', '*3'])]\n",
    "\n",
    "# Seleccionar solo la columna de la provincia y ADSL\n",
    "adsl_by_province = last_two_quarters[['Provincia', 'ADSL']]\n",
    "\n",
    "# Agrupar los datos por provincia y calcular el promedio de ADSL\n",
    "mean_adsl_by_province = adsl_by_province.groupby('Provincia').mean()\n",
    "\n",
    "# Graficar los resultados\n",
    "mean_adsl_by_province.plot(kind='bar', title='Comportamiento de ADSL en las últimas dos trimestres por provincia')\n",
    "plt.show()\n"
   ]
  },
  {
   "attachments": {},
   "cell_type": "markdown",
   "metadata": {},
   "source": [
    "Analisis de Internet por velocidad y provincia"
   ]
  },
  {
   "cell_type": "code",
   "execution_count": 68,
   "metadata": {},
   "outputs": [
    {
     "data": {
      "text/html": [
       "<div>\n",
       "<style scoped>\n",
       "    .dataframe tbody tr th:only-of-type {\n",
       "        vertical-align: middle;\n",
       "    }\n",
       "\n",
       "    .dataframe tbody tr th {\n",
       "        vertical-align: top;\n",
       "    }\n",
       "\n",
       "    .dataframe thead th {\n",
       "        text-align: right;\n",
       "    }\n",
       "</style>\n",
       "<table border=\"1\" class=\"dataframe\">\n",
       "  <thead>\n",
       "    <tr style=\"text-align: right;\">\n",
       "      <th></th>\n",
       "      <th>Año</th>\n",
       "      <th>Trimestre</th>\n",
       "      <th>Banda ancha fija</th>\n",
       "      <th>Dial up</th>\n",
       "      <th>Total</th>\n",
       "      <th>Periodo</th>\n",
       "    </tr>\n",
       "  </thead>\n",
       "  <tbody>\n",
       "    <tr>\n",
       "      <th>0</th>\n",
       "      <td>2022</td>\n",
       "      <td>3</td>\n",
       "      <td>11.078.691</td>\n",
       "      <td>12.437</td>\n",
       "      <td>11.091.128</td>\n",
       "      <td>Jul-Sept 2022</td>\n",
       "    </tr>\n",
       "    <tr>\n",
       "      <th>1</th>\n",
       "      <td>2022</td>\n",
       "      <td>2</td>\n",
       "      <td>10.946.248</td>\n",
       "      <td>12.436</td>\n",
       "      <td>10.958.684</td>\n",
       "      <td>Abr-Jun 2022</td>\n",
       "    </tr>\n",
       "    <tr>\n",
       "      <th>2</th>\n",
       "      <td>2022</td>\n",
       "      <td>1</td>\n",
       "      <td>10.611.390</td>\n",
       "      <td>12.619</td>\n",
       "      <td>10.624.009</td>\n",
       "      <td>Ene-Mar 2022</td>\n",
       "    </tr>\n",
       "    <tr>\n",
       "      <th>3</th>\n",
       "      <td>2021</td>\n",
       "      <td>4</td>\n",
       "      <td>10.476.933</td>\n",
       "      <td>12.861</td>\n",
       "      <td>10.489.794</td>\n",
       "      <td>Oct-Dic 2021</td>\n",
       "    </tr>\n",
       "    <tr>\n",
       "      <th>4</th>\n",
       "      <td>2021</td>\n",
       "      <td>3</td>\n",
       "      <td>10.075.184</td>\n",
       "      <td>10.357</td>\n",
       "      <td>10.085.541</td>\n",
       "      <td>Jul-Sept 2021</td>\n",
       "    </tr>\n",
       "  </tbody>\n",
       "</table>\n",
       "</div>"
      ],
      "text/plain": [
       "    Año  Trimestre Banda ancha fija  Dial up       Total        Periodo\n",
       "0  2022          3       11.078.691   12.437  11.091.128  Jul-Sept 2022\n",
       "1  2022          2       10.946.248   12.436  10.958.684   Abr-Jun 2022\n",
       "2  2022          1       10.611.390   12.619  10.624.009   Ene-Mar 2022\n",
       "3  2021          4       10.476.933   12.861  10.489.794   Oct-Dic 2021\n",
       "4  2021          3       10.075.184   10.357  10.085.541  Jul-Sept 2021"
      ]
     },
     "execution_count": 68,
     "metadata": {},
     "output_type": "execute_result"
    }
   ],
   "source": [
    "I_BaF.head()"
   ]
  },
  {
   "cell_type": "code",
   "execution_count": 69,
   "metadata": {},
   "outputs": [
    {
     "name": "stdout",
     "output_type": "stream",
     "text": [
      "<class 'pandas.core.frame.DataFrame'>\n",
      "RangeIndex: 35 entries, 0 to 34\n",
      "Data columns (total 6 columns):\n",
      " #   Column            Non-Null Count  Dtype  \n",
      "---  ------            --------------  -----  \n",
      " 0   Año               35 non-null     int64  \n",
      " 1   Trimestre         35 non-null     int64  \n",
      " 2   Banda ancha fija  35 non-null     object \n",
      " 3   Dial up           35 non-null     float64\n",
      " 4   Total             35 non-null     object \n",
      " 5   Periodo           35 non-null     object \n",
      "dtypes: float64(1), int64(2), object(3)\n",
      "memory usage: 1.8+ KB\n"
     ]
    }
   ],
   "source": [
    "I_BaF.info()"
   ]
  },
  {
   "cell_type": "code",
   "execution_count": 70,
   "metadata": {},
   "outputs": [
    {
     "data": {
      "text/html": [
       "<div>\n",
       "<style scoped>\n",
       "    .dataframe tbody tr th:only-of-type {\n",
       "        vertical-align: middle;\n",
       "    }\n",
       "\n",
       "    .dataframe tbody tr th {\n",
       "        vertical-align: top;\n",
       "    }\n",
       "\n",
       "    .dataframe thead th {\n",
       "        text-align: right;\n",
       "    }\n",
       "</style>\n",
       "<table border=\"1\" class=\"dataframe\">\n",
       "  <thead>\n",
       "    <tr style=\"text-align: right;\">\n",
       "      <th></th>\n",
       "      <th>Banda ancha fija</th>\n",
       "      <th>Total</th>\n",
       "      <th>Periodo</th>\n",
       "    </tr>\n",
       "  </thead>\n",
       "  <tbody>\n",
       "    <tr>\n",
       "      <th>count</th>\n",
       "      <td>35</td>\n",
       "      <td>35</td>\n",
       "      <td>35</td>\n",
       "    </tr>\n",
       "    <tr>\n",
       "      <th>unique</th>\n",
       "      <td>35</td>\n",
       "      <td>35</td>\n",
       "      <td>35</td>\n",
       "    </tr>\n",
       "    <tr>\n",
       "      <th>top</th>\n",
       "      <td>11.078.691</td>\n",
       "      <td>11.091.128</td>\n",
       "      <td>Jul-Sept 2022</td>\n",
       "    </tr>\n",
       "    <tr>\n",
       "      <th>freq</th>\n",
       "      <td>1</td>\n",
       "      <td>1</td>\n",
       "      <td>1</td>\n",
       "    </tr>\n",
       "  </tbody>\n",
       "</table>\n",
       "</div>"
      ],
      "text/plain": [
       "       Banda ancha fija       Total        Periodo\n",
       "count                35          35             35\n",
       "unique               35          35             35\n",
       "top          11.078.691  11.091.128  Jul-Sept 2022\n",
       "freq                  1           1              1"
      ]
     },
     "execution_count": 70,
     "metadata": {},
     "output_type": "execute_result"
    }
   ],
   "source": [
    "I_BaF.describe(exclude='number')"
   ]
  },
  {
   "attachments": {},
   "cell_type": "markdown",
   "metadata": {},
   "source": [
    "Transformaciones pertinentes en cada columna"
   ]
  },
  {
   "cell_type": "code",
   "execution_count": 89,
   "metadata": {},
   "outputs": [
    {
     "name": "stdout",
     "output_type": "stream",
     "text": [
      "<class 'pandas.core.frame.DataFrame'>\n",
      "RangeIndex: 35 entries, 0 to 34\n",
      "Data columns (total 6 columns):\n",
      " #   Column            Non-Null Count  Dtype  \n",
      "---  ------            --------------  -----  \n",
      " 0   Año               35 non-null     int64  \n",
      " 1   Trimestre         35 non-null     int64  \n",
      " 2   Banda ancha fija  35 non-null     float64\n",
      " 3   Dial up           35 non-null     float64\n",
      " 4   Total             35 non-null     float64\n",
      " 5   Periodo           35 non-null     object \n",
      "dtypes: float64(3), int64(2), object(1)\n",
      "memory usage: 1.8+ KB\n"
     ]
    }
   ],
   "source": [
    "I_BaF.info()"
   ]
  },
  {
   "cell_type": "code",
   "execution_count": 72,
   "metadata": {},
   "outputs": [
    {
     "name": "stderr",
     "output_type": "stream",
     "text": [
      "C:\\Users\\alumno\\AppData\\Local\\Temp\\ipykernel_8264\\3384275551.py:1: FutureWarning: The default value of regex will change from True to False in a future version. In addition, single character regular expressions will *not* be treated as literal strings when regex=True.\n",
      "  I_BaF['Banda ancha fija'] = I_BaF['Banda ancha fija'].str.replace('.','')\n"
     ]
    }
   ],
   "source": [
    "I_BaF['Banda ancha fija'] = I_BaF['Banda ancha fija'].str.replace('.','')"
   ]
  },
  {
   "cell_type": "code",
   "execution_count": 73,
   "metadata": {},
   "outputs": [],
   "source": [
    "I_BaF['Banda ancha fija'] = I_BaF['Banda ancha fija'].astype('float')"
   ]
  },
  {
   "cell_type": "code",
   "execution_count": 74,
   "metadata": {},
   "outputs": [
    {
     "name": "stderr",
     "output_type": "stream",
     "text": [
      "C:\\Users\\alumno\\AppData\\Local\\Temp\\ipykernel_8264\\275932862.py:1: FutureWarning: The default value of regex will change from True to False in a future version. In addition, single character regular expressions will *not* be treated as literal strings when regex=True.\n",
      "  I_BaF['Total'] = I_BaF['Total'].str.replace('.','')\n"
     ]
    }
   ],
   "source": [
    "I_BaF['Total'] = I_BaF['Total'].str.replace('.','')"
   ]
  },
  {
   "cell_type": "code",
   "execution_count": 75,
   "metadata": {},
   "outputs": [],
   "source": [
    "I_BaF['Total'] = I_BaF['Total'].astype('float')"
   ]
  },
  {
   "cell_type": "code",
   "execution_count": 98,
   "metadata": {},
   "outputs": [],
   "source": [
    "I_BaF['Periodo'] = I_BaF['Periodo'].str.lower()"
   ]
  },
  {
   "cell_type": "code",
   "execution_count": null,
   "metadata": {},
   "outputs": [],
   "source": [
    "I_BaF['Periodo'] = I_BaF['Periodo']"
   ]
  },
  {
   "cell_type": "code",
   "execution_count": 108,
   "metadata": {},
   "outputs": [],
   "source": [
    "df['Periodo'] = df['Periodo'].str.replace('sept', 'sep') "
   ]
  },
  {
   "cell_type": "code",
   "execution_count": 113,
   "metadata": {},
   "outputs": [
    {
     "ename": "error",
     "evalue": "redefinition of group name 'b' as group 2; was group 1 at position 59",
     "output_type": "error",
     "traceback": [
      "\u001b[1;31m---------------------------------------------------------------------------\u001b[0m",
      "\u001b[1;31merror\u001b[0m                                     Traceback (most recent call last)",
      "\u001b[1;32mf:\\PI_2\\EDA.ipynb Celda 85\u001b[0m in \u001b[0;36m<cell line: 1>\u001b[1;34m()\u001b[0m\n\u001b[1;32m----> <a href='vscode-notebook-cell:/f%3A/PI_2/EDA.ipynb#Y244sZmlsZQ%3D%3D?line=0'>1</a>\u001b[0m I_BaF[\u001b[39m'\u001b[39m\u001b[39mPeriodo\u001b[39m\u001b[39m'\u001b[39m] \u001b[39m=\u001b[39m pd\u001b[39m.\u001b[39;49mto_datetime(I_BaF[\u001b[39m'\u001b[39;49m\u001b[39mPeriodo\u001b[39;49m\u001b[39m'\u001b[39;49m], \u001b[39mformat\u001b[39;49m\u001b[39m=\u001b[39;49m\u001b[39m'\u001b[39;49m\u001b[39m%\u001b[39;49m\u001b[39mb-\u001b[39;49m\u001b[39m%\u001b[39;49m\u001b[39mb \u001b[39;49m\u001b[39m%\u001b[39;49m\u001b[39mY\u001b[39;49m\u001b[39m'\u001b[39;49m)\n",
      "File \u001b[1;32mc:\\Users\\alumno\\AppData\\Local\\Programs\\Python\\Python310\\lib\\site-packages\\pandas\\core\\tools\\datetimes.py:1069\u001b[0m, in \u001b[0;36mto_datetime\u001b[1;34m(arg, errors, dayfirst, yearfirst, utc, format, exact, unit, infer_datetime_format, origin, cache)\u001b[0m\n\u001b[0;32m   1067\u001b[0m         result \u001b[39m=\u001b[39m arg\u001b[39m.\u001b[39mmap(cache_array)\n\u001b[0;32m   1068\u001b[0m     \u001b[39melse\u001b[39;00m:\n\u001b[1;32m-> 1069\u001b[0m         values \u001b[39m=\u001b[39m convert_listlike(arg\u001b[39m.\u001b[39;49m_values, \u001b[39mformat\u001b[39;49m)\n\u001b[0;32m   1070\u001b[0m         result \u001b[39m=\u001b[39m arg\u001b[39m.\u001b[39m_constructor(values, index\u001b[39m=\u001b[39marg\u001b[39m.\u001b[39mindex, name\u001b[39m=\u001b[39marg\u001b[39m.\u001b[39mname)\n\u001b[0;32m   1071\u001b[0m \u001b[39melif\u001b[39;00m \u001b[39misinstance\u001b[39m(arg, (ABCDataFrame, abc\u001b[39m.\u001b[39mMutableMapping)):\n",
      "File \u001b[1;32mc:\\Users\\alumno\\AppData\\Local\\Programs\\Python\\Python310\\lib\\site-packages\\pandas\\core\\tools\\datetimes.py:431\u001b[0m, in \u001b[0;36m_convert_listlike_datetimes\u001b[1;34m(arg, format, name, tz, unit, errors, infer_datetime_format, dayfirst, yearfirst, exact)\u001b[0m\n\u001b[0;32m    428\u001b[0m         \u001b[39mformat\u001b[39m \u001b[39m=\u001b[39m \u001b[39mNone\u001b[39;00m\n\u001b[0;32m    430\u001b[0m \u001b[39mif\u001b[39;00m \u001b[39mformat\u001b[39m \u001b[39mis\u001b[39;00m \u001b[39mnot\u001b[39;00m \u001b[39mNone\u001b[39;00m:\n\u001b[1;32m--> 431\u001b[0m     res \u001b[39m=\u001b[39m _to_datetime_with_format(\n\u001b[0;32m    432\u001b[0m         arg, orig_arg, name, tz, \u001b[39mformat\u001b[39;49m, exact, errors, infer_datetime_format\n\u001b[0;32m    433\u001b[0m     )\n\u001b[0;32m    434\u001b[0m     \u001b[39mif\u001b[39;00m res \u001b[39mis\u001b[39;00m \u001b[39mnot\u001b[39;00m \u001b[39mNone\u001b[39;00m:\n\u001b[0;32m    435\u001b[0m         \u001b[39mreturn\u001b[39;00m res\n",
      "File \u001b[1;32mc:\\Users\\alumno\\AppData\\Local\\Programs\\Python\\Python310\\lib\\site-packages\\pandas\\core\\tools\\datetimes.py:539\u001b[0m, in \u001b[0;36m_to_datetime_with_format\u001b[1;34m(arg, orig_arg, name, tz, fmt, exact, errors, infer_datetime_format)\u001b[0m\n\u001b[0;32m    536\u001b[0m         \u001b[39mreturn\u001b[39;00m _box_as_indexlike(result, utc\u001b[39m=\u001b[39mutc, name\u001b[39m=\u001b[39mname)\n\u001b[0;32m    538\u001b[0m \u001b[39m# fallback\u001b[39;00m\n\u001b[1;32m--> 539\u001b[0m res \u001b[39m=\u001b[39m _array_strptime_with_fallback(\n\u001b[0;32m    540\u001b[0m     arg, name, tz, fmt, exact, errors, infer_datetime_format\n\u001b[0;32m    541\u001b[0m )\n\u001b[0;32m    542\u001b[0m \u001b[39mreturn\u001b[39;00m res\n",
      "File \u001b[1;32mc:\\Users\\alumno\\AppData\\Local\\Programs\\Python\\Python310\\lib\\site-packages\\pandas\\core\\tools\\datetimes.py:474\u001b[0m, in \u001b[0;36m_array_strptime_with_fallback\u001b[1;34m(arg, name, tz, fmt, exact, errors, infer_datetime_format)\u001b[0m\n\u001b[0;32m    471\u001b[0m utc \u001b[39m=\u001b[39m tz \u001b[39m==\u001b[39m \u001b[39m\"\u001b[39m\u001b[39mutc\u001b[39m\u001b[39m\"\u001b[39m\n\u001b[0;32m    473\u001b[0m \u001b[39mtry\u001b[39;00m:\n\u001b[1;32m--> 474\u001b[0m     result, timezones \u001b[39m=\u001b[39m array_strptime(arg, fmt, exact\u001b[39m=\u001b[39;49mexact, errors\u001b[39m=\u001b[39;49merrors)\n\u001b[0;32m    475\u001b[0m \u001b[39mexcept\u001b[39;00m OutOfBoundsDatetime:\n\u001b[0;32m    476\u001b[0m     \u001b[39mif\u001b[39;00m errors \u001b[39m==\u001b[39m \u001b[39m\"\u001b[39m\u001b[39mraise\u001b[39m\u001b[39m\"\u001b[39m:\n",
      "File \u001b[1;32mc:\\Users\\alumno\\AppData\\Local\\Programs\\Python\\Python310\\lib\\site-packages\\pandas\\_libs\\tslibs\\strptime.pyx:99\u001b[0m, in \u001b[0;36mpandas._libs.tslibs.strptime.array_strptime\u001b[1;34m()\u001b[0m\n",
      "File \u001b[1;32mc:\\Users\\alumno\\AppData\\Local\\Programs\\Python\\Python310\\lib\\site-packages\\pandas\\_libs\\tslibs\\strptime.pyx:109\u001b[0m, in \u001b[0;36mpandas._libs.tslibs.strptime.array_strptime\u001b[1;34m()\u001b[0m\n",
      "File \u001b[1;32mc:\\Users\\alumno\\AppData\\Local\\Programs\\Python\\Python310\\lib\\_strptime.py:263\u001b[0m, in \u001b[0;36mTimeRE.compile\u001b[1;34m(self, format)\u001b[0m\n\u001b[0;32m    261\u001b[0m \u001b[39mdef\u001b[39;00m \u001b[39mcompile\u001b[39m(\u001b[39mself\u001b[39m, \u001b[39mformat\u001b[39m):\n\u001b[0;32m    262\u001b[0m     \u001b[39m\"\"\"Return a compiled re object for the format string.\"\"\"\u001b[39;00m\n\u001b[1;32m--> 263\u001b[0m     \u001b[39mreturn\u001b[39;00m re_compile(\u001b[39mself\u001b[39;49m\u001b[39m.\u001b[39;49mpattern(\u001b[39mformat\u001b[39;49m), IGNORECASE)\n",
      "File \u001b[1;32mc:\\Users\\alumno\\AppData\\Local\\Programs\\Python\\Python310\\lib\\re.py:251\u001b[0m, in \u001b[0;36mcompile\u001b[1;34m(pattern, flags)\u001b[0m\n\u001b[0;32m    249\u001b[0m \u001b[39mdef\u001b[39;00m \u001b[39mcompile\u001b[39m(pattern, flags\u001b[39m=\u001b[39m\u001b[39m0\u001b[39m):\n\u001b[0;32m    250\u001b[0m     \u001b[39m\"\u001b[39m\u001b[39mCompile a regular expression pattern, returning a Pattern object.\u001b[39m\u001b[39m\"\u001b[39m\n\u001b[1;32m--> 251\u001b[0m     \u001b[39mreturn\u001b[39;00m _compile(pattern, flags)\n",
      "File \u001b[1;32mc:\\Users\\alumno\\AppData\\Local\\Programs\\Python\\Python310\\lib\\re.py:303\u001b[0m, in \u001b[0;36m_compile\u001b[1;34m(pattern, flags)\u001b[0m\n\u001b[0;32m    301\u001b[0m \u001b[39mif\u001b[39;00m \u001b[39mnot\u001b[39;00m sre_compile\u001b[39m.\u001b[39misstring(pattern):\n\u001b[0;32m    302\u001b[0m     \u001b[39mraise\u001b[39;00m \u001b[39mTypeError\u001b[39;00m(\u001b[39m\"\u001b[39m\u001b[39mfirst argument must be string or compiled pattern\u001b[39m\u001b[39m\"\u001b[39m)\n\u001b[1;32m--> 303\u001b[0m p \u001b[39m=\u001b[39m sre_compile\u001b[39m.\u001b[39;49mcompile(pattern, flags)\n\u001b[0;32m    304\u001b[0m \u001b[39mif\u001b[39;00m \u001b[39mnot\u001b[39;00m (flags \u001b[39m&\u001b[39m DEBUG):\n\u001b[0;32m    305\u001b[0m     \u001b[39mif\u001b[39;00m \u001b[39mlen\u001b[39m(_cache) \u001b[39m>\u001b[39m\u001b[39m=\u001b[39m _MAXCACHE:\n\u001b[0;32m    306\u001b[0m         \u001b[39m# Drop the oldest item\u001b[39;00m\n",
      "File \u001b[1;32mc:\\Users\\alumno\\AppData\\Local\\Programs\\Python\\Python310\\lib\\sre_compile.py:788\u001b[0m, in \u001b[0;36mcompile\u001b[1;34m(p, flags)\u001b[0m\n\u001b[0;32m    786\u001b[0m \u001b[39mif\u001b[39;00m isstring(p):\n\u001b[0;32m    787\u001b[0m     pattern \u001b[39m=\u001b[39m p\n\u001b[1;32m--> 788\u001b[0m     p \u001b[39m=\u001b[39m sre_parse\u001b[39m.\u001b[39;49mparse(p, flags)\n\u001b[0;32m    789\u001b[0m \u001b[39melse\u001b[39;00m:\n\u001b[0;32m    790\u001b[0m     pattern \u001b[39m=\u001b[39m \u001b[39mNone\u001b[39;00m\n",
      "File \u001b[1;32mc:\\Users\\alumno\\AppData\\Local\\Programs\\Python\\Python310\\lib\\sre_parse.py:955\u001b[0m, in \u001b[0;36mparse\u001b[1;34m(str, flags, state)\u001b[0m\n\u001b[0;32m    952\u001b[0m state\u001b[39m.\u001b[39mstr \u001b[39m=\u001b[39m \u001b[39mstr\u001b[39m\n\u001b[0;32m    954\u001b[0m \u001b[39mtry\u001b[39;00m:\n\u001b[1;32m--> 955\u001b[0m     p \u001b[39m=\u001b[39m _parse_sub(source, state, flags \u001b[39m&\u001b[39;49m SRE_FLAG_VERBOSE, \u001b[39m0\u001b[39;49m)\n\u001b[0;32m    956\u001b[0m \u001b[39mexcept\u001b[39;00m Verbose:\n\u001b[0;32m    957\u001b[0m     \u001b[39m# the VERBOSE flag was switched on inside the pattern.  to be\u001b[39;00m\n\u001b[0;32m    958\u001b[0m     \u001b[39m# on the safe side, we'll parse the whole thing again...\u001b[39;00m\n\u001b[0;32m    959\u001b[0m     state \u001b[39m=\u001b[39m State()\n",
      "File \u001b[1;32mc:\\Users\\alumno\\AppData\\Local\\Programs\\Python\\Python310\\lib\\sre_parse.py:444\u001b[0m, in \u001b[0;36m_parse_sub\u001b[1;34m(source, state, verbose, nested)\u001b[0m\n\u001b[0;32m    442\u001b[0m start \u001b[39m=\u001b[39m source\u001b[39m.\u001b[39mtell()\n\u001b[0;32m    443\u001b[0m \u001b[39mwhile\u001b[39;00m \u001b[39mTrue\u001b[39;00m:\n\u001b[1;32m--> 444\u001b[0m     itemsappend(_parse(source, state, verbose, nested \u001b[39m+\u001b[39;49m \u001b[39m1\u001b[39;49m,\n\u001b[0;32m    445\u001b[0m                        \u001b[39mnot\u001b[39;49;00m nested \u001b[39mand\u001b[39;49;00m \u001b[39mnot\u001b[39;49;00m items))\n\u001b[0;32m    446\u001b[0m     \u001b[39mif\u001b[39;00m \u001b[39mnot\u001b[39;00m sourcematch(\u001b[39m\"\u001b[39m\u001b[39m|\u001b[39m\u001b[39m\"\u001b[39m):\n\u001b[0;32m    447\u001b[0m         \u001b[39mbreak\u001b[39;00m\n",
      "File \u001b[1;32mc:\\Users\\alumno\\AppData\\Local\\Programs\\Python\\Python310\\lib\\sre_parse.py:838\u001b[0m, in \u001b[0;36m_parse\u001b[1;34m(source, state, verbose, nested, first)\u001b[0m\n\u001b[0;32m    836\u001b[0m         group \u001b[39m=\u001b[39m state\u001b[39m.\u001b[39mopengroup(name)\n\u001b[0;32m    837\u001b[0m     \u001b[39mexcept\u001b[39;00m error \u001b[39mas\u001b[39;00m err:\n\u001b[1;32m--> 838\u001b[0m         \u001b[39mraise\u001b[39;00m source\u001b[39m.\u001b[39merror(err\u001b[39m.\u001b[39mmsg, \u001b[39mlen\u001b[39m(name) \u001b[39m+\u001b[39m \u001b[39m1\u001b[39m) \u001b[39mfrom\u001b[39;00m \u001b[39mNone\u001b[39m\n\u001b[0;32m    839\u001b[0m sub_verbose \u001b[39m=\u001b[39m ((verbose \u001b[39mor\u001b[39;00m (add_flags \u001b[39m&\u001b[39m SRE_FLAG_VERBOSE)) \u001b[39mand\u001b[39;00m\n\u001b[0;32m    840\u001b[0m                \u001b[39mnot\u001b[39;00m (del_flags \u001b[39m&\u001b[39m SRE_FLAG_VERBOSE))\n\u001b[0;32m    841\u001b[0m p \u001b[39m=\u001b[39m _parse_sub(source, state, sub_verbose, nested \u001b[39m+\u001b[39m \u001b[39m1\u001b[39m)\n",
      "\u001b[1;31merror\u001b[0m: redefinition of group name 'b' as group 2; was group 1 at position 59"
     ]
    }
   ],
   "source": [
    "#quiero pasar la columna Periodo a datetime pero no puedo intente de mil formas\n",
    "I_BaF['Periodo'] = pd.to_datetime(I_BaF['Periodo'], format='%b-%b %Y')"
   ]
  },
  {
   "cell_type": "code",
   "execution_count": 118,
   "metadata": {},
   "outputs": [
    {
     "ename": "DateParseError",
     "evalue": "Unknown datetime string format, unable to parse: JUL-SEP 2022",
     "output_type": "error",
     "traceback": [
      "\u001b[1;31m---------------------------------------------------------------------------\u001b[0m",
      "\u001b[1;31mAttributeError\u001b[0m                            Traceback (most recent call last)",
      "File \u001b[1;32mc:\\Users\\alumno\\AppData\\Local\\Programs\\Python\\Python310\\lib\\site-packages\\pandas\\_libs\\tslibs\\period.pyx:1486\u001b[0m, in \u001b[0;36mpandas._libs.tslibs.period._extract_ordinal\u001b[1;34m()\u001b[0m\n",
      "\u001b[1;31mAttributeError\u001b[0m: 'str' object has no attribute 'ordinal'",
      "\nDuring handling of the above exception, another exception occurred:\n",
      "\u001b[1;31mValueError\u001b[0m                                Traceback (most recent call last)",
      "File \u001b[1;32mc:\\Users\\alumno\\AppData\\Local\\Programs\\Python\\Python310\\lib\\site-packages\\pandas\\_libs\\tslibs\\parsing.pyx:443\u001b[0m, in \u001b[0;36mpandas._libs.tslibs.parsing.parse_datetime_string_with_reso\u001b[1;34m()\u001b[0m\n",
      "File \u001b[1;32mc:\\Users\\alumno\\AppData\\Local\\Programs\\Python\\Python310\\lib\\site-packages\\pandas\\_libs\\tslibs\\parsing.pyx:653\u001b[0m, in \u001b[0;36mpandas._libs.tslibs.parsing.dateutil_parse\u001b[1;34m()\u001b[0m\n",
      "\u001b[1;31mValueError\u001b[0m: Unknown datetime string format, unable to parse: JUL-SEP 2022",
      "\nDuring handling of the above exception, another exception occurred:\n",
      "\u001b[1;31mDateParseError\u001b[0m                            Traceback (most recent call last)",
      "\u001b[1;32mf:\\PI_2\\EDA.ipynb Celda 85\u001b[0m in \u001b[0;36m<cell line: 6>\u001b[1;34m()\u001b[0m\n\u001b[0;32m      <a href='vscode-notebook-cell:/f%3A/PI_2/EDA.ipynb#Y245sZmlsZQ%3D%3D?line=3'>4</a>\u001b[0m \u001b[39m#periodos[1] = periodos[1].str.replace('Sept', 'Sep')\u001b[39;00m\n\u001b[0;32m      <a href='vscode-notebook-cell:/f%3A/PI_2/EDA.ipynb#Y245sZmlsZQ%3D%3D?line=4'>5</a>\u001b[0m periodos \u001b[39m=\u001b[39m periodos[\u001b[39m0\u001b[39m] \u001b[39m+\u001b[39m \u001b[39m'\u001b[39m\u001b[39m \u001b[39m\u001b[39m'\u001b[39m \u001b[39m+\u001b[39m periodos[\u001b[39m1\u001b[39m] \u001b[39m#+ ' ' + periodos[2]\u001b[39;00m\n\u001b[1;32m----> <a href='vscode-notebook-cell:/f%3A/PI_2/EDA.ipynb#Y245sZmlsZQ%3D%3D?line=5'>6</a>\u001b[0m periodos \u001b[39m=\u001b[39m pd\u001b[39m.\u001b[39;49mPeriodIndex(periodos, freq\u001b[39m=\u001b[39;49m\u001b[39m'\u001b[39;49m\u001b[39mQ\u001b[39;49m\u001b[39m'\u001b[39;49m)\n\u001b[0;32m      <a href='vscode-notebook-cell:/f%3A/PI_2/EDA.ipynb#Y245sZmlsZQ%3D%3D?line=6'>7</a>\u001b[0m df[\u001b[39m'\u001b[39m\u001b[39mPeriodo\u001b[39m\u001b[39m'\u001b[39m] \u001b[39m=\u001b[39m periodos\u001b[39m.\u001b[39mto_timestamp()\n\u001b[0;32m      <a href='vscode-notebook-cell:/f%3A/PI_2/EDA.ipynb#Y245sZmlsZQ%3D%3D?line=8'>9</a>\u001b[0m \u001b[39m# Imprimir el dataframe resultante\u001b[39;00m\n",
      "File \u001b[1;32mc:\\Users\\alumno\\AppData\\Local\\Programs\\Python\\Python310\\lib\\site-packages\\pandas\\core\\indexes\\period.py:274\u001b[0m, in \u001b[0;36mPeriodIndex.__new__\u001b[1;34m(cls, data, ordinal, freq, dtype, copy, name, **fields)\u001b[0m\n\u001b[0;32m    271\u001b[0m         data \u001b[39m=\u001b[39m PeriodArray(ordinal, freq\u001b[39m=\u001b[39mfreq)\n\u001b[0;32m    272\u001b[0m     \u001b[39melse\u001b[39;00m:\n\u001b[0;32m    273\u001b[0m         \u001b[39m# don't pass copy here, since we copy later.\u001b[39;00m\n\u001b[1;32m--> 274\u001b[0m         data \u001b[39m=\u001b[39m period_array(data\u001b[39m=\u001b[39;49mdata, freq\u001b[39m=\u001b[39;49mfreq)\n\u001b[0;32m    276\u001b[0m \u001b[39mif\u001b[39;00m copy:\n\u001b[0;32m    277\u001b[0m     data \u001b[39m=\u001b[39m data\u001b[39m.\u001b[39mcopy()\n",
      "File \u001b[1;32mc:\\Users\\alumno\\AppData\\Local\\Programs\\Python\\Python310\\lib\\site-packages\\pandas\\core\\arrays\\period.py:977\u001b[0m, in \u001b[0;36mperiod_array\u001b[1;34m(data, freq, copy)\u001b[0m\n\u001b[0;32m    973\u001b[0m     \u001b[39mreturn\u001b[39;00m PeriodArray(ordinals, dtype\u001b[39m=\u001b[39mdtype)\n\u001b[0;32m    975\u001b[0m data \u001b[39m=\u001b[39m ensure_object(arrdata)\n\u001b[1;32m--> 977\u001b[0m \u001b[39mreturn\u001b[39;00m PeriodArray\u001b[39m.\u001b[39;49m_from_sequence(data, dtype\u001b[39m=\u001b[39;49mdtype)\n",
      "File \u001b[1;32mc:\\Users\\alumno\\AppData\\Local\\Programs\\Python\\Python310\\lib\\site-packages\\pandas\\core\\arrays\\period.py:274\u001b[0m, in \u001b[0;36mPeriodArray._from_sequence\u001b[1;34m(cls, scalars, dtype, copy)\u001b[0m\n\u001b[0;32m    271\u001b[0m periods \u001b[39m=\u001b[39m np\u001b[39m.\u001b[39masarray(scalars, dtype\u001b[39m=\u001b[39m\u001b[39mobject\u001b[39m)\n\u001b[0;32m    273\u001b[0m freq \u001b[39m=\u001b[39m freq \u001b[39mor\u001b[39;00m libperiod\u001b[39m.\u001b[39mextract_freq(periods)\n\u001b[1;32m--> 274\u001b[0m ordinals \u001b[39m=\u001b[39m libperiod\u001b[39m.\u001b[39;49mextract_ordinals(periods, freq)\n\u001b[0;32m    275\u001b[0m \u001b[39mreturn\u001b[39;00m \u001b[39mcls\u001b[39m(ordinals, freq\u001b[39m=\u001b[39mfreq)\n",
      "File \u001b[1;32mc:\\Users\\alumno\\AppData\\Local\\Programs\\Python\\Python310\\lib\\site-packages\\pandas\\_libs\\tslibs\\period.pyx:1460\u001b[0m, in \u001b[0;36mpandas._libs.tslibs.period.extract_ordinals\u001b[1;34m()\u001b[0m\n",
      "File \u001b[1;32mc:\\Users\\alumno\\AppData\\Local\\Programs\\Python\\Python310\\lib\\site-packages\\pandas\\_libs\\tslibs\\period.pyx:1495\u001b[0m, in \u001b[0;36mpandas._libs.tslibs.period._extract_ordinal\u001b[1;34m()\u001b[0m\n",
      "File \u001b[1;32mc:\\Users\\alumno\\AppData\\Local\\Programs\\Python\\Python310\\lib\\site-packages\\pandas\\_libs\\tslibs\\period.pyx:2580\u001b[0m, in \u001b[0;36mpandas._libs.tslibs.period.Period.__new__\u001b[1;34m()\u001b[0m\n",
      "File \u001b[1;32mc:\\Users\\alumno\\AppData\\Local\\Programs\\Python\\Python310\\lib\\site-packages\\pandas\\_libs\\tslibs\\parsing.pyx:370\u001b[0m, in \u001b[0;36mpandas._libs.tslibs.parsing.parse_time_string\u001b[1;34m()\u001b[0m\n",
      "File \u001b[1;32mc:\\Users\\alumno\\AppData\\Local\\Programs\\Python\\Python310\\lib\\site-packages\\pandas\\_libs\\tslibs\\parsing.pyx:448\u001b[0m, in \u001b[0;36mpandas._libs.tslibs.parsing.parse_datetime_string_with_reso\u001b[1;34m()\u001b[0m\n",
      "\u001b[1;31mDateParseError\u001b[0m: Unknown datetime string format, unable to parse: JUL-SEP 2022"
     ]
    }
   ],
   "source": [
    "df = I_BaF\n",
    "# Convertir la columna 'Periodo' a tipo datetime\n",
    "periodos = df['Periodo'].str.split(' ',expand=True)\n",
    "#periodos[1] = periodos[1].str.replace('Sept', 'Sep')\n",
    "periodos = periodos[0] + ' ' + periodos[1] #+ ' ' + periodos[2]\n",
    "periodos = pd.PeriodIndex(periodos, freq='Q')\n",
    "df['Periodo'] = periodos.to_timestamp()\n",
    "\n",
    "# Imprimir el dataframe resultante\n",
    "print(df)\n"
   ]
  },
  {
   "attachments": {},
   "cell_type": "markdown",
   "metadata": {},
   "source": [
    "Analisis de "
   ]
  },
  {
   "cell_type": "code",
   "execution_count": 119,
   "metadata": {},
   "outputs": [
    {
     "data": {
      "text/html": [
       "<div>\n",
       "<style scoped>\n",
       "    .dataframe tbody tr th:only-of-type {\n",
       "        vertical-align: middle;\n",
       "    }\n",
       "\n",
       "    .dataframe tbody tr th {\n",
       "        vertical-align: top;\n",
       "    }\n",
       "\n",
       "    .dataframe thead th {\n",
       "        text-align: right;\n",
       "    }\n",
       "</style>\n",
       "<table border=\"1\" class=\"dataframe\">\n",
       "  <thead>\n",
       "    <tr style=\"text-align: right;\">\n",
       "      <th></th>\n",
       "      <th>Provincia</th>\n",
       "      <th>Partido</th>\n",
       "      <th>Localidad</th>\n",
       "      <th>ADSL</th>\n",
       "      <th>CABLEMODEM</th>\n",
       "      <th>DIALUP</th>\n",
       "      <th>FIBRAOPTICA</th>\n",
       "      <th>4G</th>\n",
       "      <th>3G</th>\n",
       "      <th>TELEFONIAFIJA</th>\n",
       "      <th>WIRELESS</th>\n",
       "      <th>SATELITAL</th>\n",
       "    </tr>\n",
       "  </thead>\n",
       "  <tbody>\n",
       "    <tr>\n",
       "      <th>0</th>\n",
       "      <td>BUENOS AIRES</td>\n",
       "      <td>Bahía Blanca</td>\n",
       "      <td>Villa Bordeau</td>\n",
       "      <td>--</td>\n",
       "      <td>--</td>\n",
       "      <td>--</td>\n",
       "      <td>--</td>\n",
       "      <td>SI</td>\n",
       "      <td>SI</td>\n",
       "      <td>--</td>\n",
       "      <td>--</td>\n",
       "      <td>--</td>\n",
       "    </tr>\n",
       "    <tr>\n",
       "      <th>1</th>\n",
       "      <td>BUENOS AIRES</td>\n",
       "      <td>Bahía Blanca</td>\n",
       "      <td>Villa Espora</td>\n",
       "      <td>--</td>\n",
       "      <td>--</td>\n",
       "      <td>--</td>\n",
       "      <td>--</td>\n",
       "      <td>--</td>\n",
       "      <td>--</td>\n",
       "      <td>--</td>\n",
       "      <td>--</td>\n",
       "      <td>--</td>\n",
       "    </tr>\n",
       "    <tr>\n",
       "      <th>2</th>\n",
       "      <td>BUENOS AIRES</td>\n",
       "      <td>Balcarce</td>\n",
       "      <td>Balcarce</td>\n",
       "      <td>SI</td>\n",
       "      <td>SI</td>\n",
       "      <td>SI</td>\n",
       "      <td>SI</td>\n",
       "      <td>SI</td>\n",
       "      <td>SI</td>\n",
       "      <td>SI</td>\n",
       "      <td>SI</td>\n",
       "      <td>--</td>\n",
       "    </tr>\n",
       "    <tr>\n",
       "      <th>3</th>\n",
       "      <td>BUENOS AIRES</td>\n",
       "      <td>Balcarce</td>\n",
       "      <td>Los Pinos</td>\n",
       "      <td>--</td>\n",
       "      <td>--</td>\n",
       "      <td>--</td>\n",
       "      <td>--</td>\n",
       "      <td>--</td>\n",
       "      <td>--</td>\n",
       "      <td>SI</td>\n",
       "      <td>SI</td>\n",
       "      <td>--</td>\n",
       "    </tr>\n",
       "    <tr>\n",
       "      <th>4</th>\n",
       "      <td>BUENOS AIRES</td>\n",
       "      <td>Balcarce</td>\n",
       "      <td>Napaleofú</td>\n",
       "      <td>--</td>\n",
       "      <td>--</td>\n",
       "      <td>--</td>\n",
       "      <td>SI</td>\n",
       "      <td>SI</td>\n",
       "      <td>SI</td>\n",
       "      <td>SI</td>\n",
       "      <td>SI</td>\n",
       "      <td>--</td>\n",
       "    </tr>\n",
       "  </tbody>\n",
       "</table>\n",
       "</div>"
      ],
      "text/plain": [
       "      Provincia       Partido      Localidad ADSL CABLEMODEM DIALUP  \\\n",
       "0  BUENOS AIRES  Bahía Blanca  Villa Bordeau   --         --     --   \n",
       "1  BUENOS AIRES  Bahía Blanca   Villa Espora   --         --     --   \n",
       "2  BUENOS AIRES      Balcarce       Balcarce   SI         SI     SI   \n",
       "3  BUENOS AIRES      Balcarce      Los Pinos   --         --     --   \n",
       "4  BUENOS AIRES      Balcarce      Napaleofú   --         --     --   \n",
       "\n",
       "  FIBRAOPTICA  4G  3G TELEFONIAFIJA WIRELESS SATELITAL  \n",
       "0          --  SI  SI            --       --        --  \n",
       "1          --  --  --            --       --        --  \n",
       "2          SI  SI  SI            SI       SI        --  \n",
       "3          --  --  --            SI       SI        --  \n",
       "4          SI  SI  SI            SI       SI        --  "
      ]
     },
     "execution_count": 119,
     "metadata": {},
     "output_type": "execute_result"
    }
   ],
   "source": [
    "I_loc_conint.head()"
   ]
  },
  {
   "cell_type": "code",
   "execution_count": 121,
   "metadata": {},
   "outputs": [
    {
     "data": {
      "text/html": [
       "<div>\n",
       "<style scoped>\n",
       "    .dataframe tbody tr th:only-of-type {\n",
       "        vertical-align: middle;\n",
       "    }\n",
       "\n",
       "    .dataframe tbody tr th {\n",
       "        vertical-align: top;\n",
       "    }\n",
       "\n",
       "    .dataframe thead th {\n",
       "        text-align: right;\n",
       "    }\n",
       "</style>\n",
       "<table border=\"1\" class=\"dataframe\">\n",
       "  <thead>\n",
       "    <tr style=\"text-align: right;\">\n",
       "      <th></th>\n",
       "      <th>Provincia</th>\n",
       "      <th>Partido</th>\n",
       "      <th>Localidad</th>\n",
       "      <th>ADSL</th>\n",
       "      <th>CABLEMODEM</th>\n",
       "      <th>DIALUP</th>\n",
       "      <th>FIBRAOPTICA</th>\n",
       "      <th>4G</th>\n",
       "      <th>3G</th>\n",
       "      <th>TELEFONIAFIJA</th>\n",
       "      <th>WIRELESS</th>\n",
       "      <th>SATELITAL</th>\n",
       "    </tr>\n",
       "  </thead>\n",
       "  <tbody>\n",
       "    <tr>\n",
       "      <th>count</th>\n",
       "      <td>4312</td>\n",
       "      <td>4312</td>\n",
       "      <td>4312</td>\n",
       "      <td>4312</td>\n",
       "      <td>4312</td>\n",
       "      <td>4312</td>\n",
       "      <td>4312</td>\n",
       "      <td>4312</td>\n",
       "      <td>4312</td>\n",
       "      <td>4312</td>\n",
       "      <td>4312</td>\n",
       "      <td>4312</td>\n",
       "    </tr>\n",
       "    <tr>\n",
       "      <th>unique</th>\n",
       "      <td>24</td>\n",
       "      <td>444</td>\n",
       "      <td>3912</td>\n",
       "      <td>2</td>\n",
       "      <td>2</td>\n",
       "      <td>2</td>\n",
       "      <td>2</td>\n",
       "      <td>2</td>\n",
       "      <td>2</td>\n",
       "      <td>2</td>\n",
       "      <td>2</td>\n",
       "      <td>2</td>\n",
       "    </tr>\n",
       "    <tr>\n",
       "      <th>top</th>\n",
       "      <td>BUENOS AIRES</td>\n",
       "      <td>General Roca</td>\n",
       "      <td>San Pedro</td>\n",
       "      <td>--</td>\n",
       "      <td>--</td>\n",
       "      <td>--</td>\n",
       "      <td>--</td>\n",
       "      <td>SI</td>\n",
       "      <td>--</td>\n",
       "      <td>SI</td>\n",
       "      <td>SI</td>\n",
       "      <td>--</td>\n",
       "    </tr>\n",
       "    <tr>\n",
       "      <th>freq</th>\n",
       "      <td>901</td>\n",
       "      <td>85</td>\n",
       "      <td>12</td>\n",
       "      <td>3179</td>\n",
       "      <td>3436</td>\n",
       "      <td>3909</td>\n",
       "      <td>2866</td>\n",
       "      <td>2574</td>\n",
       "      <td>2432</td>\n",
       "      <td>2162</td>\n",
       "      <td>2242</td>\n",
       "      <td>3233</td>\n",
       "    </tr>\n",
       "  </tbody>\n",
       "</table>\n",
       "</div>"
      ],
      "text/plain": [
       "           Provincia       Partido  Localidad  ADSL CABLEMODEM DIALUP  \\\n",
       "count           4312          4312       4312  4312       4312   4312   \n",
       "unique            24           444       3912     2          2      2   \n",
       "top     BUENOS AIRES  General Roca  San Pedro    --         --     --   \n",
       "freq             901            85         12  3179       3436   3909   \n",
       "\n",
       "       FIBRAOPTICA    4G    3G TELEFONIAFIJA WIRELESS SATELITAL  \n",
       "count         4312  4312  4312          4312     4312      4312  \n",
       "unique           2     2     2             2        2         2  \n",
       "top             --    SI    --            SI       SI        --  \n",
       "freq          2866  2574  2432          2162     2242      3233  "
      ]
     },
     "execution_count": 121,
     "metadata": {},
     "output_type": "execute_result"
    }
   ],
   "source": [
    "I_loc_conint.describe()"
   ]
  }
 ],
 "metadata": {
  "kernelspec": {
   "display_name": "Python 3",
   "language": "python",
   "name": "python3"
  },
  "language_info": {
   "codemirror_mode": {
    "name": "ipython",
    "version": 3
   },
   "file_extension": ".py",
   "mimetype": "text/x-python",
   "name": "python",
   "nbconvert_exporter": "python",
   "pygments_lexer": "ipython3",
   "version": "3.10.10"
  },
  "orig_nbformat": 4
 },
 "nbformat": 4,
 "nbformat_minor": 2
}
