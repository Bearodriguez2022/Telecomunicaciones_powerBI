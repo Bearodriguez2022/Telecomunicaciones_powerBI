{
 "cells": [
  {
   "attachments": {},
   "cell_type": "markdown",
   "metadata": {},
   "source": [
    "Analisis Exploratorio de Datos Telecomunicaciones"
   ]
  },
  {
   "cell_type": "code",
   "execution_count": 1,
   "metadata": {},
   "outputs": [],
   "source": [
    "import pandas as pd \n",
    "import numpy as np\n",
    "import seaborn as sns\n",
    "import matplotlib.pyplot as plt"
   ]
  },
  {
   "attachments": {},
   "cell_type": "markdown",
   "metadata": {},
   "source": [
    "Los archivos furon descargados de la pagina https://datosabiertos.enacom.gob.ar/dashboards/20000/acceso-a-internet/"
   ]
  },
  {
   "cell_type": "code",
   "execution_count": 4,
   "metadata": {},
   "outputs": [],
   "source": [
    "I_tecyloc = pd.read_csv('DATA\\AccesosaInternetfijoportecnologiaylocalidad_2791751681952123859.csv')\n",
    "I_portec= pd.read_csv('DATA\\Internet_Accesos-por-tecnologia.csv')\n",
    "I_BaF = pd.read_csv('DATA\\Internet_BAF.csv')\n",
    "I_loc_conint = pd.read_csv('DATA\\Listadodelocalidadesconconectividadainternet_2750221682343504168.csv')\n",
    "I_100hogares = pd.read_csv('DATA\\Internet_Penetracion.csv')\n"
   ]
  },
  {
   "attachments": {},
   "cell_type": "markdown",
   "metadata": {},
   "source": [
    "Analisis de Accesosa Internet por tecnologia y localidad"
   ]
  },
  {
   "cell_type": "code",
   "execution_count": 6,
   "metadata": {},
   "outputs": [
    {
     "name": "stdout",
     "output_type": "stream",
     "text": [
      "<class 'pandas.core.frame.DataFrame'>\n",
      "RangeIndex: 3142 entries, 0 to 3141\n",
      "Data columns (total 14 columns):\n",
      " #   Column         Non-Null Count  Dtype  \n",
      "---  ------         --------------  -----  \n",
      " 0   Provincia      3142 non-null   object \n",
      " 1   Partido        3142 non-null   object \n",
      " 2   Localidad      3142 non-null   object \n",
      " 3   Link Indec     3142 non-null   object \n",
      " 4   ADSL           3142 non-null   object \n",
      " 5   CABLEMODEM     3142 non-null   object \n",
      " 6   DIAL UP        3142 non-null   object \n",
      " 7   FIBRA OPTICA   3142 non-null   object \n",
      " 8   OTROS          3142 non-null   object \n",
      " 9   SATELITAL      3142 non-null   object \n",
      " 10  WIMAX          3142 non-null   object \n",
      " 11  WIRELESS       3142 non-null   object \n",
      " 12  Total general  3142 non-null   object \n",
      " 13  Unnamed: 13    0 non-null      float64\n",
      "dtypes: float64(1), object(13)\n",
      "memory usage: 343.8+ KB\n"
     ]
    }
   ],
   "source": [
    "I_tecyloc.info()"
   ]
  },
  {
   "cell_type": "code",
   "execution_count": 7,
   "metadata": {},
   "outputs": [
    {
     "data": {
      "text/html": [
       "<div>\n",
       "<style scoped>\n",
       "    .dataframe tbody tr th:only-of-type {\n",
       "        vertical-align: middle;\n",
       "    }\n",
       "\n",
       "    .dataframe tbody tr th {\n",
       "        vertical-align: top;\n",
       "    }\n",
       "\n",
       "    .dataframe thead th {\n",
       "        text-align: right;\n",
       "    }\n",
       "</style>\n",
       "<table border=\"1\" class=\"dataframe\">\n",
       "  <thead>\n",
       "    <tr style=\"text-align: right;\">\n",
       "      <th></th>\n",
       "      <th>Provincia</th>\n",
       "      <th>Partido</th>\n",
       "      <th>Localidad</th>\n",
       "      <th>Link Indec</th>\n",
       "      <th>ADSL</th>\n",
       "      <th>CABLEMODEM</th>\n",
       "      <th>DIAL UP</th>\n",
       "      <th>FIBRA OPTICA</th>\n",
       "      <th>OTROS</th>\n",
       "      <th>SATELITAL</th>\n",
       "      <th>WIMAX</th>\n",
       "      <th>WIRELESS</th>\n",
       "      <th>Total general</th>\n",
       "    </tr>\n",
       "  </thead>\n",
       "  <tbody>\n",
       "    <tr>\n",
       "      <th>count</th>\n",
       "      <td>3142</td>\n",
       "      <td>3142</td>\n",
       "      <td>3142</td>\n",
       "      <td>3142</td>\n",
       "      <td>3142</td>\n",
       "      <td>3142</td>\n",
       "      <td>3142</td>\n",
       "      <td>3142</td>\n",
       "      <td>3142</td>\n",
       "      <td>3142</td>\n",
       "      <td>3142</td>\n",
       "      <td>3142</td>\n",
       "      <td>3142</td>\n",
       "    </tr>\n",
       "    <tr>\n",
       "      <th>unique</th>\n",
       "      <td>24</td>\n",
       "      <td>432</td>\n",
       "      <td>2850</td>\n",
       "      <td>2718</td>\n",
       "      <td>724</td>\n",
       "      <td>693</td>\n",
       "      <td>86</td>\n",
       "      <td>706</td>\n",
       "      <td>219</td>\n",
       "      <td>24</td>\n",
       "      <td>12</td>\n",
       "      <td>606</td>\n",
       "      <td>1348</td>\n",
       "    </tr>\n",
       "    <tr>\n",
       "      <th>top</th>\n",
       "      <td>BUENOS AIRES</td>\n",
       "      <td>General Roca</td>\n",
       "      <td>OTROS</td>\n",
       "      <td>Sin Datos</td>\n",
       "      <td>- 0</td>\n",
       "      <td>- 0</td>\n",
       "      <td>- 0</td>\n",
       "      <td>- 0</td>\n",
       "      <td>- 0</td>\n",
       "      <td>- 0</td>\n",
       "      <td>- 0</td>\n",
       "      <td>- 0</td>\n",
       "      <td>1</td>\n",
       "    </tr>\n",
       "    <tr>\n",
       "      <th>freq</th>\n",
       "      <td>716</td>\n",
       "      <td>57</td>\n",
       "      <td>69</td>\n",
       "      <td>72</td>\n",
       "      <td>2016</td>\n",
       "      <td>2295</td>\n",
       "      <td>2760</td>\n",
       "      <td>1743</td>\n",
       "      <td>2537</td>\n",
       "      <td>2089</td>\n",
       "      <td>3131</td>\n",
       "      <td>934</td>\n",
       "      <td>193</td>\n",
       "    </tr>\n",
       "  </tbody>\n",
       "</table>\n",
       "</div>"
      ],
      "text/plain": [
       "           Provincia       Partido Localidad Link Indec  ADSL CABLEMODEM  \\\n",
       "count           3142          3142      3142       3142  3142       3142   \n",
       "unique            24           432      2850       2718   724        693   \n",
       "top     BUENOS AIRES  General Roca     OTROS  Sin Datos   - 0        - 0   \n",
       "freq             716            57        69         72  2016       2295   \n",
       "\n",
       "       DIAL UP FIBRA OPTICA OTROS SATELITAL WIMAX WIRELESS Total general  \n",
       "count     3142         3142  3142      3142  3142     3142          3142  \n",
       "unique      86          706   219        24    12      606          1348  \n",
       "top        - 0          - 0   - 0       - 0   - 0      - 0             1  \n",
       "freq      2760         1743  2537      2089  3131      934           193  "
      ]
     },
     "execution_count": 7,
     "metadata": {},
     "output_type": "execute_result"
    }
   ],
   "source": [
    "I_tecyloc.describe(exclude='number')"
   ]
  },
  {
   "cell_type": "code",
   "execution_count": 8,
   "metadata": {},
   "outputs": [],
   "source": [
    "#convierto todo a minusculas para trabajar con mas comodidad\n",
    "I_tecyloc = I_tecyloc.apply(lambda x: x.astype(str).str.lower() if x.dtype == 'object' else x)"
   ]
  },
  {
   "cell_type": "code",
   "execution_count": 9,
   "metadata": {},
   "outputs": [],
   "source": [
    "#cambio tambien los nombres de columnas\n",
    "I_tecyloc= I_tecyloc.rename(columns=lambda x: x.lower())"
   ]
  },
  {
   "cell_type": "code",
   "execution_count": 10,
   "metadata": {},
   "outputs": [
    {
     "data": {
      "text/html": [
       "<div>\n",
       "<style scoped>\n",
       "    .dataframe tbody tr th:only-of-type {\n",
       "        vertical-align: middle;\n",
       "    }\n",
       "\n",
       "    .dataframe tbody tr th {\n",
       "        vertical-align: top;\n",
       "    }\n",
       "\n",
       "    .dataframe thead th {\n",
       "        text-align: right;\n",
       "    }\n",
       "</style>\n",
       "<table border=\"1\" class=\"dataframe\">\n",
       "  <thead>\n",
       "    <tr style=\"text-align: right;\">\n",
       "      <th></th>\n",
       "      <th>provincia</th>\n",
       "      <th>partido</th>\n",
       "      <th>localidad</th>\n",
       "      <th>link indec</th>\n",
       "      <th>adsl</th>\n",
       "      <th>cablemodem</th>\n",
       "      <th>dial up</th>\n",
       "      <th>fibra optica</th>\n",
       "      <th>otros</th>\n",
       "      <th>satelital</th>\n",
       "      <th>wimax</th>\n",
       "      <th>wireless</th>\n",
       "      <th>total general</th>\n",
       "    </tr>\n",
       "  </thead>\n",
       "  <tbody>\n",
       "    <tr>\n",
       "      <th>count</th>\n",
       "      <td>3142</td>\n",
       "      <td>3142</td>\n",
       "      <td>3142</td>\n",
       "      <td>3142</td>\n",
       "      <td>3142</td>\n",
       "      <td>3142</td>\n",
       "      <td>3142</td>\n",
       "      <td>3142</td>\n",
       "      <td>3142</td>\n",
       "      <td>3142</td>\n",
       "      <td>3142</td>\n",
       "      <td>3142</td>\n",
       "      <td>3142</td>\n",
       "    </tr>\n",
       "    <tr>\n",
       "      <th>unique</th>\n",
       "      <td>24</td>\n",
       "      <td>432</td>\n",
       "      <td>2850</td>\n",
       "      <td>2718</td>\n",
       "      <td>724</td>\n",
       "      <td>693</td>\n",
       "      <td>86</td>\n",
       "      <td>706</td>\n",
       "      <td>219</td>\n",
       "      <td>24</td>\n",
       "      <td>12</td>\n",
       "      <td>606</td>\n",
       "      <td>1348</td>\n",
       "    </tr>\n",
       "    <tr>\n",
       "      <th>top</th>\n",
       "      <td>buenos aires</td>\n",
       "      <td>general roca</td>\n",
       "      <td>otros</td>\n",
       "      <td>sin datos</td>\n",
       "      <td>- 0</td>\n",
       "      <td>- 0</td>\n",
       "      <td>- 0</td>\n",
       "      <td>- 0</td>\n",
       "      <td>- 0</td>\n",
       "      <td>- 0</td>\n",
       "      <td>- 0</td>\n",
       "      <td>- 0</td>\n",
       "      <td>1</td>\n",
       "    </tr>\n",
       "    <tr>\n",
       "      <th>freq</th>\n",
       "      <td>716</td>\n",
       "      <td>57</td>\n",
       "      <td>69</td>\n",
       "      <td>72</td>\n",
       "      <td>2016</td>\n",
       "      <td>2295</td>\n",
       "      <td>2760</td>\n",
       "      <td>1743</td>\n",
       "      <td>2537</td>\n",
       "      <td>2089</td>\n",
       "      <td>3131</td>\n",
       "      <td>934</td>\n",
       "      <td>193</td>\n",
       "    </tr>\n",
       "  </tbody>\n",
       "</table>\n",
       "</div>"
      ],
      "text/plain": [
       "           provincia       partido localidad link indec  adsl cablemodem  \\\n",
       "count           3142          3142      3142       3142  3142       3142   \n",
       "unique            24           432      2850       2718   724        693   \n",
       "top     buenos aires  general roca     otros  sin datos   - 0        - 0   \n",
       "freq             716            57        69         72  2016       2295   \n",
       "\n",
       "       dial up fibra optica otros satelital wimax wireless total general  \n",
       "count     3142         3142  3142      3142  3142     3142          3142  \n",
       "unique      86          706   219        24    12      606          1348  \n",
       "top        - 0          - 0   - 0       - 0   - 0      - 0             1  \n",
       "freq      2760         1743  2537      2089  3131      934           193  "
      ]
     },
     "execution_count": 10,
     "metadata": {},
     "output_type": "execute_result"
    }
   ],
   "source": [
    "I_tecyloc.describe(exclude='number')"
   ]
  },
  {
   "attachments": {},
   "cell_type": "markdown",
   "metadata": {},
   "source": [
    "Se puede observar el analisis en 24 provincias, donde la mayor concentranción esta en Bs. As, en el partido de gral. Roca donde el Internet que mas utilizan es adsl."
   ]
  },
  {
   "cell_type": "code",
   "execution_count": 11,
   "metadata": {},
   "outputs": [
    {
     "data": {
      "text/plain": [
       "count    0.0\n",
       "mean     NaN\n",
       "std      NaN\n",
       "min      NaN\n",
       "25%      NaN\n",
       "50%      NaN\n",
       "75%      NaN\n",
       "max      NaN\n",
       "Name: unnamed: 13, dtype: float64"
      ]
     },
     "execution_count": 11,
     "metadata": {},
     "output_type": "execute_result"
    }
   ],
   "source": [
    "#analizo unnamed \n",
    "I_tecyloc['unnamed: 13'].describe()"
   ]
  },
  {
   "cell_type": "code",
   "execution_count": 13,
   "metadata": {},
   "outputs": [
    {
     "data": {
      "text/plain": [
       "(3142,)"
      ]
     },
     "execution_count": 13,
     "metadata": {},
     "output_type": "execute_result"
    }
   ],
   "source": [
    "I_tecyloc['unnamed: 13'].shape"
   ]
  },
  {
   "cell_type": "code",
   "execution_count": 66,
   "metadata": {},
   "outputs": [
    {
     "data": {
      "text/plain": [
       "3142"
      ]
     },
     "execution_count": 66,
     "metadata": {},
     "output_type": "execute_result"
    }
   ],
   "source": [
    "I_tecyloc['unnamed: 13'].isna().sum()"
   ]
  },
  {
   "cell_type": "code",
   "execution_count": 14,
   "metadata": {},
   "outputs": [],
   "source": [
    "#considero irrelevante ya que todos sus valores son nan, por lo tanto la borro\n",
    "I_tecyloc = I_tecyloc.drop(columns= 'unnamed: 13')"
   ]
  },
  {
   "cell_type": "code",
   "execution_count": 15,
   "metadata": {},
   "outputs": [
    {
     "data": {
      "text/html": [
       "<div>\n",
       "<style scoped>\n",
       "    .dataframe tbody tr th:only-of-type {\n",
       "        vertical-align: middle;\n",
       "    }\n",
       "\n",
       "    .dataframe tbody tr th {\n",
       "        vertical-align: top;\n",
       "    }\n",
       "\n",
       "    .dataframe thead th {\n",
       "        text-align: right;\n",
       "    }\n",
       "</style>\n",
       "<table border=\"1\" class=\"dataframe\">\n",
       "  <thead>\n",
       "    <tr style=\"text-align: right;\">\n",
       "      <th></th>\n",
       "      <th>provincia</th>\n",
       "      <th>partido</th>\n",
       "      <th>localidad</th>\n",
       "      <th>link indec</th>\n",
       "      <th>adsl</th>\n",
       "      <th>cablemodem</th>\n",
       "      <th>dial up</th>\n",
       "      <th>fibra optica</th>\n",
       "      <th>otros</th>\n",
       "      <th>satelital</th>\n",
       "      <th>wimax</th>\n",
       "      <th>wireless</th>\n",
       "      <th>total general</th>\n",
       "    </tr>\n",
       "  </thead>\n",
       "  <tbody>\n",
       "    <tr>\n",
       "      <th>0</th>\n",
       "      <td>buenos aires</td>\n",
       "      <td>25 de mayo</td>\n",
       "      <td>25 de mayo</td>\n",
       "      <td>6854100</td>\n",
       "      <td>873</td>\n",
       "      <td>4.704</td>\n",
       "      <td>- 0</td>\n",
       "      <td>2</td>\n",
       "      <td>- 0</td>\n",
       "      <td>975</td>\n",
       "      <td>- 0</td>\n",
       "      <td>664</td>\n",
       "      <td>7.218</td>\n",
       "    </tr>\n",
       "    <tr>\n",
       "      <th>1</th>\n",
       "      <td>buenos aires</td>\n",
       "      <td>25 de mayo</td>\n",
       "      <td>del valle</td>\n",
       "      <td>6854020</td>\n",
       "      <td>181</td>\n",
       "      <td>- 0</td>\n",
       "      <td>- 0</td>\n",
       "      <td>- 0</td>\n",
       "      <td>10</td>\n",
       "      <td>1</td>\n",
       "      <td>- 0</td>\n",
       "      <td>- 0</td>\n",
       "      <td>192</td>\n",
       "    </tr>\n",
       "  </tbody>\n",
       "</table>\n",
       "</div>"
      ],
      "text/plain": [
       "      provincia     partido   localidad link indec adsl cablemodem dial up  \\\n",
       "0  buenos aires  25 de mayo  25 de mayo    6854100  873      4.704     - 0   \n",
       "1  buenos aires  25 de mayo   del valle    6854020  181        - 0     - 0   \n",
       "\n",
       "  fibra optica otros satelital wimax wireless total general  \n",
       "0            2   - 0       975   - 0      664         7.218  \n",
       "1          - 0    10         1   - 0      - 0           192  "
      ]
     },
     "execution_count": 15,
     "metadata": {},
     "output_type": "execute_result"
    }
   ],
   "source": [
    "I_tecyloc.head(2)"
   ]
  },
  {
   "attachments": {},
   "cell_type": "markdown",
   "metadata": {},
   "source": [
    "Analisis Para variables numericas de I_tecyloc(acceso internet por localidad) :"
   ]
  },
  {
   "attachments": {},
   "cell_type": "markdown",
   "metadata": {},
   "source": [
    "Transformo las columnas que contienen valores numericos porque estan como 'o'. Estan columnas son: link indec, cablemodem,\tdial up,\tfibra optica,\totros,\tsatelital,\twimax,\twireless,\ttotal general"
   ]
  },
  {
   "cell_type": "code",
   "execution_count": 16,
   "metadata": {},
   "outputs": [],
   "source": [
    "I_tecyloc['adsl'] = I_tecyloc['adsl'].replace('- 0','0')"
   ]
  },
  {
   "cell_type": "code",
   "execution_count": 33,
   "metadata": {},
   "outputs": [],
   "source": [
    "I_tecyloc['adsl'] = I_tecyloc['adsl'].astype('float')"
   ]
  },
  {
   "cell_type": "code",
   "execution_count": 18,
   "metadata": {},
   "outputs": [
    {
     "name": "stderr",
     "output_type": "stream",
     "text": [
      "C:\\Users\\alumno\\AppData\\Local\\Temp\\ipykernel_536\\3519638503.py:2: FutureWarning: The default value of regex will change from True to False in a future version. In addition, single character regular expressions will *not* be treated as literal strings when regex=True.\n",
      "  I_tecyloc['cablemodem'] = I_tecyloc['cablemodem'].str.replace('.','')\n"
     ]
    }
   ],
   "source": [
    "I_tecyloc['cablemodem'] = I_tecyloc['cablemodem'].replace('- 0','0')\n",
    "I_tecyloc['cablemodem'] = I_tecyloc['cablemodem'].str.replace('.','')\n",
    "I_tecyloc['cablemodem'] = I_tecyloc['cablemodem'].astype('float')"
   ]
  },
  {
   "cell_type": "code",
   "execution_count": 19,
   "metadata": {},
   "outputs": [],
   "source": [
    "I_tecyloc['dial up'] = I_tecyloc['dial up'].replace('- 0','0')\n",
    "I_tecyloc['dial up'] = I_tecyloc['dial up'].astype(float)"
   ]
  },
  {
   "cell_type": "code",
   "execution_count": 20,
   "metadata": {},
   "outputs": [],
   "source": [
    "I_tecyloc['fibra optica'] = I_tecyloc['fibra optica'].replace('- 0','0')\n",
    "I_tecyloc['fibra optica'] = I_tecyloc['fibra optica'].astype(float)"
   ]
  },
  {
   "cell_type": "code",
   "execution_count": 21,
   "metadata": {},
   "outputs": [],
   "source": [
    "I_tecyloc['satelital'] = I_tecyloc['satelital'].replace('- 0','0')\n",
    "I_tecyloc['satelital'] = I_tecyloc['satelital'].astype(float)"
   ]
  },
  {
   "cell_type": "code",
   "execution_count": 22,
   "metadata": {},
   "outputs": [],
   "source": [
    "I_tecyloc['wimax'] = I_tecyloc['wimax'].replace('- 0','0')\n",
    "I_tecyloc['wimax'] = I_tecyloc['wimax'].astype(float)"
   ]
  },
  {
   "cell_type": "code",
   "execution_count": 23,
   "metadata": {},
   "outputs": [],
   "source": [
    "I_tecyloc['wireless'] = I_tecyloc['wireless'].replace('- 0','0')\n",
    "I_tecyloc['wireless'] = I_tecyloc['wireless'].astype(float)"
   ]
  },
  {
   "cell_type": "code",
   "execution_count": 36,
   "metadata": {},
   "outputs": [],
   "source": [
    "I_tecyloc['otros'] = I_tecyloc['otros'].replace('- 0','0')\n",
    "I_tecyloc['otros'] = I_tecyloc['otros'].astype('float')"
   ]
  },
  {
   "cell_type": "code",
   "execution_count": 24,
   "metadata": {},
   "outputs": [
    {
     "name": "stderr",
     "output_type": "stream",
     "text": [
      "C:\\Users\\alumno\\AppData\\Local\\Temp\\ipykernel_536\\1458107848.py:2: FutureWarning: The default value of regex will change from True to False in a future version. In addition, single character regular expressions will *not* be treated as literal strings when regex=True.\n",
      "  I_tecyloc['total general'] = I_tecyloc['total general'].str.replace('.', '')\n"
     ]
    }
   ],
   "source": [
    "I_tecyloc['total general'] = I_tecyloc['total general'].replace('- 0','0')\n",
    "I_tecyloc['total general'] = I_tecyloc['total general'].str.replace('.', '')\n",
    "I_tecyloc['total general'] = I_tecyloc['total general'].astype(float)"
   ]
  },
  {
   "cell_type": "code",
   "execution_count": null,
   "metadata": {},
   "outputs": [],
   "source": [
    "#exportar los csv \n",
    "data = I_tecyloc\n",
    "# Exportar el DataFrame a un archivo CSV\n",
    "data.to_csv('(como quiero que se llame).csv', index=False)\n"
   ]
  },
  {
   "cell_type": "code",
   "execution_count": 46,
   "metadata": {},
   "outputs": [],
   "source": [
    "I_tecyloc = pd.read_csv('I_tecyloc.csv')"
   ]
  },
  {
   "cell_type": "code",
   "execution_count": 48,
   "metadata": {},
   "outputs": [
    {
     "name": "stdout",
     "output_type": "stream",
     "text": [
      "La columna con el valor máximo es: cablemodem\n"
     ]
    }
   ],
   "source": [
    "# Obtener estadísticas descriptivas de todas las columnas numéricas\n",
    "stats = I_tecyloc[['link indec', 'adsl', 'cablemodem',\n",
    "       'dial up', 'fibra optica', 'otros', 'satelital', 'wimax', 'wireless', 'adls', ]].describe(include=[np.number])\n",
    "\n",
    "# Obtener la fila correspondiente al valor máximo de cada columna\n",
    "max_values = stats.loc['max']\n",
    "\n",
    "# Obtener el nombre de la columna con el valor máximo\n",
    "max_column = max_values.idxmax()\n",
    "\n",
    "print(\"La columna con el valor máximo es:\", max_column)\n"
   ]
  },
  {
   "attachments": {},
   "cell_type": "markdown",
   "metadata": {},
   "source": [
    "La tecnologia mas utilizda en el pais es 'cablemodem'. Es un dispositivo que se utiliza para proporcionar servicios de conexión a Internet \n",
    "de alta velocidad a través de una conexión de televisión por cable. Funciona como un puente entre\n",
    " la red de cable del proveedor de servicios y los dispositivos de la red local, como computadoras,\n",
    "  tabletas y teléfonos inteligentes."
   ]
  },
  {
   "cell_type": "code",
   "execution_count": 26,
   "metadata": {},
   "outputs": [
    {
     "name": "stderr",
     "output_type": "stream",
     "text": [
      "C:\\Users\\alumno\\AppData\\Local\\Temp\\ipykernel_536\\621544461.py:15: FutureWarning: The default value of numeric_only in DataFrameGroupBy.sum is deprecated. In a future version, numeric_only will default to False. Either specify numeric_only or select only columns which should be valid for the function.\n",
      "  por_provincia = I_tecyloc.groupby('provincia').sum()#['total_tecnologias']\n"
     ]
    },
    {
     "data": {
      "image/png": "[encoded data removed]",
      "text/plain": [
       "<Figure size 576x864 with 1 Axes>"
      ]
     },
     "metadata": {
      "needs_background": "light"
     },
     "output_type": "display_data"
    }
   ],
   "source": [
    "\n",
    "# Obtener estadísticas descriptivas de todas las columnas numéricas\n",
    "stats = I_tecyloc[['link indec', 'adsl', 'cablemodem',\n",
    "       'dial up', 'fibra optica', 'otros', 'satelital', 'wimax', 'wireless', 'adls', ]].describe(include=[np.number])\n",
    "\n",
    "# Obtener la fila correspondiente al valor máximo de cada columna\n",
    "max_values = stats.loc['max']\n",
    "\n",
    "# Obtener el nombre de la columna con el valor máximo\n",
    "max_column = max_values.idxmax()\n",
    "\n",
    "#print(\"La columna con el valor máximo es:\", max_column)\n",
    "\n",
    "\n",
    "# agrupar por provincia y sumar la cantidad total de tecnologías utilizadas en cada provincia\n",
    "por_provincia = I_tecyloc.groupby('provincia').sum()#['total_tecnologias']\n",
    "\n",
    "# ordenar las provincias por la cantidad total de tecnologías utilizadas\n",
    "por_provincia = por_provincia.sort_values(max_column)\n",
    "\n",
    "# trazar un gráfico de barras para mostrar las cantidades\n",
    "por_provincia.plot(kind='barh', figsize=(8, 12), color='#86bf91', zorder=2)\n",
    "\n",
    "# añadir etiquetas y título\n",
    "plt.xlabel(' tecnologías  ADSL utilizadas')\n",
    "plt.title('Tecnologías ADSL utilizadas en el país')\n",
    "\n",
    "# mostrar el gráfico\n",
    "plt.show()\n"
   ]
  },
  {
   "cell_type": "code",
   "execution_count": 49,
   "metadata": {},
   "outputs": [
    {
     "name": "stdout",
     "output_type": "stream",
     "text": [
      "<class 'pandas.core.frame.DataFrame'>\n",
      "RangeIndex: 3142 entries, 0 to 3141\n",
      "Data columns (total 14 columns):\n",
      " #   Column         Non-Null Count  Dtype  \n",
      "---  ------         --------------  -----  \n",
      " 0   provincia      3142 non-null   object \n",
      " 1   partido        3142 non-null   object \n",
      " 2   localidad      3142 non-null   object \n",
      " 3   link indec     3142 non-null   object \n",
      " 4   adsl           3142 non-null   float64\n",
      " 5   cablemodem     3142 non-null   float64\n",
      " 6   dial up        3142 non-null   float64\n",
      " 7   fibra optica   3142 non-null   float64\n",
      " 8   otros          3142 non-null   float64\n",
      " 9   satelital      3142 non-null   float64\n",
      " 10  wimax          3142 non-null   float64\n",
      " 11  wireless       3142 non-null   float64\n",
      " 12  total general  3142 non-null   float64\n",
      " 13  adls           3142 non-null   float64\n",
      "dtypes: float64(10), object(4)\n",
      "memory usage: 343.8+ KB\n"
     ]
    }
   ],
   "source": [
    "I_tecyloc.info()"
   ]
  },
  {
   "cell_type": "code",
   "execution_count": 50,
   "metadata": {},
   "outputs": [
    {
     "name": "stderr",
     "output_type": "stream",
     "text": [
      "C:\\Users\\alumno\\AppData\\Local\\Temp\\ipykernel_536\\2752641920.py:8: FutureWarning: Not prepending group keys to the result index of transform-like apply. In the future, the group keys will be included in the index, regardless of whether the applied function returns a like-indexed object.\n",
      "To preserve the previous behavior, use\n",
      "\n",
      "\t>>> .groupby(..., group_keys=False)\n",
      "\n",
      "To adopt the future behavior and silence this warning, use \n",
      "\n",
      "\t>>> .groupby(..., group_keys=True)\n",
      "  por_provincia_pct = I_tecyloc[num_cols].groupby(I_tecyloc['provincia']).apply(lambda x: x/x.sum())\n",
      "C:\\Users\\alumno\\AppData\\Local\\Temp\\ipykernel_536\\2752641920.py:22: MatplotlibDeprecationWarning: The get_cmap function was deprecated in Matplotlib 3.7 and will be removed two minor releases later. Use ``matplotlib.colormaps[name]`` or ``matplotlib.colormaps.get_cmap(obj)`` instead.\n",
      "  color_map = plt.cm.get_cmap('tab20', num_colors)\n"
     ]
    },
    {
     "data": {
      "image/png": "[encoded data removed]",
      "text/plain": [
       "<Figure size 576x864 with 1 Axes>"
      ]
     },
     "metadata": {
      "needs_background": "light"
     },
     "output_type": "display_data"
    }
   ],
   "source": [
    "#import matplotlib.pyplot as plt\n",
    "#import numpy as np\n",
    "\n",
    "# Obtener las columnas numéricas\n",
    "num_cols = ['adsl', 'cablemodem', 'dial up', 'fibra optica', 'otros', 'satelital', 'wimax', 'wireless', 'adls']\n",
    "\n",
    "# Calcular el porcentaje de cada tecnología en cada provincia\n",
    "por_provincia_pct = I_tecyloc[num_cols].groupby(I_tecyloc['provincia']).apply(lambda x: x/x.sum())\n",
    "\n",
    "# ordenar las provincias por la cantidad total de la tecnología con mayor porcentaje\n",
    "por_provincia_pct = por_provincia_pct.sort_values(max_column)\n",
    "\n",
    "# trazar un gráfico de barras para mostrar las cantidades y los porcentajes de cada tecnología\n",
    "ax = por_provincia_pct.plot(kind='barh', stacked=True, figsize=(8, 12), zorder=2)\n",
    "\n",
    "# añadir etiquetas y título\n",
    "ax.set_xlabel('Porcentaje de uso de tecnologías')\n",
    "ax.set_title('Porcentaje de uso de tecnologías en el país')\n",
    "\n",
    "# Asignar un color diferente a cada tecnología\n",
    "num_colors = len(num_cols)\n",
    "color_map = plt.cm.get_cmap('tab20', num_colors)\n",
    "colors = color_map(np.linspace(0, 1, num_colors))\n",
    "for i, tech in enumerate(num_cols):\n",
    "    ax.patches[i].set_facecolor(colors[i])\n",
    "\n",
    "# Mostrar los porcentajes de cada tecnología en la etiqueta de cada barra\n",
    "for i, patch in enumerate(ax.patches):\n",
    "    # Obtener la provincia y la tecnología correspondientes\n",
    "    province = por_provincia_pct.index[i//num_colors]\n",
    "    tech = num_cols[i%num_colors]\n",
    "    # Obtener el porcentaje de uso de la tecnología en la provincia\n",
    "    pct = por_provincia_pct.loc[province, tech] * 100\n",
    "    # Mostrar el porcentaje en la etiqueta de la barra\n",
    "    ax.text(patch.get_x() + patch.get_width()/2, patch.get_y() + patch.get_height()/2, \n",
    "            f'{pct:.2f}%', ha='center', va='center', color='white', fontsize=8)\n",
    "\n",
    "# Mostrar el gráfico\n",
    "plt.show()\n"
   ]
  },
  {
   "attachments": {},
   "cell_type": "markdown",
   "metadata": {},
   "source": [
    "Para ver la distribución de una variable categórica en un DataFrame, se puede utilizar el método \"value_counts\" de pandas o \"countplot\" de seaborn:"
   ]
  },
  {
   "cell_type": "code",
   "execution_count": 51,
   "metadata": {},
   "outputs": [
    {
     "data": {
      "image/png": "[encoded data removed]",
      "text/plain": [
       "<Figure size 432x288 with 1 Axes>"
      ]
     },
     "metadata": {
      "needs_background": "light"
     },
     "output_type": "display_data"
    }
   ],
   "source": [
    "freq = I_tecyloc['provincia'].value_counts()\n",
    "plt.bar(freq.index, freq.values)\n",
    "plt.xticks(rotation=90)  # Rotamos los nombres en 90 grados\n",
    "plt.ylabel('Cant_Internet')\n",
    "plt.title('Cantidad de Internet por provincia')\n",
    "plt.show()\n"
   ]
  },
  {
   "attachments": {},
   "cell_type": "markdown",
   "metadata": {},
   "source": [
    "Análisis bivariado:\n",
    "\n",
    "Correlación entre variables numéricas:\n",
    "Para ver la correlación entre dos variables numéricas en un DataFrame, se puede utilizar el método \"corr\" de pandas o \"heatmap\" de seaborn"
   ]
  },
  {
   "cell_type": "code",
   "execution_count": 52,
   "metadata": {},
   "outputs": [
    {
     "name": "stderr",
     "output_type": "stream",
     "text": [
      "C:\\Users\\alumno\\AppData\\Local\\Temp\\ipykernel_536\\3911404896.py:4: FutureWarning: The default value of numeric_only in DataFrame.corr is deprecated. In a future version, it will default to False. Select only valid columns or specify the value of numeric_only to silence this warning.\n",
      "  sns.heatmap(I_tecyloc.corr(), annot=True, cmap='coolwarm')\n"
     ]
    },
    {
     "data": {
      "image/png": "[encoded data removed]",
      "text/plain": [
       "<Figure size 720x576 with 2 Axes>"
      ]
     },
     "metadata": {
      "needs_background": "light"
     },
     "output_type": "display_data"
    }
   ],
   "source": [
    "plt.figure(figsize=(10, 8))  # Definimos el tamaño de la figura\n",
    "\n",
    "# Mapa de calor de correlación con seaborn\n",
    "sns.heatmap(I_tecyloc.corr(), annot=True, cmap='coolwarm')\n",
    "plt.show()"
   ]
  },
  {
   "attachments": {},
   "cell_type": "markdown",
   "metadata": {},
   "source": [
    "Correlación entre variables numéricas y categóricas:\n",
    "Para ver la correlación entre una variable numérica y una categórica en un DataFrame, se puede utilizar el método \"groupby\" de pandas o \"boxplot\" de seaborn:"
   ]
  },
  {
   "cell_type": "code",
   "execution_count": 78,
   "metadata": {},
   "outputs": [
    {
     "data": {
      "text/plain": [
       "3529.9579885423295"
      ]
     },
     "execution_count": 78,
     "metadata": {},
     "output_type": "execute_result"
    }
   ],
   "source": [
    "mean_total = I_tecyloc['total general'].mean()\n",
    "mean_total"
   ]
  },
  {
   "cell_type": "code",
   "execution_count": 77,
   "metadata": {},
   "outputs": [
    {
     "data": {
      "text/plain": [
       "provincia\n",
       "buenos aires           6.594508e+03\n",
       "caba                   1.547679e+06\n",
       "catamarca              9.762917e+02\n",
       "chaco                  1.947919e+03\n",
       "chubut                 2.631397e+03\n",
       "cordoba                2.636213e+03\n",
       "corrientes             2.228400e+03\n",
       "entre rios             1.793060e+03\n",
       "formosa                1.105452e+03\n",
       "jujuy                  1.250768e+03\n",
       "la pampa               1.415756e+03\n",
       "la rioja               1.158187e+03\n",
       "mendoza                1.996710e+03\n",
       "misiones               1.917442e+03\n",
       "neuquen                3.078509e+03\n",
       "rio negro              1.349227e+03\n",
       "salta                  1.662935e+03\n",
       "san juan               1.292487e+03\n",
       "san luis               1.258454e+03\n",
       "santa cruz             2.250455e+03\n",
       "santa fe               2.507938e+03\n",
       "santiago del estero    9.156308e+02\n",
       "tierra del fuego       7.699429e+03\n",
       "tucuman                3.869368e+03\n",
       "Name: total general, dtype: float64"
      ]
     },
     "execution_count": 77,
     "metadata": {},
     "output_type": "execute_result"
    }
   ],
   "source": [
    "media = I_tecyloc.groupby('provincia')['total general'].mean()\n",
    "media"
   ]
  },
  {
   "cell_type": "code",
   "execution_count": 53,
   "metadata": {},
   "outputs": [
    {
     "data": {
      "text/plain": [
       "[Text(0, 0, 'buenos aires'),\n",
       " Text(1, 0, 'caba'),\n",
       " Text(2, 0, 'catamarca'),\n",
       " Text(3, 0, 'chaco'),\n",
       " Text(4, 0, 'chubut'),\n",
       " Text(5, 0, 'cordoba'),\n",
       " Text(6, 0, 'corrientes'),\n",
       " Text(7, 0, 'entre rios'),\n",
       " Text(8, 0, 'formosa'),\n",
       " Text(9, 0, 'jujuy'),\n",
       " Text(10, 0, 'la pampa'),\n",
       " Text(11, 0, 'la rioja'),\n",
       " Text(12, 0, 'mendoza'),\n",
       " Text(13, 0, 'misiones'),\n",
       " Text(14, 0, 'neuquen'),\n",
       " Text(15, 0, 'rio negro'),\n",
       " Text(16, 0, 'salta'),\n",
       " Text(17, 0, 'san juan'),\n",
       " Text(18, 0, 'san luis'),\n",
       " Text(19, 0, 'santa cruz'),\n",
       " Text(20, 0, 'santa fe'),\n",
       " Text(21, 0, 'santiago del estero'),\n",
       " Text(22, 0, 'tierra del fuego'),\n",
       " Text(23, 0, 'tucuman')]"
      ]
     },
     "execution_count": 53,
     "metadata": {},
     "output_type": "execute_result"
    },
    {
     "data": {
      "image/png": "[encoded data removed]",
      "text/plain": [
       "<Figure size 432x288 with 1 Axes>"
      ]
     },
     "metadata": {
      "needs_background": "light"
     },
     "output_type": "display_data"
    }
   ],
   "source": [
    "boxplot = sns.boxplot(x='provincia', y='total general', data=I_tecyloc)\n",
    "boxplot.set_xticklabels(boxplot.get_xticklabels(), rotation=90)\n"
   ]
  },
  {
   "attachments": {},
   "cell_type": "markdown",
   "metadata": {},
   "source": [
    "Aca se puede observar que cordoba, santa fe, santiao del estero y tucuman tienen valores atipicos"
   ]
  },
  {
   "cell_type": "code",
   "execution_count": 54,
   "metadata": {},
   "outputs": [
    {
     "data": {
      "text/html": [
       "<div>\n",
       "<style scoped>\n",
       "    .dataframe tbody tr th:only-of-type {\n",
       "        vertical-align: middle;\n",
       "    }\n",
       "\n",
       "    .dataframe tbody tr th {\n",
       "        vertical-align: top;\n",
       "    }\n",
       "\n",
       "    .dataframe thead th {\n",
       "        text-align: right;\n",
       "    }\n",
       "</style>\n",
       "<table border=\"1\" class=\"dataframe\">\n",
       "  <thead>\n",
       "    <tr style=\"text-align: right;\">\n",
       "      <th></th>\n",
       "      <th>provincia</th>\n",
       "      <th>partido</th>\n",
       "      <th>localidad</th>\n",
       "      <th>link indec</th>\n",
       "    </tr>\n",
       "  </thead>\n",
       "  <tbody>\n",
       "    <tr>\n",
       "      <th>count</th>\n",
       "      <td>394</td>\n",
       "      <td>394</td>\n",
       "      <td>394</td>\n",
       "      <td>394</td>\n",
       "    </tr>\n",
       "    <tr>\n",
       "      <th>unique</th>\n",
       "      <td>1</td>\n",
       "      <td>27</td>\n",
       "      <td>385</td>\n",
       "      <td>382</td>\n",
       "    </tr>\n",
       "    <tr>\n",
       "      <th>top</th>\n",
       "      <td>cordoba</td>\n",
       "      <td>san justo</td>\n",
       "      <td>otros</td>\n",
       "      <td>sin datos</td>\n",
       "    </tr>\n",
       "    <tr>\n",
       "      <th>freq</th>\n",
       "      <td>394</td>\n",
       "      <td>37</td>\n",
       "      <td>6</td>\n",
       "      <td>6</td>\n",
       "    </tr>\n",
       "  </tbody>\n",
       "</table>\n",
       "</div>"
      ],
      "text/plain": [
       "       provincia    partido localidad link indec\n",
       "count        394        394       394        394\n",
       "unique         1         27       385        382\n",
       "top      cordoba  san justo     otros  sin datos\n",
       "freq         394         37         6          6"
      ]
     },
     "execution_count": 54,
     "metadata": {},
     "output_type": "execute_result"
    }
   ],
   "source": [
    "cordoba = I_tecyloc.loc[I_tecyloc['provincia'] == 'cordoba']\n",
    "cordoba.describe(exclude='number')"
   ]
  },
  {
   "cell_type": "code",
   "execution_count": 55,
   "metadata": {},
   "outputs": [
    {
     "data": {
      "text/plain": [
       "provincia                    cordoba\n",
       "partido                        unión\n",
       "localidad        wenceslao escalante\n",
       "link indec                 sin datos\n",
       "adsl                           992.0\n",
       "cablemodem                  222667.0\n",
       "dial up                         44.0\n",
       "fibra optica                   917.0\n",
       "otros                          596.0\n",
       "satelital                       11.0\n",
       "wimax                           58.0\n",
       "wireless                       993.0\n",
       "total general               495182.0\n",
       "adls                           992.0\n",
       "dtype: object"
      ]
     },
     "execution_count": 55,
     "metadata": {},
     "output_type": "execute_result"
    }
   ],
   "source": [
    "cordoba.max()"
   ]
  },
  {
   "attachments": {},
   "cell_type": "markdown",
   "metadata": {},
   "source": [
    "el valor atipico de cordoba esta en la columna total_tecnologias tiene un valor exagerado "
   ]
  },
  {
   "cell_type": "code",
   "execution_count": 56,
   "metadata": {},
   "outputs": [
    {
     "data": {
      "text/html": [
       "<div>\n",
       "<style scoped>\n",
       "    .dataframe tbody tr th:only-of-type {\n",
       "        vertical-align: middle;\n",
       "    }\n",
       "\n",
       "    .dataframe tbody tr th {\n",
       "        vertical-align: top;\n",
       "    }\n",
       "\n",
       "    .dataframe thead th {\n",
       "        text-align: right;\n",
       "    }\n",
       "</style>\n",
       "<table border=\"1\" class=\"dataframe\">\n",
       "  <thead>\n",
       "    <tr style=\"text-align: right;\">\n",
       "      <th></th>\n",
       "      <th>adsl</th>\n",
       "      <th>cablemodem</th>\n",
       "      <th>dial up</th>\n",
       "      <th>fibra optica</th>\n",
       "      <th>otros</th>\n",
       "      <th>satelital</th>\n",
       "      <th>wimax</th>\n",
       "      <th>wireless</th>\n",
       "      <th>total general</th>\n",
       "      <th>adls</th>\n",
       "    </tr>\n",
       "  </thead>\n",
       "  <tbody>\n",
       "    <tr>\n",
       "      <th>count</th>\n",
       "      <td>394.000000</td>\n",
       "      <td>394.000000</td>\n",
       "      <td>394.000000</td>\n",
       "      <td>394.000000</td>\n",
       "      <td>394.000000</td>\n",
       "      <td>394.000000</td>\n",
       "      <td>394.000000</td>\n",
       "      <td>394.000000</td>\n",
       "      <td>394.000000</td>\n",
       "      <td>394.000000</td>\n",
       "    </tr>\n",
       "    <tr>\n",
       "      <th>mean</th>\n",
       "      <td>113.475076</td>\n",
       "      <td>1181.373096</td>\n",
       "      <td>0.172589</td>\n",
       "      <td>59.556904</td>\n",
       "      <td>10.539147</td>\n",
       "      <td>0.253807</td>\n",
       "      <td>0.147208</td>\n",
       "      <td>96.185777</td>\n",
       "      <td>2636.213198</td>\n",
       "      <td>113.475076</td>\n",
       "    </tr>\n",
       "    <tr>\n",
       "      <th>std</th>\n",
       "      <td>227.585753</td>\n",
       "      <td>11529.130394</td>\n",
       "      <td>2.349957</td>\n",
       "      <td>168.717045</td>\n",
       "      <td>62.320391</td>\n",
       "      <td>0.782472</td>\n",
       "      <td>2.921998</td>\n",
       "      <td>162.784977</td>\n",
       "      <td>25276.308825</td>\n",
       "      <td>227.585753</td>\n",
       "    </tr>\n",
       "    <tr>\n",
       "      <th>min</th>\n",
       "      <td>0.000000</td>\n",
       "      <td>0.000000</td>\n",
       "      <td>0.000000</td>\n",
       "      <td>0.000000</td>\n",
       "      <td>0.000000</td>\n",
       "      <td>0.000000</td>\n",
       "      <td>0.000000</td>\n",
       "      <td>0.000000</td>\n",
       "      <td>1.000000</td>\n",
       "      <td>0.000000</td>\n",
       "    </tr>\n",
       "    <tr>\n",
       "      <th>25%</th>\n",
       "      <td>0.000000</td>\n",
       "      <td>0.000000</td>\n",
       "      <td>0.000000</td>\n",
       "      <td>0.000000</td>\n",
       "      <td>0.000000</td>\n",
       "      <td>0.000000</td>\n",
       "      <td>0.000000</td>\n",
       "      <td>1.000000</td>\n",
       "      <td>36.000000</td>\n",
       "      <td>0.000000</td>\n",
       "    </tr>\n",
       "    <tr>\n",
       "      <th>50%</th>\n",
       "      <td>0.000000</td>\n",
       "      <td>0.000000</td>\n",
       "      <td>0.000000</td>\n",
       "      <td>0.000000</td>\n",
       "      <td>0.000000</td>\n",
       "      <td>0.000000</td>\n",
       "      <td>0.000000</td>\n",
       "      <td>25.500000</td>\n",
       "      <td>217.500000</td>\n",
       "      <td>0.000000</td>\n",
       "    </tr>\n",
       "    <tr>\n",
       "      <th>75%</th>\n",
       "      <td>94.750000</td>\n",
       "      <td>0.000000</td>\n",
       "      <td>0.000000</td>\n",
       "      <td>3.430500</td>\n",
       "      <td>0.000000</td>\n",
       "      <td>0.000000</td>\n",
       "      <td>0.000000</td>\n",
       "      <td>110.750000</td>\n",
       "      <td>986.000000</td>\n",
       "      <td>94.750000</td>\n",
       "    </tr>\n",
       "    <tr>\n",
       "      <th>max</th>\n",
       "      <td>992.000000</td>\n",
       "      <td>222667.000000</td>\n",
       "      <td>44.000000</td>\n",
       "      <td>917.000000</td>\n",
       "      <td>596.000000</td>\n",
       "      <td>11.000000</td>\n",
       "      <td>58.000000</td>\n",
       "      <td>993.000000</td>\n",
       "      <td>495182.000000</td>\n",
       "      <td>992.000000</td>\n",
       "    </tr>\n",
       "  </tbody>\n",
       "</table>\n",
       "</div>"
      ],
      "text/plain": [
       "             adsl     cablemodem     dial up  fibra optica       otros  \\\n",
       "count  394.000000     394.000000  394.000000    394.000000  394.000000   \n",
       "mean   113.475076    1181.373096    0.172589     59.556904   10.539147   \n",
       "std    227.585753   11529.130394    2.349957    168.717045   62.320391   \n",
       "min      0.000000       0.000000    0.000000      0.000000    0.000000   \n",
       "25%      0.000000       0.000000    0.000000      0.000000    0.000000   \n",
       "50%      0.000000       0.000000    0.000000      0.000000    0.000000   \n",
       "75%     94.750000       0.000000    0.000000      3.430500    0.000000   \n",
       "max    992.000000  222667.000000   44.000000    917.000000  596.000000   \n",
       "\n",
       "        satelital       wimax    wireless  total general        adls  \n",
       "count  394.000000  394.000000  394.000000     394.000000  394.000000  \n",
       "mean     0.253807    0.147208   96.185777    2636.213198  113.475076  \n",
       "std      0.782472    2.921998  162.784977   25276.308825  227.585753  \n",
       "min      0.000000    0.000000    0.000000       1.000000    0.000000  \n",
       "25%      0.000000    0.000000    1.000000      36.000000    0.000000  \n",
       "50%      0.000000    0.000000   25.500000     217.500000    0.000000  \n",
       "75%      0.000000    0.000000  110.750000     986.000000   94.750000  \n",
       "max     11.000000   58.000000  993.000000  495182.000000  992.000000  "
      ]
     },
     "execution_count": 56,
     "metadata": {},
     "output_type": "execute_result"
    }
   ],
   "source": [
    "cordoba.describe()"
   ]
  },
  {
   "cell_type": "code",
   "execution_count": 58,
   "metadata": {},
   "outputs": [
    {
     "data": {
      "image/png": "[encoded data removed]",
      "text/plain": [
       "<Figure size 432x288 with 1 Axes>"
      ]
     },
     "metadata": {
      "needs_background": "light"
     },
     "output_type": "display_data"
    }
   ],
   "source": [
    "# \n",
    "df_co = I_tecyloc[I_tecyloc['provincia'] == 'cordoba']\n",
    "\n",
    "# Genero un boxplot de la columna \"total general\"\n",
    "sns.boxplot(x='total general', data=df_co)\n",
    "\n",
    "# Identifico los valores que se encuentran fuera de los bigotes del boxplot\n",
    "q1 = df_co['total general'].quantile(0.25)\n",
    "q3 = df_co['total general'].quantile(0.75)\n",
    "iqr = q3 - q1\n",
    "outliers = df_co[(df_co['total general'] < q1 - 1.5*iqr) | (df_co['total general'] > q3 + 1.5*iqr)]\n",
    "\n",
    "# Muestro los valores de los outliers\n",
    "#print(outliers)\n",
    "#print('la cantidad e outlier son', outliers.sum())"
   ]
  },
  {
   "attachments": {},
   "cell_type": "markdown",
   "metadata": {},
   "source": [
    "Los valores comunes de uso de las tecnologias es de aproximadamente 50000 pero tenemos dos outlier uno de casi 100000 y otro de 500000, en otro analisis mas profundo investigaremos sobre esto."
   ]
  },
  {
   "attachments": {},
   "cell_type": "markdown",
   "metadata": {},
   "source": [
    "Analisis por Internet por tecnologias, por provincias en periodod de tiempo"
   ]
  },
  {
   "cell_type": "code",
   "execution_count": 28,
   "metadata": {},
   "outputs": [
    {
     "data": {
      "text/html": [
       "<div>\n",
       "<style scoped>\n",
       "    .dataframe tbody tr th:only-of-type {\n",
       "        vertical-align: middle;\n",
       "    }\n",
       "\n",
       "    .dataframe tbody tr th {\n",
       "        vertical-align: top;\n",
       "    }\n",
       "\n",
       "    .dataframe thead th {\n",
       "        text-align: right;\n",
       "    }\n",
       "</style>\n",
       "<table border=\"1\" class=\"dataframe\">\n",
       "  <thead>\n",
       "    <tr style=\"text-align: right;\">\n",
       "      <th></th>\n",
       "      <th>Año</th>\n",
       "      <th>Trimestre</th>\n",
       "      <th>Provincia</th>\n",
       "      <th>ADSL</th>\n",
       "      <th>Cablemodem</th>\n",
       "      <th>Fibra óptica</th>\n",
       "      <th>Wireless</th>\n",
       "      <th>Otros</th>\n",
       "      <th>Total</th>\n",
       "    </tr>\n",
       "  </thead>\n",
       "  <tbody>\n",
       "    <tr>\n",
       "      <th>0</th>\n",
       "      <td>2022</td>\n",
       "      <td>3</td>\n",
       "      <td>Buenos Aires</td>\n",
       "      <td>339.648</td>\n",
       "      <td>2.748.325</td>\n",
       "      <td>1.436.433</td>\n",
       "      <td>126.846</td>\n",
       "      <td>70.416</td>\n",
       "      <td>4.721.668</td>\n",
       "    </tr>\n",
       "    <tr>\n",
       "      <th>1</th>\n",
       "      <td>2022</td>\n",
       "      <td>3</td>\n",
       "      <td>Capital Federal</td>\n",
       "      <td>140.791</td>\n",
       "      <td>1.240.125</td>\n",
       "      <td>129.218</td>\n",
       "      <td>5.758</td>\n",
       "      <td>31.787</td>\n",
       "      <td>1.547.679</td>\n",
       "    </tr>\n",
       "    <tr>\n",
       "      <th>2</th>\n",
       "      <td>2022</td>\n",
       "      <td>3</td>\n",
       "      <td>Catamarca</td>\n",
       "      <td>10.010</td>\n",
       "      <td>10.495</td>\n",
       "      <td>46.224</td>\n",
       "      <td>1.329</td>\n",
       "      <td>2.235</td>\n",
       "      <td>70.293</td>\n",
       "    </tr>\n",
       "    <tr>\n",
       "      <th>3</th>\n",
       "      <td>2022</td>\n",
       "      <td>3</td>\n",
       "      <td>Chaco</td>\n",
       "      <td>27.164</td>\n",
       "      <td>61.800</td>\n",
       "      <td>44.645</td>\n",
       "      <td>8.178</td>\n",
       "      <td>2.359</td>\n",
       "      <td>144.146</td>\n",
       "    </tr>\n",
       "    <tr>\n",
       "      <th>4</th>\n",
       "      <td>2022</td>\n",
       "      <td>3</td>\n",
       "      <td>Chubut</td>\n",
       "      <td>45.377</td>\n",
       "      <td>72.212</td>\n",
       "      <td>9.574</td>\n",
       "      <td>29.784</td>\n",
       "      <td>8.831</td>\n",
       "      <td>165.778</td>\n",
       "    </tr>\n",
       "    <tr>\n",
       "      <th>...</th>\n",
       "      <td>...</td>\n",
       "      <td>...</td>\n",
       "      <td>...</td>\n",
       "      <td>...</td>\n",
       "      <td>...</td>\n",
       "      <td>...</td>\n",
       "      <td>...</td>\n",
       "      <td>...</td>\n",
       "      <td>...</td>\n",
       "    </tr>\n",
       "    <tr>\n",
       "      <th>836</th>\n",
       "      <td>2014</td>\n",
       "      <td>1</td>\n",
       "      <td>Santa Fe</td>\n",
       "      <td>322.662</td>\n",
       "      <td>174.296</td>\n",
       "      <td>3.059</td>\n",
       "      <td>5.951</td>\n",
       "      <td>644.000</td>\n",
       "      <td>506.612</td>\n",
       "    </tr>\n",
       "    <tr>\n",
       "      <th>837</th>\n",
       "      <td>2014</td>\n",
       "      <td>1</td>\n",
       "      <td>Santiago Del Estero</td>\n",
       "      <td>32.567</td>\n",
       "      <td>3.598</td>\n",
       "      <td>19</td>\n",
       "      <td>915.000</td>\n",
       "      <td>34.000</td>\n",
       "      <td>37.133</td>\n",
       "    </tr>\n",
       "    <tr>\n",
       "      <th>838</th>\n",
       "      <td>2014</td>\n",
       "      <td>1</td>\n",
       "      <td>Tierra Del Fuego</td>\n",
       "      <td>21.618</td>\n",
       "      <td>2.837</td>\n",
       "      <td>648</td>\n",
       "      <td>1.000</td>\n",
       "      <td>2.934</td>\n",
       "      <td>28.038</td>\n",
       "    </tr>\n",
       "    <tr>\n",
       "      <th>839</th>\n",
       "      <td>2014</td>\n",
       "      <td>1</td>\n",
       "      <td>Tucumán</td>\n",
       "      <td>129.717</td>\n",
       "      <td>83</td>\n",
       "      <td>121</td>\n",
       "      <td>13.000</td>\n",
       "      <td>98.000</td>\n",
       "      <td>130.032</td>\n",
       "    </tr>\n",
       "    <tr>\n",
       "      <th>840</th>\n",
       "      <td>*</td>\n",
       "      <td>Los datos provinciales no coinciden a nivel na...</td>\n",
       "      <td>NaN</td>\n",
       "      <td>NaN</td>\n",
       "      <td>NaN</td>\n",
       "      <td>NaN</td>\n",
       "      <td>NaN</td>\n",
       "      <td>NaN</td>\n",
       "      <td>NaN</td>\n",
       "    </tr>\n",
       "  </tbody>\n",
       "</table>\n",
       "<p>841 rows × 9 columns</p>\n",
       "</div>"
      ],
      "text/plain": [
       "      Año                                          Trimestre  \\\n",
       "0    2022                                                  3   \n",
       "1    2022                                                  3   \n",
       "2    2022                                                  3   \n",
       "3    2022                                                  3   \n",
       "4    2022                                                  3   \n",
       "..    ...                                                ...   \n",
       "836  2014                                                  1   \n",
       "837  2014                                                  1   \n",
       "838  2014                                                  1   \n",
       "839  2014                                                  1   \n",
       "840     *  Los datos provinciales no coinciden a nivel na...   \n",
       "\n",
       "               Provincia     ADSL Cablemodem Fibra óptica  Wireless    Otros  \\\n",
       "0           Buenos Aires  339.648  2.748.325    1.436.433   126.846   70.416   \n",
       "1        Capital Federal  140.791  1.240.125      129.218     5.758   31.787   \n",
       "2              Catamarca   10.010     10.495       46.224     1.329    2.235   \n",
       "3                  Chaco   27.164     61.800       44.645     8.178    2.359   \n",
       "4                 Chubut   45.377     72.212        9.574    29.784    8.831   \n",
       "..                   ...      ...        ...          ...       ...      ...   \n",
       "836             Santa Fe  322.662    174.296        3.059     5.951  644.000   \n",
       "837  Santiago Del Estero   32.567      3.598           19   915.000   34.000   \n",
       "838     Tierra Del Fuego   21.618      2.837          648     1.000    2.934   \n",
       "839              Tucumán  129.717         83          121    13.000   98.000   \n",
       "840                  NaN      NaN        NaN          NaN       NaN      NaN   \n",
       "\n",
       "         Total  \n",
       "0    4.721.668  \n",
       "1    1.547.679  \n",
       "2       70.293  \n",
       "3      144.146  \n",
       "4      165.778  \n",
       "..         ...  \n",
       "836    506.612  \n",
       "837     37.133  \n",
       "838     28.038  \n",
       "839    130.032  \n",
       "840        NaN  \n",
       "\n",
       "[841 rows x 9 columns]"
      ]
     },
     "execution_count": 28,
     "metadata": {},
     "output_type": "execute_result"
    }
   ],
   "source": [
    "I_portec"
   ]
  },
  {
   "cell_type": "code",
   "execution_count": 29,
   "metadata": {},
   "outputs": [
    {
     "data": {
      "text/html": [
       "<div>\n",
       "<style scoped>\n",
       "    .dataframe tbody tr th:only-of-type {\n",
       "        vertical-align: middle;\n",
       "    }\n",
       "\n",
       "    .dataframe tbody tr th {\n",
       "        vertical-align: top;\n",
       "    }\n",
       "\n",
       "    .dataframe thead th {\n",
       "        text-align: right;\n",
       "    }\n",
       "</style>\n",
       "<table border=\"1\" class=\"dataframe\">\n",
       "  <thead>\n",
       "    <tr style=\"text-align: right;\">\n",
       "      <th></th>\n",
       "      <th>Año</th>\n",
       "      <th>Trimestre</th>\n",
       "      <th>Provincia</th>\n",
       "      <th>ADSL</th>\n",
       "      <th>Cablemodem</th>\n",
       "      <th>Fibra óptica</th>\n",
       "      <th>Total</th>\n",
       "    </tr>\n",
       "  </thead>\n",
       "  <tbody>\n",
       "    <tr>\n",
       "      <th>count</th>\n",
       "      <td>841</td>\n",
       "      <td>841</td>\n",
       "      <td>840</td>\n",
       "      <td>840</td>\n",
       "      <td>840</td>\n",
       "      <td>840</td>\n",
       "      <td>840</td>\n",
       "    </tr>\n",
       "    <tr>\n",
       "      <th>unique</th>\n",
       "      <td>11</td>\n",
       "      <td>8</td>\n",
       "      <td>24</td>\n",
       "      <td>748</td>\n",
       "      <td>729</td>\n",
       "      <td>592</td>\n",
       "      <td>831</td>\n",
       "    </tr>\n",
       "    <tr>\n",
       "      <th>top</th>\n",
       "      <td>2021</td>\n",
       "      <td>3</td>\n",
       "      <td>Buenos Aires</td>\n",
       "      <td>22.636</td>\n",
       "      <td>34.984</td>\n",
       "      <td>19</td>\n",
       "      <td>32.557</td>\n",
       "    </tr>\n",
       "    <tr>\n",
       "      <th>freq</th>\n",
       "      <td>96</td>\n",
       "      <td>192</td>\n",
       "      <td>35</td>\n",
       "      <td>9</td>\n",
       "      <td>15</td>\n",
       "      <td>17</td>\n",
       "      <td>3</td>\n",
       "    </tr>\n",
       "  </tbody>\n",
       "</table>\n",
       "</div>"
      ],
      "text/plain": [
       "         Año Trimestre     Provincia    ADSL Cablemodem Fibra óptica   Total\n",
       "count    841       841           840     840        840          840     840\n",
       "unique    11         8            24     748        729          592     831\n",
       "top     2021         3  Buenos Aires  22.636     34.984           19  32.557\n",
       "freq      96       192            35       9         15           17       3"
      ]
     },
     "execution_count": 29,
     "metadata": {},
     "output_type": "execute_result"
    }
   ],
   "source": [
    "I_portec.describe(exclude='number')"
   ]
  },
  {
   "attachments": {},
   "cell_type": "markdown",
   "metadata": {},
   "source": [
    "Aca se puede observar que en el tercer trimestre del 2021 la tecnología mas utilizada fue Cablemodem. Un cable módem es un dispositivo que se utiliza para proporcionar servicios de conexión a Internet \n",
    "de alta velocidad a través de una conexión de televisión por cable. Funciona como un puente entre\n",
    " la red de cable del proveedor de servicios y los dispositivos de la red local, como computadoras,\n",
    "  tabletas y teléfonos inteligentes."
   ]
  },
  {
   "cell_type": "code",
   "execution_count": 59,
   "metadata": {},
   "outputs": [
    {
     "data": {
      "text/plain": [
       "array(['3', '2', '1', '4', '3 *', '2 *', '1 *',\n",
       "       'Los datos provinciales no coinciden a nivel nacional, ya que se rincorporó información que no contien apertuta a nivel geográfico.'],\n",
       "      dtype=object)"
      ]
     },
     "execution_count": 59,
     "metadata": {},
     "output_type": "execute_result"
    }
   ],
   "source": [
    "#me llamó a atencion que trimestre tuviera 8 valores, cuando solo puede tener 4,investigue son datos estimativos\n",
    "I_portec['Trimestre'].unique()"
   ]
  },
  {
   "cell_type": "code",
   "execution_count": 30,
   "metadata": {},
   "outputs": [
    {
     "data": {
      "text/plain": [
       "Año             0\n",
       "Trimestre       0\n",
       "Provincia       1\n",
       "ADSL            1\n",
       "Cablemodem      1\n",
       "Fibra óptica    1\n",
       "Wireless        1\n",
       "Otros           1\n",
       "Total           1\n",
       "dtype: int64"
      ]
     },
     "execution_count": 30,
     "metadata": {},
     "output_type": "execute_result"
    }
   ],
   "source": [
    "I_portec.isna().sum()\n",
    "#el último valor de cada columna o sea la última fila, es 'NaN' ya que no coinciden los valores \n",
    "# provinciales con los nacionales"
   ]
  },
  {
   "attachments": {},
   "cell_type": "markdown",
   "metadata": {},
   "source": [
    "Hago un calculo de la tecnologia mas utilizada en el último trimestre del 2022, que es el último reporte"
   ]
  },
  {
   "cell_type": "code",
   "execution_count": 63,
   "metadata": {},
   "outputs": [
    {
     "data": {
      "text/plain": [
       "'2022'"
      ]
     },
     "execution_count": 63,
     "metadata": {},
     "output_type": "execute_result"
    }
   ],
   "source": [
    "I_portec['Año'].max()"
   ]
  },
  {
   "cell_type": "code",
   "execution_count": 60,
   "metadata": {},
   "outputs": [
    {
     "name": "stdout",
     "output_type": "stream",
     "text": [
      "La tecnología más utilizada en el último trimestre del año 2022 fue: ADSL\n"
     ]
    }
   ],
   "source": [
    "# Seleccionar solo los datos del último trimestre del año 2022\n",
    "ult_trimestre_2022 = I_portec[(I_portec['Año'] == 2022) & (I_portec['Trimestre'] == 4)]\n",
    "\n",
    "# Calcular la suma total de cada tipo de tecnología\n",
    "tecnologias = ['ADSL', 'Cablemodem', 'Fibra óptica', 'Wireless', 'Otros']\n",
    "total_tecnologias = ult_trimestre_2022[tecnologias].sum()\n",
    "\n",
    "# Encontrar la tecnología más utilizada en el último trimestre del año 2022\n",
    "tecnologia_mas_utilizada = total_tecnologias.idxmax()\n",
    "\n",
    "print(\"La tecnología más utilizada en el último trimestre del año 2022 fue:\", tecnologia_mas_utilizada)\n"
   ]
  },
  {
   "attachments": {},
   "cell_type": "markdown",
   "metadata": {},
   "source": [
    "Analisis de variables númericas.\n",
    "Grafíco ADSL por timeste en cada provincia"
   ]
  },
  {
   "cell_type": "code",
   "execution_count": 64,
   "metadata": {},
   "outputs": [
    {
     "name": "stdout",
     "output_type": "stream",
     "text": [
      "<class 'pandas.core.frame.DataFrame'>\n",
      "RangeIndex: 841 entries, 0 to 840\n",
      "Data columns (total 9 columns):\n",
      " #   Column        Non-Null Count  Dtype  \n",
      "---  ------        --------------  -----  \n",
      " 0   Año           841 non-null    object \n",
      " 1   Trimestre     841 non-null    object \n",
      " 2   Provincia     840 non-null    object \n",
      " 3   ADSL          840 non-null    object \n",
      " 4   Cablemodem    840 non-null    object \n",
      " 5   Fibra óptica  840 non-null    object \n",
      " 6   Wireless      840 non-null    float64\n",
      " 7   Otros         840 non-null    float64\n",
      " 8   Total         840 non-null    object \n",
      "dtypes: float64(2), object(7)\n",
      "memory usage: 59.3+ KB\n"
     ]
    }
   ],
   "source": [
    "I_portec.info()"
   ]
  },
  {
   "cell_type": "code",
   "execution_count": 67,
   "metadata": {},
   "outputs": [
    {
     "name": "stderr",
     "output_type": "stream",
     "text": [
      "C:\\Users\\alumno\\AppData\\Local\\Temp\\ipykernel_536\\3324570446.py:2: FutureWarning: The default value of regex will change from True to False in a future version. In addition, single character regular expressions will *not* be treated as literal strings when regex=True.\n",
      "  I_portec['ADSL'] = I_portec['ADSL'].str.replace('.','')\n"
     ]
    }
   ],
   "source": [
    "#debo pasarlas a float a las variables numéricas\n",
    "I_portec['ADSL'] = I_portec['ADSL'].str.replace('.','')\n",
    "I_portec['ADSL'] = I_portec['ADSL'].astype('float')"
   ]
  },
  {
   "cell_type": "code",
   "execution_count": 71,
   "metadata": {},
   "outputs": [
    {
     "name": "stderr",
     "output_type": "stream",
     "text": [
      "C:\\Users\\alumno\\AppData\\Local\\Temp\\ipykernel_536\\3306924117.py:1: FutureWarning: The default value of regex will change from True to False in a future version. In addition, single character regular expressions will *not* be treated as literal strings when regex=True.\n",
      "  I_portec['Fibra óptica'] = I_portec['Fibra óptica'].str.replace('.','')\n"
     ]
    }
   ],
   "source": [
    "I_portec['Fibra óptica'] = I_portec['Fibra óptica'].str.replace('.','')\n",
    "I_portec['Fibra óptica'] = I_portec['Fibra óptica'].astype('float')"
   ]
  },
  {
   "cell_type": "code",
   "execution_count": null,
   "metadata": {},
   "outputs": [],
   "source": [
    "I_portec['Cablemodem'] = I_portec['Cablemodem'].str.replace('.','')\n",
    "I_portec['Cablemodem'] = I_portec['Cablemodem'].astype('float')"
   ]
  },
  {
   "cell_type": "code",
   "execution_count": 73,
   "metadata": {},
   "outputs": [],
   "source": [
    "#tuve que reeplazar '2019 *' por '2019' ya que salió error al querer transformarla a datetime\n",
    "I_portec['Año'] =I_portec.loc[4, 'Año'] = '2019'\n"
   ]
  },
  {
   "cell_type": "code",
   "execution_count": 74,
   "metadata": {},
   "outputs": [],
   "source": [
    "#año convertirlo a datetime\n",
    "I_portec['Año'] =  pd.to_datetime(I_portec['Año'])"
   ]
  },
  {
   "cell_type": "code",
   "execution_count": 77,
   "metadata": {},
   "outputs": [],
   "source": [
    "data = I_portec\n",
    "# Exportar el DataFrame a un archivo CSV\n",
    "data.to_csv('(I_porTecTrimestral.csv', index=False)\n"
   ]
  },
  {
   "cell_type": "code",
   "execution_count": 75,
   "metadata": {},
   "outputs": [
    {
     "data": {
      "image/png": "[encoded data removed]",
      "text/plain": [
       "<Figure size 720x432 with 1 Axes>"
      ]
     },
     "metadata": {
      "needs_background": "light"
     },
     "output_type": "display_data"
    }
   ],
   "source": [
    "\n",
    "\n",
    "\n",
    "# Crear un DataFrame con los datos de la tecnología \"ADSL\" solamente\n",
    "ADSL_por_provincia = I_portec[['Provincia', 'Trimestre', 'ADSL']]\n",
    "\n",
    "# Utilizar \"pivot table\" para obtener los datos en un formato adecuado para graficar\n",
    "ADSL_por_provincia_trimestre = ADSL_por_provincia.pivot_table(index='Provincia', columns='Trimestre', values='ADSL')\n",
    "\n",
    "# Graficar los datos utilizando un gráfico de barras agrupadas por provincia\n",
    "ADSL_por_provincia_trimestre.plot(kind='bar', figsize=(10,6), width=0.8)\n",
    "\n",
    "# Agregar título y etiquetas de eje\n",
    "plt.title('Tecnología ADSL por provincia y trimestre')\n",
    "plt.xlabel('Provincia')\n",
    "plt.ylabel('Cantidad')\n",
    "\n",
    "# Mostrar la gráfica\n",
    "plt.show()\n"
   ]
  },
  {
   "cell_type": "code",
   "execution_count": 84,
   "metadata": {},
   "outputs": [
    {
     "name": "stderr",
     "output_type": "stream",
     "text": [
      "C:\\Users\\alumno\\AppData\\Local\\Temp\\ipykernel_536\\3073396341.py:1: FutureWarning: The default value of regex will change from True to False in a future version. In addition, single character regular expressions will *not* be treated as literal strings when regex=True.\n",
      "  I_portec['Total'] = I_portec['Total'].str.replace('.','')\n"
     ]
    }
   ],
   "source": [
    "I_portec['Total'] = I_portec['Total'].str.replace('.','')"
   ]
  },
  {
   "cell_type": "code",
   "execution_count": 85,
   "metadata": {},
   "outputs": [],
   "source": [
    "I_portec['Total'] = I_portec['Total'].astype('float')"
   ]
  },
  {
   "attachments": {},
   "cell_type": "markdown",
   "metadata": {},
   "source": [
    "Analisis de Internet por velocidad y provincia"
   ]
  },
  {
   "cell_type": "code",
   "execution_count": 79,
   "metadata": {},
   "outputs": [
    {
     "data": {
      "text/html": [
       "<div>\n",
       "<style scoped>\n",
       "    .dataframe tbody tr th:only-of-type {\n",
       "        vertical-align: middle;\n",
       "    }\n",
       "\n",
       "    .dataframe tbody tr th {\n",
       "        vertical-align: top;\n",
       "    }\n",
       "\n",
       "    .dataframe thead th {\n",
       "        text-align: right;\n",
       "    }\n",
       "</style>\n",
       "<table border=\"1\" class=\"dataframe\">\n",
       "  <thead>\n",
       "    <tr style=\"text-align: right;\">\n",
       "      <th></th>\n",
       "      <th>Año</th>\n",
       "      <th>Trimestre</th>\n",
       "      <th>Banda ancha fija</th>\n",
       "      <th>Dial up</th>\n",
       "      <th>Total</th>\n",
       "      <th>Periodo</th>\n",
       "    </tr>\n",
       "  </thead>\n",
       "  <tbody>\n",
       "    <tr>\n",
       "      <th>0</th>\n",
       "      <td>2022</td>\n",
       "      <td>3</td>\n",
       "      <td>11.078.691</td>\n",
       "      <td>12.437</td>\n",
       "      <td>11.091.128</td>\n",
       "      <td>Jul-Sept 2022</td>\n",
       "    </tr>\n",
       "    <tr>\n",
       "      <th>1</th>\n",
       "      <td>2022</td>\n",
       "      <td>2</td>\n",
       "      <td>10.946.248</td>\n",
       "      <td>12.436</td>\n",
       "      <td>10.958.684</td>\n",
       "      <td>Abr-Jun 2022</td>\n",
       "    </tr>\n",
       "    <tr>\n",
       "      <th>2</th>\n",
       "      <td>2022</td>\n",
       "      <td>1</td>\n",
       "      <td>10.611.390</td>\n",
       "      <td>12.619</td>\n",
       "      <td>10.624.009</td>\n",
       "      <td>Ene-Mar 2022</td>\n",
       "    </tr>\n",
       "    <tr>\n",
       "      <th>3</th>\n",
       "      <td>2021</td>\n",
       "      <td>4</td>\n",
       "      <td>10.476.933</td>\n",
       "      <td>12.861</td>\n",
       "      <td>10.489.794</td>\n",
       "      <td>Oct-Dic 2021</td>\n",
       "    </tr>\n",
       "    <tr>\n",
       "      <th>4</th>\n",
       "      <td>2021</td>\n",
       "      <td>3</td>\n",
       "      <td>10.075.184</td>\n",
       "      <td>10.357</td>\n",
       "      <td>10.085.541</td>\n",
       "      <td>Jul-Sept 2021</td>\n",
       "    </tr>\n",
       "  </tbody>\n",
       "</table>\n",
       "</div>"
      ],
      "text/plain": [
       "    Año  Trimestre Banda ancha fija  Dial up       Total        Periodo\n",
       "0  2022          3       11.078.691   12.437  11.091.128  Jul-Sept 2022\n",
       "1  2022          2       10.946.248   12.436  10.958.684   Abr-Jun 2022\n",
       "2  2022          1       10.611.390   12.619  10.624.009   Ene-Mar 2022\n",
       "3  2021          4       10.476.933   12.861  10.489.794   Oct-Dic 2021\n",
       "4  2021          3       10.075.184   10.357  10.085.541  Jul-Sept 2021"
      ]
     },
     "execution_count": 79,
     "metadata": {},
     "output_type": "execute_result"
    }
   ],
   "source": [
    "I_BaF.head()"
   ]
  },
  {
   "cell_type": "code",
   "execution_count": 69,
   "metadata": {},
   "outputs": [
    {
     "name": "stdout",
     "output_type": "stream",
     "text": [
      "<class 'pandas.core.frame.DataFrame'>\n",
      "RangeIndex: 35 entries, 0 to 34\n",
      "Data columns (total 6 columns):\n",
      " #   Column            Non-Null Count  Dtype  \n",
      "---  ------            --------------  -----  \n",
      " 0   Año               35 non-null     int64  \n",
      " 1   Trimestre         35 non-null     int64  \n",
      " 2   Banda ancha fija  35 non-null     object \n",
      " 3   Dial up           35 non-null     float64\n",
      " 4   Total             35 non-null     object \n",
      " 5   Periodo           35 non-null     object \n",
      "dtypes: float64(1), int64(2), object(3)\n",
      "memory usage: 1.8+ KB\n"
     ]
    }
   ],
   "source": [
    "I_BaF.info()"
   ]
  },
  {
   "attachments": {},
   "cell_type": "markdown",
   "metadata": {},
   "source": [
    "transformaciones pertinentes a cada columna"
   ]
  },
  {
   "cell_type": "code",
   "execution_count": 82,
   "metadata": {},
   "outputs": [
    {
     "name": "stderr",
     "output_type": "stream",
     "text": [
      "C:\\Users\\alumno\\AppData\\Local\\Temp\\ipykernel_536\\3307235929.py:2: FutureWarning: The default value of regex will change from True to False in a future version. In addition, single character regular expressions will *not* be treated as literal strings when regex=True.\n",
      "  I_BaF['Banda ancha fija'] = I_BaF['Banda ancha fija'].str.replace('.','')\n"
     ]
    }
   ],
   "source": [
    "#debo transformar  banda ancha y total a floaty periodo a fecha\n",
    "I_BaF['Banda ancha fija'] = I_BaF['Banda ancha fija'].str.replace('.','')\n",
    "I_BaF['Banda ancha fija'] = I_BaF['Banda ancha fija'].astype('float')"
   ]
  },
  {
   "cell_type": "code",
   "execution_count": 83,
   "metadata": {},
   "outputs": [
    {
     "name": "stderr",
     "output_type": "stream",
     "text": [
      "C:\\Users\\alumno\\AppData\\Local\\Temp\\ipykernel_536\\3022686986.py:1: FutureWarning: The default value of regex will change from True to False in a future version. In addition, single character regular expressions will *not* be treated as literal strings when regex=True.\n",
      "  I_BaF['Total'] = I_BaF['Total'].str.replace('.','')\n"
     ]
    }
   ],
   "source": [
    "I_BaF['Total'] = I_BaF['Total'].str.replace('.','')\n",
    "I_BaF['Total'] = I_BaF['Total'].astype('float')"
   ]
  },
  {
   "cell_type": "code",
   "execution_count": 115,
   "metadata": {},
   "outputs": [],
   "source": [
    "#pase todas letras a minuscula para mejor transformacion\n",
    "I_BaF['Periodo'] = I_BaF['Periodo'].apply(lambda x: x.lower())"
   ]
  },
  {
   "cell_type": "code",
   "execution_count": 116,
   "metadata": {},
   "outputs": [],
   "source": [
    "#algunas columnas tenian ese termino los reeplace para poder pasarlo a datetime\n",
    "I_BaF['Periodo'] = I_BaF['Periodo'].str.replace('sept','sep')"
   ]
  },
  {
   "cell_type": "code",
   "execution_count": null,
   "metadata": {},
   "outputs": [],
   "source": [
    "I_BaF['Periodo'] = pd.to_datetime(I_BaF['Periodo'])\n"
   ]
  },
  {
   "cell_type": "code",
   "execution_count": null,
   "metadata": {},
   "outputs": [],
   "source": [
    "I_BaF['Fecha'] = pd.to_datetime(I_BaF['Trimestre'], format='%b %Y')\n"
   ]
  },
  {
   "cell_type": "code",
   "execution_count": 119,
   "metadata": {},
   "outputs": [],
   "source": [
    "#aca transformo a datetime#\n",
    "import datetime\n",
    "def trimestre_a_fecha(trimestre):\n",
    "    meses = {'ene': 1, 'feb': 2, 'mar': 3, 'abr': 4, 'may': 5, 'jun': 6, 'jul': 7, 'ago': 8, 'sep': 9, 'oct': 10, 'nov': 11, 'dic': 12}\n",
    "    partes = trimestre.split('-')\n",
    "    mes = meses[partes[0].lower()]\n",
    "    año = int(partes[1])\n",
    "    fecha = datetime.datetime(año, mes, 1)\n",
    "    return fecha\n"
   ]
  },
  {
   "cell_type": "code",
   "execution_count": null,
   "metadata": {},
   "outputs": [],
   "source": [
    "I_BaF['Fecha'] = I_BaF['Trimestre'].apply(trimestre_a_fecha)\n"
   ]
  },
  {
   "cell_type": "code",
   "execution_count": 121,
   "metadata": {},
   "outputs": [],
   "source": [
    "data = I_BaF\n",
    "# Exportar el DataFrame a un archivo CSV\n",
    "data.to_csv('(I_BanchaAngostaportimestre.csv', index=False)"
   ]
  },
  {
   "cell_type": "code",
   "execution_count": 123,
   "metadata": {},
   "outputs": [
    {
     "data": {
      "text/html": [
       "<div>\n",
       "<style scoped>\n",
       "    .dataframe tbody tr th:only-of-type {\n",
       "        vertical-align: middle;\n",
       "    }\n",
       "\n",
       "    .dataframe tbody tr th {\n",
       "        vertical-align: top;\n",
       "    }\n",
       "\n",
       "    .dataframe thead th {\n",
       "        text-align: right;\n",
       "    }\n",
       "</style>\n",
       "<table border=\"1\" class=\"dataframe\">\n",
       "  <thead>\n",
       "    <tr style=\"text-align: right;\">\n",
       "      <th></th>\n",
       "      <th>Año</th>\n",
       "      <th>Banda ancha fija</th>\n",
       "      <th>Dial up</th>\n",
       "      <th>Total</th>\n",
       "    </tr>\n",
       "  </thead>\n",
       "  <tbody>\n",
       "    <tr>\n",
       "      <th>count</th>\n",
       "      <td>35.000000</td>\n",
       "      <td>3.500000e+01</td>\n",
       "      <td>35.000000</td>\n",
       "      <td>3.500000e+01</td>\n",
       "    </tr>\n",
       "    <tr>\n",
       "      <th>mean</th>\n",
       "      <td>2017.885714</td>\n",
       "      <td>8.274417e+06</td>\n",
       "      <td>23.383371</td>\n",
       "      <td>8.297800e+06</td>\n",
       "    </tr>\n",
       "    <tr>\n",
       "      <th>std</th>\n",
       "      <td>2.564135</td>\n",
       "      <td>1.408774e+06</td>\n",
       "      <td>10.087397</td>\n",
       "      <td>1.399611e+06</td>\n",
       "    </tr>\n",
       "    <tr>\n",
       "      <th>min</th>\n",
       "      <td>2014.000000</td>\n",
       "      <td>6.362108e+06</td>\n",
       "      <td>9.991000</td>\n",
       "      <td>6.398398e+06</td>\n",
       "    </tr>\n",
       "    <tr>\n",
       "      <th>25%</th>\n",
       "      <td>2016.000000</td>\n",
       "      <td>7.024946e+06</td>\n",
       "      <td>12.436500</td>\n",
       "      <td>7.057455e+06</td>\n",
       "    </tr>\n",
       "    <tr>\n",
       "      <th>50%</th>\n",
       "      <td>2018.000000</td>\n",
       "      <td>8.083533e+06</td>\n",
       "      <td>26.911000</td>\n",
       "      <td>8.110444e+06</td>\n",
       "    </tr>\n",
       "    <tr>\n",
       "      <th>75%</th>\n",
       "      <td>2020.000000</td>\n",
       "      <td>9.244537e+06</td>\n",
       "      <td>32.508500</td>\n",
       "      <td>9.260442e+06</td>\n",
       "    </tr>\n",
       "    <tr>\n",
       "      <th>max</th>\n",
       "      <td>2022.000000</td>\n",
       "      <td>1.107869e+07</td>\n",
       "      <td>39.324000</td>\n",
       "      <td>1.109113e+07</td>\n",
       "    </tr>\n",
       "  </tbody>\n",
       "</table>\n",
       "</div>"
      ],
      "text/plain": [
       "               Año  Banda ancha fija    Dial up         Total\n",
       "count    35.000000      3.500000e+01  35.000000  3.500000e+01\n",
       "mean   2017.885714      8.274417e+06  23.383371  8.297800e+06\n",
       "std       2.564135      1.408774e+06  10.087397  1.399611e+06\n",
       "min    2014.000000      6.362108e+06   9.991000  6.398398e+06\n",
       "25%    2016.000000      7.024946e+06  12.436500  7.057455e+06\n",
       "50%    2018.000000      8.083533e+06  26.911000  8.110444e+06\n",
       "75%    2020.000000      9.244537e+06  32.508500  9.260442e+06\n",
       "max    2022.000000      1.107869e+07  39.324000  1.109113e+07"
      ]
     },
     "execution_count": 123,
     "metadata": {},
     "output_type": "execute_result"
    }
   ],
   "source": [
    "I_BaF.describe()"
   ]
  },
  {
   "attachments": {},
   "cell_type": "markdown",
   "metadata": {},
   "source": [
    "Puedo observar Internet por velocidad y provincia, hay registros desde el año 2014 hasta el 2022, el último trimestre analizado fue julio-septiembre.el maximo de banda ancha es mayor que dial up"
   ]
  },
  {
   "cell_type": "code",
   "execution_count": 119,
   "metadata": {},
   "outputs": [
    {
     "data": {
      "text/html": [
       "<div>\n",
       "<style scoped>\n",
       "    .dataframe tbody tr th:only-of-type {\n",
       "        vertical-align: middle;\n",
       "    }\n",
       "\n",
       "    .dataframe tbody tr th {\n",
       "        vertical-align: top;\n",
       "    }\n",
       "\n",
       "    .dataframe thead th {\n",
       "        text-align: right;\n",
       "    }\n",
       "</style>\n",
       "<table border=\"1\" class=\"dataframe\">\n",
       "  <thead>\n",
       "    <tr style=\"text-align: right;\">\n",
       "      <th></th>\n",
       "      <th>Provincia</th>\n",
       "      <th>Partido</th>\n",
       "      <th>Localidad</th>\n",
       "      <th>ADSL</th>\n",
       "      <th>CABLEMODEM</th>\n",
       "      <th>DIALUP</th>\n",
       "      <th>FIBRAOPTICA</th>\n",
       "      <th>4G</th>\n",
       "      <th>3G</th>\n",
       "      <th>TELEFONIAFIJA</th>\n",
       "      <th>WIRELESS</th>\n",
       "      <th>SATELITAL</th>\n",
       "    </tr>\n",
       "  </thead>\n",
       "  <tbody>\n",
       "    <tr>\n",
       "      <th>0</th>\n",
       "      <td>BUENOS AIRES</td>\n",
       "      <td>Bahía Blanca</td>\n",
       "      <td>Villa Bordeau</td>\n",
       "      <td>--</td>\n",
       "      <td>--</td>\n",
       "      <td>--</td>\n",
       "      <td>--</td>\n",
       "      <td>SI</td>\n",
       "      <td>SI</td>\n",
       "      <td>--</td>\n",
       "      <td>--</td>\n",
       "      <td>--</td>\n",
       "    </tr>\n",
       "    <tr>\n",
       "      <th>1</th>\n",
       "      <td>BUENOS AIRES</td>\n",
       "      <td>Bahía Blanca</td>\n",
       "      <td>Villa Espora</td>\n",
       "      <td>--</td>\n",
       "      <td>--</td>\n",
       "      <td>--</td>\n",
       "      <td>--</td>\n",
       "      <td>--</td>\n",
       "      <td>--</td>\n",
       "      <td>--</td>\n",
       "      <td>--</td>\n",
       "      <td>--</td>\n",
       "    </tr>\n",
       "    <tr>\n",
       "      <th>2</th>\n",
       "      <td>BUENOS AIRES</td>\n",
       "      <td>Balcarce</td>\n",
       "      <td>Balcarce</td>\n",
       "      <td>SI</td>\n",
       "      <td>SI</td>\n",
       "      <td>SI</td>\n",
       "      <td>SI</td>\n",
       "      <td>SI</td>\n",
       "      <td>SI</td>\n",
       "      <td>SI</td>\n",
       "      <td>SI</td>\n",
       "      <td>--</td>\n",
       "    </tr>\n",
       "    <tr>\n",
       "      <th>3</th>\n",
       "      <td>BUENOS AIRES</td>\n",
       "      <td>Balcarce</td>\n",
       "      <td>Los Pinos</td>\n",
       "      <td>--</td>\n",
       "      <td>--</td>\n",
       "      <td>--</td>\n",
       "      <td>--</td>\n",
       "      <td>--</td>\n",
       "      <td>--</td>\n",
       "      <td>SI</td>\n",
       "      <td>SI</td>\n",
       "      <td>--</td>\n",
       "    </tr>\n",
       "    <tr>\n",
       "      <th>4</th>\n",
       "      <td>BUENOS AIRES</td>\n",
       "      <td>Balcarce</td>\n",
       "      <td>Napaleofú</td>\n",
       "      <td>--</td>\n",
       "      <td>--</td>\n",
       "      <td>--</td>\n",
       "      <td>SI</td>\n",
       "      <td>SI</td>\n",
       "      <td>SI</td>\n",
       "      <td>SI</td>\n",
       "      <td>SI</td>\n",
       "      <td>--</td>\n",
       "    </tr>\n",
       "  </tbody>\n",
       "</table>\n",
       "</div>"
      ],
      "text/plain": [
       "      Provincia       Partido      Localidad ADSL CABLEMODEM DIALUP  \\\n",
       "0  BUENOS AIRES  Bahía Blanca  Villa Bordeau   --         --     --   \n",
       "1  BUENOS AIRES  Bahía Blanca   Villa Espora   --         --     --   \n",
       "2  BUENOS AIRES      Balcarce       Balcarce   SI         SI     SI   \n",
       "3  BUENOS AIRES      Balcarce      Los Pinos   --         --     --   \n",
       "4  BUENOS AIRES      Balcarce      Napaleofú   --         --     --   \n",
       "\n",
       "  FIBRAOPTICA  4G  3G TELEFONIAFIJA WIRELESS SATELITAL  \n",
       "0          --  SI  SI            --       --        --  \n",
       "1          --  --  --            --       --        --  \n",
       "2          SI  SI  SI            SI       SI        --  \n",
       "3          --  --  --            SI       SI        --  \n",
       "4          SI  SI  SI            SI       SI        --  "
      ]
     },
     "execution_count": 119,
     "metadata": {},
     "output_type": "execute_result"
    }
   ],
   "source": [
    "I_loc_conint.head()"
   ]
  },
  {
   "cell_type": "code",
   "execution_count": 121,
   "metadata": {},
   "outputs": [
    {
     "data": {
      "text/html": [
       "<div>\n",
       "<style scoped>\n",
       "    .dataframe tbody tr th:only-of-type {\n",
       "        vertical-align: middle;\n",
       "    }\n",
       "\n",
       "    .dataframe tbody tr th {\n",
       "        vertical-align: top;\n",
       "    }\n",
       "\n",
       "    .dataframe thead th {\n",
       "        text-align: right;\n",
       "    }\n",
       "</style>\n",
       "<table border=\"1\" class=\"dataframe\">\n",
       "  <thead>\n",
       "    <tr style=\"text-align: right;\">\n",
       "      <th></th>\n",
       "      <th>Provincia</th>\n",
       "      <th>Partido</th>\n",
       "      <th>Localidad</th>\n",
       "      <th>ADSL</th>\n",
       "      <th>CABLEMODEM</th>\n",
       "      <th>DIALUP</th>\n",
       "      <th>FIBRAOPTICA</th>\n",
       "      <th>4G</th>\n",
       "      <th>3G</th>\n",
       "      <th>TELEFONIAFIJA</th>\n",
       "      <th>WIRELESS</th>\n",
       "      <th>SATELITAL</th>\n",
       "    </tr>\n",
       "  </thead>\n",
       "  <tbody>\n",
       "    <tr>\n",
       "      <th>count</th>\n",
       "      <td>4312</td>\n",
       "      <td>4312</td>\n",
       "      <td>4312</td>\n",
       "      <td>4312</td>\n",
       "      <td>4312</td>\n",
       "      <td>4312</td>\n",
       "      <td>4312</td>\n",
       "      <td>4312</td>\n",
       "      <td>4312</td>\n",
       "      <td>4312</td>\n",
       "      <td>4312</td>\n",
       "      <td>4312</td>\n",
       "    </tr>\n",
       "    <tr>\n",
       "      <th>unique</th>\n",
       "      <td>24</td>\n",
       "      <td>444</td>\n",
       "      <td>3912</td>\n",
       "      <td>2</td>\n",
       "      <td>2</td>\n",
       "      <td>2</td>\n",
       "      <td>2</td>\n",
       "      <td>2</td>\n",
       "      <td>2</td>\n",
       "      <td>2</td>\n",
       "      <td>2</td>\n",
       "      <td>2</td>\n",
       "    </tr>\n",
       "    <tr>\n",
       "      <th>top</th>\n",
       "      <td>BUENOS AIRES</td>\n",
       "      <td>General Roca</td>\n",
       "      <td>San Pedro</td>\n",
       "      <td>--</td>\n",
       "      <td>--</td>\n",
       "      <td>--</td>\n",
       "      <td>--</td>\n",
       "      <td>SI</td>\n",
       "      <td>--</td>\n",
       "      <td>SI</td>\n",
       "      <td>SI</td>\n",
       "      <td>--</td>\n",
       "    </tr>\n",
       "    <tr>\n",
       "      <th>freq</th>\n",
       "      <td>901</td>\n",
       "      <td>85</td>\n",
       "      <td>12</td>\n",
       "      <td>3179</td>\n",
       "      <td>3436</td>\n",
       "      <td>3909</td>\n",
       "      <td>2866</td>\n",
       "      <td>2574</td>\n",
       "      <td>2432</td>\n",
       "      <td>2162</td>\n",
       "      <td>2242</td>\n",
       "      <td>3233</td>\n",
       "    </tr>\n",
       "  </tbody>\n",
       "</table>\n",
       "</div>"
      ],
      "text/plain": [
       "           Provincia       Partido  Localidad  ADSL CABLEMODEM DIALUP  \\\n",
       "count           4312          4312       4312  4312       4312   4312   \n",
       "unique            24           444       3912     2          2      2   \n",
       "top     BUENOS AIRES  General Roca  San Pedro    --         --     --   \n",
       "freq             901            85         12  3179       3436   3909   \n",
       "\n",
       "       FIBRAOPTICA    4G    3G TELEFONIAFIJA WIRELESS SATELITAL  \n",
       "count         4312  4312  4312          4312     4312      4312  \n",
       "unique           2     2     2             2        2         2  \n",
       "top             --    SI    --            SI       SI        --  \n",
       "freq          2866  2574  2432          2162     2242      3233  "
      ]
     },
     "execution_count": 121,
     "metadata": {},
     "output_type": "execute_result"
    }
   ],
   "source": [
    "I_loc_conint.describe()"
   ]
  },
  {
   "cell_type": "code",
   "execution_count": 125,
   "metadata": {},
   "outputs": [
    {
     "data": {
      "text/plain": [
       "<bound method Series.unique of 0        --\n",
       "1       NaN\n",
       "2       NaN\n",
       "3       NaN\n",
       "4        --\n",
       "       ... \n",
       "4307     SI\n",
       "4308     --\n",
       "4309    NaN\n",
       "4310    NaN\n",
       "4311     --\n",
       "Name: ADSL, Length: 4312, dtype: object>"
      ]
     },
     "execution_count": 125,
     "metadata": {},
     "output_type": "execute_result"
    }
   ],
   "source": [
    "I_loc_conint['ADSL'].unique"
   ]
  },
  {
   "cell_type": "code",
   "execution_count": 126,
   "metadata": {},
   "outputs": [
    {
     "data": {
      "text/plain": [
       "Provincia      1425\n",
       "Unnamed: 1     1431\n",
       "Localidad      1445\n",
       "ADSL           1447\n",
       "CABLEMODEM     1433\n",
       "Unnamed: 5     1433\n",
       "FIBRAOPTICA    1442\n",
       "4G             1446\n",
       "3G             1429\n",
       "Unnamed: 9     1434\n",
       "WIRELESS       1441\n",
       "Unnamed: 11    1437\n",
       "dtype: int64"
      ]
     },
     "execution_count": 126,
     "metadata": {},
     "output_type": "execute_result"
    }
   ],
   "source": [
    "I_loc_conint.isna().sum()"
   ]
  },
  {
   "attachments": {},
   "cell_type": "markdown",
   "metadata": {},
   "source": [
    "Los nan se deben a que petenencen a otra bajada de internet"
   ]
  },
  {
   "cell_type": "code",
   "execution_count": 127,
   "metadata": {},
   "outputs": [
    {
     "name": "stdout",
     "output_type": "stream",
     "text": [
      "<class 'pandas.core.frame.DataFrame'>\n",
      "RangeIndex: 4312 entries, 0 to 4311\n",
      "Data columns (total 12 columns):\n",
      " #   Column       Non-Null Count  Dtype \n",
      "---  ------       --------------  ----- \n",
      " 0   Provincia    2887 non-null   object\n",
      " 1   Unnamed: 1   2881 non-null   object\n",
      " 2   Localidad    2867 non-null   object\n",
      " 3   ADSL         2865 non-null   object\n",
      " 4   CABLEMODEM   2879 non-null   object\n",
      " 5   Unnamed: 5   2879 non-null   object\n",
      " 6   FIBRAOPTICA  2870 non-null   object\n",
      " 7   4G           2866 non-null   object\n",
      " 8   3G           2883 non-null   object\n",
      " 9   Unnamed: 9   2878 non-null   object\n",
      " 10  WIRELESS     2871 non-null   object\n",
      " 11  Unnamed: 11  2875 non-null   object\n",
      "dtypes: object(12)\n",
      "memory usage: 404.4+ KB\n"
     ]
    }
   ],
   "source": [
    "I_loc_conint.info()"
   ]
  },
  {
   "attachments": {},
   "cell_type": "markdown",
   "metadata": {},
   "source": [
    "* Analisis de indicadores Macroeconomicos"
   ]
  },
  {
   "cell_type": "code",
   "execution_count": 128,
   "metadata": {},
   "outputs": [],
   "source": [
    "macro = pd.read_csv('DATA\\indicadoresmacro.csv')"
   ]
  },
  {
   "cell_type": "code",
   "execution_count": 129,
   "metadata": {},
   "outputs": [
    {
     "data": {
      "text/html": [
       "<div>\n",
       "<style scoped>\n",
       "    .dataframe tbody tr th:only-of-type {\n",
       "        vertical-align: middle;\n",
       "    }\n",
       "\n",
       "    .dataframe tbody tr th {\n",
       "        vertical-align: top;\n",
       "    }\n",
       "\n",
       "    .dataframe thead th {\n",
       "        text-align: right;\n",
       "    }\n",
       "</style>\n",
       "<table border=\"1\" class=\"dataframe\">\n",
       "  <thead>\n",
       "    <tr style=\"text-align: right;\">\n",
       "      <th></th>\n",
       "      <th>Año</th>\n",
       "      <th>Trimestre</th>\n",
       "      <th>IPC US</th>\n",
       "      <th>IPC AR</th>\n",
       "      <th>USDARS oficial</th>\n",
       "      <th>USDARS blue</th>\n",
       "      <th>PBI millones</th>\n",
       "    </tr>\n",
       "  </thead>\n",
       "  <tbody>\n",
       "    <tr>\n",
       "      <th>0</th>\n",
       "      <td>2013</td>\n",
       "      <td>1</td>\n",
       "      <td>232773</td>\n",
       "      <td>298</td>\n",
       "      <td>5,00</td>\n",
       "      <td>9,00</td>\n",
       "      <td>2.888.981</td>\n",
       "    </tr>\n",
       "    <tr>\n",
       "      <th>1</th>\n",
       "      <td>2013</td>\n",
       "      <td>2</td>\n",
       "      <td>233504</td>\n",
       "      <td>309</td>\n",
       "      <td>5,00</td>\n",
       "      <td>9,00</td>\n",
       "      <td>3.387.811</td>\n",
       "    </tr>\n",
       "    <tr>\n",
       "      <th>2</th>\n",
       "      <td>2013</td>\n",
       "      <td>3</td>\n",
       "      <td>234149</td>\n",
       "      <td>331</td>\n",
       "      <td>6,00</td>\n",
       "      <td>10,00</td>\n",
       "      <td>3.436.547</td>\n",
       "    </tr>\n",
       "    <tr>\n",
       "      <th>3</th>\n",
       "      <td>2013</td>\n",
       "      <td>4</td>\n",
       "      <td>233049</td>\n",
       "      <td>351</td>\n",
       "      <td>6,00</td>\n",
       "      <td>11,00</td>\n",
       "      <td>3.679.896</td>\n",
       "    </tr>\n",
       "    <tr>\n",
       "      <th>4</th>\n",
       "      <td>2014</td>\n",
       "      <td>1</td>\n",
       "      <td>236293</td>\n",
       "      <td>402</td>\n",
       "      <td>8,00</td>\n",
       "      <td>11,00</td>\n",
       "      <td>3.917.649</td>\n",
       "    </tr>\n",
       "  </tbody>\n",
       "</table>\n",
       "</div>"
      ],
      "text/plain": [
       "    Año  Trimestre  IPC US  IPC AR USDARS oficial USDARS blue PBI millones\n",
       "0  2013          1  232773     298           5,00        9,00    2.888.981\n",
       "1  2013          2  233504     309           5,00        9,00    3.387.811\n",
       "2  2013          3  234149     331           6,00       10,00    3.436.547\n",
       "3  2013          4  233049     351           6,00       11,00    3.679.896\n",
       "4  2014          1  236293     402           8,00       11,00    3.917.649"
      ]
     },
     "execution_count": 129,
     "metadata": {},
     "output_type": "execute_result"
    }
   ],
   "source": [
    "macro.head()"
   ]
  },
  {
   "cell_type": "code",
   "execution_count": 130,
   "metadata": {},
   "outputs": [
    {
     "name": "stdout",
     "output_type": "stream",
     "text": [
      "<class 'pandas.core.frame.DataFrame'>\n",
      "RangeIndex: 22 entries, 0 to 21\n",
      "Data columns (total 7 columns):\n",
      " #   Column          Non-Null Count  Dtype \n",
      "---  ------          --------------  ----- \n",
      " 0   Año             22 non-null     int64 \n",
      " 1   Trimestre       22 non-null     int64 \n",
      " 2   IPC US          22 non-null     int64 \n",
      " 3   IPC AR          22 non-null     int64 \n",
      " 4   USDARS oficial  22 non-null     object\n",
      " 5   USDARS blue     22 non-null     object\n",
      " 6   PBI millones    21 non-null     object\n",
      "dtypes: int64(4), object(3)\n",
      "memory usage: 1.3+ KB\n"
     ]
    }
   ],
   "source": [
    "macro.info()"
   ]
  },
  {
   "cell_type": "code",
   "execution_count": 131,
   "metadata": {},
   "outputs": [
    {
     "data": {
      "text/html": [
       "<div>\n",
       "<style scoped>\n",
       "    .dataframe tbody tr th:only-of-type {\n",
       "        vertical-align: middle;\n",
       "    }\n",
       "\n",
       "    .dataframe tbody tr th {\n",
       "        vertical-align: top;\n",
       "    }\n",
       "\n",
       "    .dataframe thead th {\n",
       "        text-align: right;\n",
       "    }\n",
       "</style>\n",
       "<table border=\"1\" class=\"dataframe\">\n",
       "  <thead>\n",
       "    <tr style=\"text-align: right;\">\n",
       "      <th></th>\n",
       "      <th>Año</th>\n",
       "      <th>Trimestre</th>\n",
       "      <th>IPC US</th>\n",
       "      <th>IPC AR</th>\n",
       "    </tr>\n",
       "  </thead>\n",
       "  <tbody>\n",
       "    <tr>\n",
       "      <th>count</th>\n",
       "      <td>22.000000</td>\n",
       "      <td>22.000000</td>\n",
       "      <td>22.000000</td>\n",
       "      <td>22.000000</td>\n",
       "    </tr>\n",
       "    <tr>\n",
       "      <th>mean</th>\n",
       "      <td>2015.272727</td>\n",
       "      <td>2.409091</td>\n",
       "      <td>239811.500000</td>\n",
       "      <td>657.000000</td>\n",
       "    </tr>\n",
       "    <tr>\n",
       "      <th>std</th>\n",
       "      <td>1.638287</td>\n",
       "      <td>1.140555</td>\n",
       "      <td>5470.373764</td>\n",
       "      <td>268.532697</td>\n",
       "    </tr>\n",
       "    <tr>\n",
       "      <th>min</th>\n",
       "      <td>2013.000000</td>\n",
       "      <td>1.000000</td>\n",
       "      <td>232773.000000</td>\n",
       "      <td>298.000000</td>\n",
       "    </tr>\n",
       "    <tr>\n",
       "      <th>25%</th>\n",
       "      <td>2014.000000</td>\n",
       "      <td>1.250000</td>\n",
       "      <td>236162.500000</td>\n",
       "      <td>440.000000</td>\n",
       "    </tr>\n",
       "    <tr>\n",
       "      <th>50%</th>\n",
       "      <td>2015.000000</td>\n",
       "      <td>2.000000</td>\n",
       "      <td>238237.500000</td>\n",
       "      <td>602.500000</td>\n",
       "    </tr>\n",
       "    <tr>\n",
       "      <th>75%</th>\n",
       "      <td>2016.750000</td>\n",
       "      <td>3.000000</td>\n",
       "      <td>243208.750000</td>\n",
       "      <td>868.250000</td>\n",
       "    </tr>\n",
       "    <tr>\n",
       "      <th>max</th>\n",
       "      <td>2018.000000</td>\n",
       "      <td>4.000000</td>\n",
       "      <td>251989.000000</td>\n",
       "      <td>1169.000000</td>\n",
       "    </tr>\n",
       "  </tbody>\n",
       "</table>\n",
       "</div>"
      ],
      "text/plain": [
       "               Año  Trimestre         IPC US       IPC AR\n",
       "count    22.000000  22.000000      22.000000    22.000000\n",
       "mean   2015.272727   2.409091  239811.500000   657.000000\n",
       "std       1.638287   1.140555    5470.373764   268.532697\n",
       "min    2013.000000   1.000000  232773.000000   298.000000\n",
       "25%    2014.000000   1.250000  236162.500000   440.000000\n",
       "50%    2015.000000   2.000000  238237.500000   602.500000\n",
       "75%    2016.750000   3.000000  243208.750000   868.250000\n",
       "max    2018.000000   4.000000  251989.000000  1169.000000"
      ]
     },
     "execution_count": 131,
     "metadata": {},
     "output_type": "execute_result"
    }
   ],
   "source": [
    "macro.describe()"
   ]
  },
  {
   "attachments": {},
   "cell_type": "markdown",
   "metadata": {},
   "source": [
    "anaisis realizado a Los Indicadores Macroeconomicos es que tiene un reistro trimestral desde 2013 hasta 2018, que el poder adquisitivo de USA aumento sinificativamente en el periodo analizado, lo cual se traduce a que su costo de vida aumentó, en comparacioó al de argentina. cabe tambien mencionar que en ese periodo El INDEC (Instituto Nacional de Estadísticas y Censos) es el organismo público encargado de producir y difundir información estadística oficial en Argentina, no funcionaba debidamente."
   ]
  },
  {
   "attachments": {},
   "cell_type": "markdown",
   "metadata": {},
   "source": [
    "* Analisis Penetracion de Internet a 100 Hogares"
   ]
  },
  {
   "cell_type": "code",
   "execution_count": 132,
   "metadata": {},
   "outputs": [],
   "source": [
    "I_100Hogares = pd.read_csv('DATA\\Internet_Penetracion.csv')"
   ]
  },
  {
   "cell_type": "code",
   "execution_count": 133,
   "metadata": {},
   "outputs": [
    {
     "data": {
      "text/html": [
       "<div>\n",
       "<style scoped>\n",
       "    .dataframe tbody tr th:only-of-type {\n",
       "        vertical-align: middle;\n",
       "    }\n",
       "\n",
       "    .dataframe tbody tr th {\n",
       "        vertical-align: top;\n",
       "    }\n",
       "\n",
       "    .dataframe thead th {\n",
       "        text-align: right;\n",
       "    }\n",
       "</style>\n",
       "<table border=\"1\" class=\"dataframe\">\n",
       "  <thead>\n",
       "    <tr style=\"text-align: right;\">\n",
       "      <th></th>\n",
       "      <th>Año</th>\n",
       "      <th>Trimestre</th>\n",
       "      <th>Provincia</th>\n",
       "      <th>Accesos por cada 100 hogares</th>\n",
       "    </tr>\n",
       "  </thead>\n",
       "  <tbody>\n",
       "    <tr>\n",
       "      <th>0</th>\n",
       "      <td>2022</td>\n",
       "      <td>3</td>\n",
       "      <td>Buenos Aires</td>\n",
       "      <td>78,11</td>\n",
       "    </tr>\n",
       "    <tr>\n",
       "      <th>1</th>\n",
       "      <td>2022</td>\n",
       "      <td>3</td>\n",
       "      <td>Capital Federal</td>\n",
       "      <td>122,28</td>\n",
       "    </tr>\n",
       "    <tr>\n",
       "      <th>2</th>\n",
       "      <td>2022</td>\n",
       "      <td>3</td>\n",
       "      <td>Catamarca</td>\n",
       "      <td>65,33</td>\n",
       "    </tr>\n",
       "    <tr>\n",
       "      <th>3</th>\n",
       "      <td>2022</td>\n",
       "      <td>3</td>\n",
       "      <td>Chaco</td>\n",
       "      <td>43,86</td>\n",
       "    </tr>\n",
       "    <tr>\n",
       "      <th>4</th>\n",
       "      <td>2022</td>\n",
       "      <td>3</td>\n",
       "      <td>Chubut</td>\n",
       "      <td>84,38</td>\n",
       "    </tr>\n",
       "  </tbody>\n",
       "</table>\n",
       "</div>"
      ],
      "text/plain": [
       "    Año  Trimestre        Provincia Accesos por cada 100 hogares\n",
       "0  2022          3     Buenos Aires                        78,11\n",
       "1  2022          3  Capital Federal                       122,28\n",
       "2  2022          3        Catamarca                        65,33\n",
       "3  2022          3            Chaco                        43,86\n",
       "4  2022          3           Chubut                        84,38"
      ]
     },
     "execution_count": 133,
     "metadata": {},
     "output_type": "execute_result"
    }
   ],
   "source": [
    "I_100Hogares.head()"
   ]
  },
  {
   "cell_type": "code",
   "execution_count": 137,
   "metadata": {},
   "outputs": [
    {
     "name": "stdout",
     "output_type": "stream",
     "text": [
      "<class 'pandas.core.frame.DataFrame'>\n",
      "RangeIndex: 840 entries, 0 to 839\n",
      "Data columns (total 4 columns):\n",
      " #   Column                        Non-Null Count  Dtype \n",
      "---  ------                        --------------  ----- \n",
      " 0   Año                           840 non-null    int64 \n",
      " 1   Trimestre                     840 non-null    int64 \n",
      " 2   Provincia                     840 non-null    object\n",
      " 3   Accesos por cada 100 hogares  840 non-null    object\n",
      "dtypes: int64(2), object(2)\n",
      "memory usage: 26.4+ KB\n"
     ]
    }
   ],
   "source": [
    "I_100Hogares.info()"
   ]
  },
  {
   "cell_type": "code",
   "execution_count": 139,
   "metadata": {},
   "outputs": [],
   "source": [
    "#debo convertir la columna  Acceso por c/100 hogares para poder hacer un correcto analisis\n",
    "I_100Hogares['Accesos por cada 100 hogares'] = I_100Hogares['Accesos por cada 100 hogares'].str.replace(',','.')\n",
    "I_100Hogares['Accesos por cada 100 hogares'] = I_100Hogares['Accesos por cada 100 hogares'].astype('float64')"
   ]
  },
  {
   "cell_type": "code",
   "execution_count": 152,
   "metadata": {},
   "outputs": [
    {
     "data": {
      "text/html": [
       "<div>\n",
       "<style scoped>\n",
       "    .dataframe tbody tr th:only-of-type {\n",
       "        vertical-align: middle;\n",
       "    }\n",
       "\n",
       "    .dataframe tbody tr th {\n",
       "        vertical-align: top;\n",
       "    }\n",
       "\n",
       "    .dataframe thead th {\n",
       "        text-align: right;\n",
       "    }\n",
       "</style>\n",
       "<table border=\"1\" class=\"dataframe\">\n",
       "  <thead>\n",
       "    <tr style=\"text-align: right;\">\n",
       "      <th></th>\n",
       "      <th>Trimestre</th>\n",
       "      <th>Provincia</th>\n",
       "    </tr>\n",
       "  </thead>\n",
       "  <tbody>\n",
       "    <tr>\n",
       "      <th>count</th>\n",
       "      <td>840</td>\n",
       "      <td>840</td>\n",
       "    </tr>\n",
       "    <tr>\n",
       "      <th>unique</th>\n",
       "      <td>4</td>\n",
       "      <td>24</td>\n",
       "    </tr>\n",
       "    <tr>\n",
       "      <th>top</th>\n",
       "      <td>3</td>\n",
       "      <td>Buenos Aires</td>\n",
       "    </tr>\n",
       "    <tr>\n",
       "      <th>freq</th>\n",
       "      <td>216</td>\n",
       "      <td>35</td>\n",
       "    </tr>\n",
       "  </tbody>\n",
       "</table>\n",
       "</div>"
      ],
      "text/plain": [
       "       Trimestre     Provincia\n",
       "count        840           840\n",
       "unique         4            24\n",
       "top            3  Buenos Aires\n",
       "freq         216            35"
      ]
     },
     "execution_count": 152,
     "metadata": {},
     "output_type": "execute_result"
    }
   ],
   "source": [
    "I_100Hogares.describe(exclude='number')"
   ]
  },
  {
   "cell_type": "code",
   "execution_count": 153,
   "metadata": {},
   "outputs": [
    {
     "data": {
      "text/html": [
       "<div>\n",
       "<style scoped>\n",
       "    .dataframe tbody tr th:only-of-type {\n",
       "        vertical-align: middle;\n",
       "    }\n",
       "\n",
       "    .dataframe tbody tr th {\n",
       "        vertical-align: top;\n",
       "    }\n",
       "\n",
       "    .dataframe thead th {\n",
       "        text-align: right;\n",
       "    }\n",
       "</style>\n",
       "<table border=\"1\" class=\"dataframe\">\n",
       "  <thead>\n",
       "    <tr style=\"text-align: right;\">\n",
       "      <th></th>\n",
       "      <th>Año</th>\n",
       "      <th>Accesos por cada 100 hogares</th>\n",
       "    </tr>\n",
       "  </thead>\n",
       "  <tbody>\n",
       "    <tr>\n",
       "      <th>count</th>\n",
       "      <td>840.000000</td>\n",
       "      <td>840.000000</td>\n",
       "    </tr>\n",
       "    <tr>\n",
       "      <th>mean</th>\n",
       "      <td>2017.885714</td>\n",
       "      <td>49.065750</td>\n",
       "    </tr>\n",
       "    <tr>\n",
       "      <th>std</th>\n",
       "      <td>2.528745</td>\n",
       "      <td>23.151885</td>\n",
       "    </tr>\n",
       "    <tr>\n",
       "      <th>min</th>\n",
       "      <td>2014.000000</td>\n",
       "      <td>9.350000</td>\n",
       "    </tr>\n",
       "    <tr>\n",
       "      <th>25%</th>\n",
       "      <td>2016.000000</td>\n",
       "      <td>32.107500</td>\n",
       "    </tr>\n",
       "    <tr>\n",
       "      <th>50%</th>\n",
       "      <td>2018.000000</td>\n",
       "      <td>45.900000</td>\n",
       "    </tr>\n",
       "    <tr>\n",
       "      <th>75%</th>\n",
       "      <td>2020.000000</td>\n",
       "      <td>61.865000</td>\n",
       "    </tr>\n",
       "    <tr>\n",
       "      <th>max</th>\n",
       "      <td>2022.000000</td>\n",
       "      <td>124.060000</td>\n",
       "    </tr>\n",
       "  </tbody>\n",
       "</table>\n",
       "</div>"
      ],
      "text/plain": [
       "               Año  Accesos por cada 100 hogares\n",
       "count   840.000000                    840.000000\n",
       "mean   2017.885714                     49.065750\n",
       "std       2.528745                     23.151885\n",
       "min    2014.000000                      9.350000\n",
       "25%    2016.000000                     32.107500\n",
       "50%    2018.000000                     45.900000\n",
       "75%    2020.000000                     61.865000\n",
       "max    2022.000000                    124.060000"
      ]
     },
     "execution_count": 153,
     "metadata": {},
     "output_type": "execute_result"
    }
   ],
   "source": [
    "I_100Hogares.describe()"
   ]
  },
  {
   "attachments": {},
   "cell_type": "markdown",
   "metadata": {},
   "source": [
    "El analisis para Internet cada 100 Hogares es que tiene registros desde 2014, hasta 2022 el maximo alcanzado fue de 124.060.000 y el minimo 9.350.000"
   ]
  },
  {
   "cell_type": "code",
   "execution_count": 158,
   "metadata": {},
   "outputs": [
    {
     "data": {
      "image/png": "[encoded data removed]",
      "text/plain": [
       "<Figure size 432x288 with 1 Axes>"
      ]
     },
     "metadata": {},
     "output_type": "display_data"
    }
   ],
   "source": [
    "#import pandas as pd\n",
    "#import matplotlib.pyplot as plt\n",
    "\n",
    "# cargar los datos en un DataFrame\n",
    "hogar = I_100Hogares\n",
    "\n",
    "# agrupar por provincia y calcular el máximo de \"Accesos por cada 100 hogares\"\n",
    "max_accesos = hogar.groupby('Provincia')['Accesos por cada 100 hogares'].max()\n",
    "\n",
    "# crear el gráfico de barras\n",
    "plt.bar(max_accesos.index, max_accesos.values)\n",
    "\n",
    "# establecer el título y los ejes\n",
    "plt.title('Máximos accesos por cada 100 hogares por provincia')\n",
    "plt.xlabel('Provincia')\n",
    "plt.ylabel('Accesos por cada 100 hogares')\n",
    "plt.xticks(rotation=90)\n",
    "# mostrar el gráfico\n",
    "plt.show()\n"
   ]
  },
  {
   "cell_type": "code",
   "execution_count": 159,
   "metadata": {},
   "outputs": [
    {
     "data": {
      "image/png": "[encoded data removed]",
      "text/plain": [
       "<Figure size 432x288 with 1 Axes>"
      ]
     },
     "metadata": {},
     "output_type": "display_data"
    }
   ],
   "source": [
    "#se grafica las top 5 \n",
    "hogar = I_100Hogares\n",
    "\n",
    "# agrupar por provincia y calcular el máximo de \"Accesos por cada 100 hogares\"\n",
    "max_accesos = hogar.groupby('Provincia')['Accesos por cada 100 hogares'].max()\n",
    "\n",
    "# seleccionar las 5 mayores\n",
    "top5_provincias = max_accesos.nlargest(5)\n",
    "\n",
    "# crear el gráfico de barras\n",
    "plt.bar(top5_provincias.index, top5_provincias.values)\n",
    "\n",
    "# establecer el título y los ejes\n",
    "plt.title('Máximos accesos por cada 100 hogares por provincia (top 5)')\n",
    "plt.xlabel('Provincia')\n",
    "plt.ylabel('Accesos por cada 100 hogares')\n",
    "\n",
    "# rotar los nombres del eje x\n",
    "plt.xticks(rotation=90)\n",
    "\n",
    "# mostrar el gráfico\n",
    "plt.show()\n"
   ]
  }
 ],
 "metadata": {
  "kernelspec": {
   "display_name": "Python 3",
   "language": "python",
   "name": "python3"
  },
  "language_info": {
   "codemirror_mode": {
    "name": "ipython",
    "version": 3
   },
   "file_extension": ".py",
   "mimetype": "text/x-python",
   "name": "python",
   "nbconvert_exporter": "python",
   "pygments_lexer": "ipython3",
   "version": "3.10.10"
  },
  "orig_nbformat": 4
 },
 "nbformat": 4,
 "nbformat_minor": 2
}
